{
 "cells": [
  {
   "cell_type": "code",
   "execution_count": 1,
   "metadata": {
    "executionInfo": {
     "elapsed": 7,
     "status": "ok",
     "timestamp": 1628662958931,
     "user": {
      "displayName": "Sagar Khode",
      "photoUrl": "",
      "userId": "18017962776089305962"
     },
     "user_tz": -330
    },
    "id": "SiAaW_k25QSb"
   },
   "outputs": [],
   "source": [
    "import numpy as np\n",
    "import pandas as pd"
   ]
  },
  {
   "cell_type": "code",
   "execution_count": 2,
   "metadata": {
    "executionInfo": {
     "elapsed": 28996,
     "status": "ok",
     "timestamp": 1628662991420,
     "user": {
      "displayName": "Sagar Khode",
      "photoUrl": "",
      "userId": "18017962776089305962"
     },
     "user_tz": -330
    },
    "id": "UDP9pJxx5iNY"
   },
   "outputs": [],
   "source": [
    "# Code to read csv file into Colaboratory:\n",
    "!pip install -U -q PyDrive\n",
    "from pydrive.auth import GoogleAuth\n",
    "from pydrive.drive import GoogleDrive\n",
    "from google.colab import auth\n",
    "from oauth2client.client import GoogleCredentials\n",
    "# Authenticate and create the PyDrive client.\n",
    "auth.authenticate_user()\n",
    "gauth = GoogleAuth()\n",
    "gauth.credentials = GoogleCredentials.get_application_default()\n",
    "drive = GoogleDrive(gauth)"
   ]
  },
  {
   "cell_type": "code",
   "execution_count": 3,
   "metadata": {
    "executionInfo": {
     "elapsed": 18102,
     "status": "ok",
     "timestamp": 1628663009515,
     "user": {
      "displayName": "Sagar Khode",
      "photoUrl": "",
      "userId": "18017962776089305962"
     },
     "user_tz": -330
    },
    "id": "bvdiRLnN5vk9"
   },
   "outputs": [],
   "source": [
    "import pandas as pd\n",
    "downloaded = drive.CreateFile({'id':'1JnT4GeVfQ6IdVNMiQY265vc9RO42K6NN'}) \n",
    "downloaded.GetContentFile('Data.csv')  \n",
    "downloaded = drive.CreateFile({'id': '1pIf4tm-zbck_kLYkroa_a6vftB5KxTxS'})\n",
    "downloaded.GetContentFile('glove_vectors')\n",
    "\n",
    "downloaded = drive.CreateFile({'id': '1rEXLUijrOxF3eKJXJSv2jx2SgjOR0mLQ'})\n",
    "downloaded.GetContentFile('case_study_1_M3.hdf5')\n"
   ]
  },
  {
   "cell_type": "code",
   "execution_count": 4,
   "metadata": {
    "executionInfo": {
     "elapsed": 1602,
     "status": "ok",
     "timestamp": 1628663011091,
     "user": {
      "displayName": "Sagar Khode",
      "photoUrl": "",
      "userId": "18017962776089305962"
     },
     "user_tz": -330
    },
    "id": "nBkZMayz-4lF"
   },
   "outputs": [],
   "source": [
    "downloaded = drive.CreateFile({'id': '1EIoVy-bHEaaZ9rTlXBAm59rITbGzQBII'})\n",
    "downloaded.GetContentFile('tokenizer.pkl')\n",
    "\n",
    "downloaded = drive.CreateFile({'id': '1gfElSWL6ZGtIty_3LoT_agvqwZXWiOmF'})\n",
    "downloaded.GetContentFile('vectorizer.pkl')"
   ]
  },
  {
   "cell_type": "code",
   "execution_count": 5,
   "metadata": {
    "executionInfo": {
     "elapsed": 2938,
     "status": "ok",
     "timestamp": 1628663014024,
     "user": {
      "displayName": "Sagar Khode",
      "photoUrl": "",
      "userId": "18017962776089305962"
     },
     "user_tz": -330
    },
    "id": "JvFuMzUznP6q"
   },
   "outputs": [],
   "source": [
    "from numpy import array\n",
    "from numpy import asarray\n",
    "from numpy import zeros\n",
    "# import tensorflow as tf\n",
    "from tensorflow.keras.preprocessing.text import Tokenizer\n",
    "from tensorflow.keras.preprocessing.sequence import pad_sequences\n",
    "from tensorflow.keras.models import Sequential\n",
    "from tensorflow.keras.layers import Dense\n",
    "from tensorflow.keras.layers import Flatten\n",
    "from tensorflow.keras.layers import Embedding\n",
    "from tensorflow.keras.layers import Input, Embedding, LSTM, Dense, concatenate, Dropout, BatchNormalization\n",
    "from tensorflow.keras.models import Model\n",
    "from sklearn.metrics import f1_score"
   ]
  },
  {
   "cell_type": "code",
   "execution_count": null,
   "metadata": {
    "id": "cxwi3jM06VLP"
   },
   "outputs": [],
   "source": [
    "Data = pd.read_csv(\"Data.csv\")"
   ]
  },
  {
   "cell_type": "code",
   "execution_count": null,
   "metadata": {
    "id": "fOFiBMBzggaj"
   },
   "outputs": [],
   "source": [
    "Data = Data.fillna(\"\")"
   ]
  },
  {
   "cell_type": "code",
   "execution_count": null,
   "metadata": {
    "colab": {
     "base_uri": "https://localhost:8080/",
     "height": 658
    },
    "executionInfo": {
     "elapsed": 547,
     "status": "ok",
     "timestamp": 1628511951746,
     "user": {
      "displayName": "Sagar Khode",
      "photoUrl": "",
      "userId": "18017962776089305962"
     },
     "user_tz": -330
    },
    "id": "0SXQo6lj4C3-",
    "outputId": "17054aeb-c210-41ea-a284-a174f0b9678a"
   },
   "outputs": [
    {
     "data": {
      "text/html": [
       "<div>\n",
       "<style scoped>\n",
       "    .dataframe tbody tr th:only-of-type {\n",
       "        vertical-align: middle;\n",
       "    }\n",
       "\n",
       "    .dataframe tbody tr th {\n",
       "        vertical-align: top;\n",
       "    }\n",
       "\n",
       "    .dataframe thead th {\n",
       "        text-align: right;\n",
       "    }\n",
       "</style>\n",
       "<table border=\"1\" class=\"dataframe\">\n",
       "  <thead>\n",
       "    <tr style=\"text-align: right;\">\n",
       "      <th></th>\n",
       "      <th>questions_id</th>\n",
       "      <th>questions_title</th>\n",
       "      <th>questions_body</th>\n",
       "      <th>tags_tag_name</th>\n",
       "      <th>professionals_industry</th>\n",
       "    </tr>\n",
       "  </thead>\n",
       "  <tbody>\n",
       "    <tr>\n",
       "      <th>0</th>\n",
       "      <td>0003e7bf48f24b5c985f8fce96e611f3</td>\n",
       "      <td>double major tech academy high school worth</td>\n",
       "      <td>junior h right thinking double major tech academy guaranteed internship thinking worth two tech classes back back whole senior year take college classes nearest community college know fact not soo much time give something not gonna help worth information technology majoring technology internship time high school</td>\n",
       "      <td>cybersecurity,disciplined,none,tech,womentech</td>\n",
       "      <td>career_counseling computer_software</td>\n",
       "    </tr>\n",
       "    <tr>\n",
       "      <th>1</th>\n",
       "      <td>0006609dd4da40dcaa5a83e0499aba14</td>\n",
       "      <td>declare minor undergrad want lawyer</td>\n",
       "      <td>currently undergrad want go law school lawyer thinking minoring psychology would helpful long run psychology law</td>\n",
       "      <td>business,career,careerpath,college,collegeadmissions,coverletters,government,insurance,internships,interviews,jobcoaching,law,major,minor,networking,professionaltraining,psychology,psychometrics,resumewriting,school</td>\n",
       "      <td>insurance_law professional_training</td>\n",
       "    </tr>\n",
       "  </tbody>\n",
       "</table>\n",
       "</div>"
      ],
      "text/plain": [
       "                       questions_id  ...                professionals_industry\n",
       "0  0003e7bf48f24b5c985f8fce96e611f3  ...  career_counseling computer_software \n",
       "1  0006609dd4da40dcaa5a83e0499aba14  ...   insurance_law professional_training\n",
       "\n",
       "[2 rows x 5 columns]"
      ]
     },
     "execution_count": 32,
     "metadata": {
      "tags": []
     },
     "output_type": "execute_result"
    }
   ],
   "source": [
    "Data.head(2)"
   ]
  },
  {
   "cell_type": "code",
   "execution_count": null,
   "metadata": {
    "id": "zUnPIlbcMmyJ"
   },
   "outputs": [],
   "source": [
    "Data['Complete'] = Data['questions_title'].map(str) + \" \" + Data['questions_body'].map(str)\n",
    "Data.drop(['questions_title','questions_body','questions_id'], axis=1, inplace=True)"
   ]
  },
  {
   "cell_type": "code",
   "execution_count": null,
   "metadata": {
    "colab": {
     "base_uri": "https://localhost:8080/",
     "height": 111
    },
    "executionInfo": {
     "elapsed": 498,
     "status": "ok",
     "timestamp": 1628510883879,
     "user": {
      "displayName": "Sagar Khode",
      "photoUrl": "",
      "userId": "18017962776089305962"
     },
     "user_tz": -330
    },
    "id": "TDzndZXZU49T",
    "outputId": "498a7b2f-640e-4db9-fc48-c5e555b27375"
   },
   "outputs": [
    {
     "data": {
      "text/html": [
       "<div>\n",
       "<style scoped>\n",
       "    .dataframe tbody tr th:only-of-type {\n",
       "        vertical-align: middle;\n",
       "    }\n",
       "\n",
       "    .dataframe tbody tr th {\n",
       "        vertical-align: top;\n",
       "    }\n",
       "\n",
       "    .dataframe thead th {\n",
       "        text-align: right;\n",
       "    }\n",
       "</style>\n",
       "<table border=\"1\" class=\"dataframe\">\n",
       "  <thead>\n",
       "    <tr style=\"text-align: right;\">\n",
       "      <th></th>\n",
       "      <th>tags_tag_name</th>\n",
       "      <th>professionals_industry</th>\n",
       "      <th>Complete</th>\n",
       "    </tr>\n",
       "  </thead>\n",
       "  <tbody>\n",
       "    <tr>\n",
       "      <th>0</th>\n",
       "      <td>cybersecurity,disciplined,none,tech,womentech</td>\n",
       "      <td>career_counseling computer_software</td>\n",
       "      <td>double major tech academy high school worth ju...</td>\n",
       "    </tr>\n",
       "    <tr>\n",
       "      <th>1</th>\n",
       "      <td>business,career,careerpath,college,collegeadmi...</td>\n",
       "      <td>insurance_law professional_training</td>\n",
       "      <td>declare minor undergrad want lawyer currently ...</td>\n",
       "    </tr>\n",
       "  </tbody>\n",
       "</table>\n",
       "</div>"
      ],
      "text/plain": [
       "                                       tags_tag_name  ...                                           Complete\n",
       "0      cybersecurity,disciplined,none,tech,womentech  ...  double major tech academy high school worth ju...\n",
       "1  business,career,careerpath,college,collegeadmi...  ...  declare minor undergrad want lawyer currently ...\n",
       "\n",
       "[2 rows x 3 columns]"
      ]
     },
     "execution_count": 9,
     "metadata": {
      "tags": []
     },
     "output_type": "execute_result"
    }
   ],
   "source": [
    "Data.head(2)"
   ]
  },
  {
   "cell_type": "code",
   "execution_count": null,
   "metadata": {
    "id": "XrvzbPEZooX_"
   },
   "outputs": [],
   "source": [
    "import regex as re\n",
    "Data['tags_tag_name'] = Data['tags_tag_name'].str.replace(\",\", \" \")"
   ]
  },
  {
   "cell_type": "code",
   "execution_count": null,
   "metadata": {
    "colab": {
     "base_uri": "https://localhost:8080/",
     "height": 111
    },
    "executionInfo": {
     "elapsed": 88,
     "status": "ok",
     "timestamp": 1628343082139,
     "user": {
      "displayName": "Sagar Khode",
      "photoUrl": "",
      "userId": "18017962776089305962"
     },
     "user_tz": -330
    },
    "id": "EyZJbt_QPDSc",
    "outputId": "c9577175-fcdd-4c8e-e00c-48b4c94ca3bc"
   },
   "outputs": [
    {
     "data": {
      "text/html": [
       "<div>\n",
       "<style scoped>\n",
       "    .dataframe tbody tr th:only-of-type {\n",
       "        vertical-align: middle;\n",
       "    }\n",
       "\n",
       "    .dataframe tbody tr th {\n",
       "        vertical-align: top;\n",
       "    }\n",
       "\n",
       "    .dataframe thead th {\n",
       "        text-align: right;\n",
       "    }\n",
       "</style>\n",
       "<table border=\"1\" class=\"dataframe\">\n",
       "  <thead>\n",
       "    <tr style=\"text-align: right;\">\n",
       "      <th></th>\n",
       "      <th>tags_tag_name</th>\n",
       "      <th>professionals_industry</th>\n",
       "      <th>Complete</th>\n",
       "    </tr>\n",
       "  </thead>\n",
       "  <tbody>\n",
       "    <tr>\n",
       "      <th>0</th>\n",
       "      <td>cybersecurity disciplined none tech womentech</td>\n",
       "      <td>career_counseling computer_software</td>\n",
       "      <td>double major tech academy high school worth ju...</td>\n",
       "    </tr>\n",
       "    <tr>\n",
       "      <th>1</th>\n",
       "      <td>business career careerpath college collegeadmi...</td>\n",
       "      <td>insurance_law professional_training</td>\n",
       "      <td>declare minor undergrad want lawyer currently ...</td>\n",
       "    </tr>\n",
       "  </tbody>\n",
       "</table>\n",
       "</div>"
      ],
      "text/plain": [
       "                                       tags_tag_name  ...                                           Complete\n",
       "0      cybersecurity disciplined none tech womentech  ...  double major tech academy high school worth ju...\n",
       "1  business career careerpath college collegeadmi...  ...  declare minor undergrad want lawyer currently ...\n",
       "\n",
       "[2 rows x 3 columns]"
      ]
     },
     "execution_count": 11,
     "metadata": {
      "tags": []
     },
     "output_type": "execute_result"
    }
   ],
   "source": [
    "Data.head(2)"
   ]
  },
  {
   "cell_type": "code",
   "execution_count": null,
   "metadata": {
    "id": "gFNCuORaoogi"
   },
   "outputs": [],
   "source": [
    "X = Data.drop(['professionals_industry'], axis=1) \n",
    "y = Data[\"professionals_industry\"]"
   ]
  },
  {
   "cell_type": "code",
   "execution_count": null,
   "metadata": {
    "colab": {
     "base_uri": "https://localhost:8080/"
    },
    "executionInfo": {
     "elapsed": 89,
     "status": "ok",
     "timestamp": 1628343082143,
     "user": {
      "displayName": "Sagar Khode",
      "photoUrl": "",
      "userId": "18017962776089305962"
     },
     "user_tz": -330
    },
    "id": "JLn5HQvNoojz",
    "outputId": "d43b150c-c004-4e65-8beb-362425b20a98"
   },
   "outputs": [
    {
     "data": {
      "text/plain": [
       "0                      career_counseling computer_software\n",
       "1                      insurance_law professional_training\n",
       "2                                                 research\n",
       "3                     professional_trainer writing_editing\n",
       "4                             financial_services_education\n",
       "                               ...                        \n",
       "23926                                                     \n",
       "23927                                          zoo_keeping\n",
       "23928    human_resources information_technology_service...\n",
       "23929                                 education_management\n",
       "23930            accounting_education education_management\n",
       "Name: professionals_industry, Length: 23931, dtype: object"
      ]
     },
     "execution_count": 13,
     "metadata": {
      "tags": []
     },
     "output_type": "execute_result"
    }
   ],
   "source": [
    "y"
   ]
  },
  {
   "cell_type": "code",
   "execution_count": null,
   "metadata": {
    "id": "LrH9NGVpVB9X"
   },
   "outputs": [],
   "source": []
  },
  {
   "cell_type": "code",
   "execution_count": null,
   "metadata": {
    "colab": {
     "base_uri": "https://localhost:8080/",
     "height": 204
    },
    "executionInfo": {
     "elapsed": 80,
     "status": "ok",
     "timestamp": 1628343082146,
     "user": {
      "displayName": "Sagar Khode",
      "photoUrl": "",
      "userId": "18017962776089305962"
     },
     "user_tz": -330
    },
    "id": "IavmKntXgGzb",
    "outputId": "a04c2dae-8991-45e6-c2d9-b0c62a415425"
   },
   "outputs": [
    {
     "data": {
      "text/html": [
       "<div>\n",
       "<style scoped>\n",
       "    .dataframe tbody tr th:only-of-type {\n",
       "        vertical-align: middle;\n",
       "    }\n",
       "\n",
       "    .dataframe tbody tr th {\n",
       "        vertical-align: top;\n",
       "    }\n",
       "\n",
       "    .dataframe thead th {\n",
       "        text-align: right;\n",
       "    }\n",
       "</style>\n",
       "<table border=\"1\" class=\"dataframe\">\n",
       "  <thead>\n",
       "    <tr style=\"text-align: right;\">\n",
       "      <th></th>\n",
       "      <th>tags_tag_name</th>\n",
       "      <th>Complete</th>\n",
       "    </tr>\n",
       "  </thead>\n",
       "  <tbody>\n",
       "    <tr>\n",
       "      <th>0</th>\n",
       "      <td>cybersecurity disciplined none tech womentech</td>\n",
       "      <td>double major tech academy high school worth ju...</td>\n",
       "    </tr>\n",
       "    <tr>\n",
       "      <th>1</th>\n",
       "      <td>business career careerpath college collegeadmi...</td>\n",
       "      <td>declare minor undergrad want lawyer currently ...</td>\n",
       "    </tr>\n",
       "    <tr>\n",
       "      <th>2</th>\n",
       "      <td>brazil children coaching distanceeducation ngo...</td>\n",
       "      <td>get job prefered field degree next biology marine</td>\n",
       "    </tr>\n",
       "    <tr>\n",
       "      <th>3</th>\n",
       "      <td>editing instructionaldesign professionaltraini...</td>\n",
       "      <td>demand gym teachers diminishing hi currently d...</td>\n",
       "    </tr>\n",
       "    <tr>\n",
       "      <th>4</th>\n",
       "      <td>education educator financialservices generalin...</td>\n",
       "      <td>aspiring mathematician stay motivated research...</td>\n",
       "    </tr>\n",
       "  </tbody>\n",
       "</table>\n",
       "</div>"
      ],
      "text/plain": [
       "                                       tags_tag_name                                           Complete\n",
       "0      cybersecurity disciplined none tech womentech  double major tech academy high school worth ju...\n",
       "1  business career careerpath college collegeadmi...  declare minor undergrad want lawyer currently ...\n",
       "2  brazil children coaching distanceeducation ngo...  get job prefered field degree next biology marine\n",
       "3  editing instructionaldesign professionaltraini...  demand gym teachers diminishing hi currently d...\n",
       "4  education educator financialservices generalin...  aspiring mathematician stay motivated research..."
      ]
     },
     "execution_count": 14,
     "metadata": {
      "tags": []
     },
     "output_type": "execute_result"
    }
   ],
   "source": [
    "X.head(5)"
   ]
  },
  {
   "cell_type": "code",
   "execution_count": null,
   "metadata": {
    "colab": {
     "base_uri": "https://localhost:8080/"
    },
    "executionInfo": {
     "elapsed": 79,
     "status": "ok",
     "timestamp": 1628343082147,
     "user": {
      "displayName": "Sagar Khode",
      "photoUrl": "",
      "userId": "18017962776089305962"
     },
     "user_tz": -330
    },
    "id": "e7XBi8v5Pnm6",
    "outputId": "8c5b560b-9328-493b-e6eb-dc9a5bd91298"
   },
   "outputs": [
    {
     "name": "stdout",
     "output_type": "stream",
     "text": [
      "8016\n"
     ]
    }
   ],
   "source": [
    "print(len(pd.unique(Data['professionals_industry'])))"
   ]
  },
  {
   "cell_type": "code",
   "execution_count": null,
   "metadata": {
    "colab": {
     "base_uri": "https://localhost:8080/"
    },
    "executionInfo": {
     "elapsed": 73,
     "status": "ok",
     "timestamp": 1628343082149,
     "user": {
      "displayName": "Sagar Khode",
      "photoUrl": "",
      "userId": "18017962776089305962"
     },
     "user_tz": -330
    },
    "id": "mHKl9s8kGbFQ",
    "outputId": "feb95276-dc5f-4e0a-e7b0-b5d17308c017"
   },
   "outputs": [
    {
     "name": "stdout",
     "output_type": "stream",
     "text": [
      "['career_counseling computer_software'\n",
      " ' insurance_law professional_training' 'research' ...\n",
      " 'accounting primary_secondary_education telecommunications'\n",
      " 'insurance materials_science_industrial_engineering pharmaceuticals'\n",
      " 'human_resources information_technology_services_franchise_owner_commercial_cleaning_business_recruiter_career_counselor']\n"
     ]
    }
   ],
   "source": [
    "print(pd.unique(Data['professionals_industry']))"
   ]
  },
  {
   "cell_type": "code",
   "execution_count": null,
   "metadata": {
    "colab": {
     "base_uri": "https://localhost:8080/"
    },
    "executionInfo": {
     "elapsed": 70,
     "status": "ok",
     "timestamp": 1628343082152,
     "user": {
      "displayName": "Sagar Khode",
      "photoUrl": "",
      "userId": "18017962776089305962"
     },
     "user_tz": -330
    },
    "id": "G47M01igGkCu",
    "outputId": "86384bf3-8b87-4aa4-a37f-196bc14eda4c"
   },
   "outputs": [
    {
     "data": {
      "text/plain": [
       "array(['career_counseling computer_software',\n",
       "       ' insurance_law professional_training', 'research', ...,\n",
       "       'accounting primary_secondary_education telecommunications',\n",
       "       'insurance materials_science_industrial_engineering pharmaceuticals',\n",
       "       'human_resources information_technology_services_franchise_owner_commercial_cleaning_business_recruiter_career_counselor'],\n",
       "      dtype=object)"
      ]
     },
     "execution_count": 17,
     "metadata": {
      "tags": []
     },
     "output_type": "execute_result"
    }
   ],
   "source": [
    "Class_labels = pd.unique(Data['professionals_industry'])\n",
    "Class_labels"
   ]
  },
  {
   "cell_type": "code",
   "execution_count": null,
   "metadata": {
    "colab": {
     "base_uri": "https://localhost:8080/"
    },
    "executionInfo": {
     "elapsed": 64,
     "status": "ok",
     "timestamp": 1628343082153,
     "user": {
      "displayName": "Sagar Khode",
      "photoUrl": "",
      "userId": "18017962776089305962"
     },
     "user_tz": -330
    },
    "id": "kYNuRm-1fciN",
    "outputId": "90d4f185-8946-4c23-c796-5f21c7faaada"
   },
   "outputs": [
    {
     "name": "stdout",
     "output_type": "stream",
     "text": [
      "23877\n"
     ]
    }
   ],
   "source": [
    "print(len(pd.unique(X.Complete)))"
   ]
  },
  {
   "cell_type": "code",
   "execution_count": null,
   "metadata": {
    "colab": {
     "base_uri": "https://localhost:8080/"
    },
    "executionInfo": {
     "elapsed": 57,
     "status": "ok",
     "timestamp": 1628343082154,
     "user": {
      "displayName": "Sagar Khode",
      "photoUrl": "",
      "userId": "18017962776089305962"
     },
     "user_tz": -330
    },
    "id": "j0cIZqzYfQ-d",
    "outputId": "f48fafc2-c4b3-4333-82f5-68195ae3473a"
   },
   "outputs": [
    {
     "data": {
      "text/plain": [
       "(23931, 2)"
      ]
     },
     "execution_count": 19,
     "metadata": {
      "tags": []
     },
     "output_type": "execute_result"
    }
   ],
   "source": [
    "X.shape"
   ]
  },
  {
   "cell_type": "code",
   "execution_count": null,
   "metadata": {
    "id": "xxXY8_cGfRAK"
   },
   "outputs": [],
   "source": []
  },
  {
   "cell_type": "code",
   "execution_count": null,
   "metadata": {
    "id": "ZP4mlMofVKYu"
   },
   "outputs": [],
   "source": [
    "from sklearn.feature_extraction.text import CountVectorizer\n",
    "vectorizer = CountVectorizer()\n",
    "y = vectorizer.fit_transform(y)"
   ]
  },
  {
   "cell_type": "code",
   "execution_count": null,
   "metadata": {
    "id": "jMpVieeyqe9A"
   },
   "outputs": [],
   "source": [
    "feature_names = vectorizer.get_feature_names()"
   ]
  },
  {
   "cell_type": "code",
   "execution_count": null,
   "metadata": {
    "colab": {
     "base_uri": "https://localhost:8080/"
    },
    "executionInfo": {
     "elapsed": 5,
     "status": "ok",
     "timestamp": 1628229125162,
     "user": {
      "displayName": "Sagar Khode",
      "photoUrl": "",
      "userId": "18017962776089305962"
     },
     "user_tz": -330
    },
    "id": "Vb4mMuH4qkyd",
    "outputId": "a08f038a-f0d0-4325-e2c3-a0ed8e6fbcc3"
   },
   "outputs": [
    {
     "name": "stdout",
     "output_type": "stream",
     "text": [
      "1065\n"
     ]
    }
   ],
   "source": [
    "print(len(feature_names))"
   ]
  },
  {
   "cell_type": "code",
   "execution_count": null,
   "metadata": {
    "colab": {
     "base_uri": "https://localhost:8080/"
    },
    "executionInfo": {
     "elapsed": 11,
     "status": "ok",
     "timestamp": 1628229126250,
     "user": {
      "displayName": "Sagar Khode",
      "photoUrl": "",
      "userId": "18017962776089305962"
     },
     "user_tz": -330
    },
    "id": "d7QQmoDCqup9",
    "outputId": "0335f351-083b-483c-b2d9-4fa2f2201cb0"
   },
   "outputs": [
    {
     "name": "stdout",
     "output_type": "stream",
     "text": [
      "['academia', 'academic_advising', 'academic_advisor', 'academic_websites', 'academics', 'accounting', 'accounting_auditing', 'accounting_auditing_learning_development', 'accounting_broker_dealers_hedge_funds_private_equity', 'accounting_commerce_financ_e', 'accounting_education', 'accounting_finance', 'accounting_information_technology', 'accounting_tax_operations_technology', 'acting_motion_pictures_film', 'actor', 'administration', 'administrative', 'administrative_assistance', 'administrative_teaching', 'advancement_engagement', 'advertising', 'advertising_analytics', 'advertising_photography', 'advertising_technology', 'advisory', 'aerospace', 'affordable_housing', 'agency_counseling_matriculating_cgs_lmhc_broadcast_media', 'agriculture', 'airbnb', 'aircraft_maintenance', 'airline_aviation', 'airlines_aviation', 'airlines_aviation_hospitality', 'airlines_aviation_sales_artist_art_museum_chicago_parent_visual_designer', 'alternative_medicine', 'analytical_instruments_medical_devices', 'analytics', 'analytics_technology', 'animal_behavior_welfare', 'animals', 'animation', 'animation_cartooning', 'animation_vfx_video_edition', 'apparel_fashion', 'apparel_fashion_fitness', 'archaeology', 'architecture_civil_engineering', 'architecture_interior_architecture_interior_design', 'architecture_interior_design', 'architecture_planning', 'arco_gas_station', 'army', 'art', 'art_blogging_caregiving', 'art_education', 'art_entertainment_product_design', 'arts_crafts', 'athletics', 'ats', 'attorney_personal_injury', 'automotive', 'automotive_aerospace', 'automotive_digital_marketing', 'automotive_manufacturing', 'aviation', 'aviation_aerospace', 'aviation_maintenance', 'baghdad_medical_city', 'baking_pastry', 'banking', 'banking_capital_markets', 'banking_financial', 'banking_insurance', 'banking_investments', 'banking_major_incident_management', 'barbering', 'bbiology', 'beauty_hair', 'beauty_hairstylist', 'bio_biomedical_engineering', 'bio_medical_engineering', 'biology', 'biology_chemistry', 'biology_research', 'biomedical_engineering', 'biomedical_research', 'biopharmaceutical', 'biotechnology', 'biotechnology_biomedical_engineering', 'biotechnology_consulting', 'biotechnology_medical_device', 'biotechnology_neuroscience_computer_engineering', 'biotechnology_pharmaceutical', 'biotechnology_virology_epidemiology', 'bpo', 'brand_marketing_entertainment', 'broadband', 'broadcast_media', 'broadcast_media_entertainment', 'broadcast_media_telecommunications', 'building_materials', 'business', 'business_corporate_business_startup', 'business_development', 'business_development_electrical_engineering', 'business_journalism', 'business_supplies_equipment', 'business_support', 'cable_broadcast', 'cancer_research', 'capital_markets', 'cardiothoracic_surgery', 'care_giver', 'career_advising_counseling', 'career_coach', 'career_coaching', 'career_counseling', 'career_counseling_certification', 'career_counseling_employment_coaching', 'career_counselor', 'career_development', 'career_management_coach', 'career_services', 'career_workplace_development', 'cell_molecular_biology', 'cellular', 'chef_caterer', 'chemical_engineering', 'chemicals', 'chemicals_pharmaceuticals', 'chemicals_semi_conductor_construction', 'children_youth_family_clinical_social_worker_consumer_goods', 'childrens_women_apparel_fashion', 'civic_social_organization', 'civic_social_organization_non_profit_education_advocacy', 'civil_engineering', 'civil_environmental_chemical_mechanical', 'client_services_legal_field', 'clinical_research_pharma_regulatory_affairs', 'college_access', 'college_access_success', 'college_admissions_career_counseling', 'college_counseling', 'college_credits_higher_education', 'college_student_personnel_career_development', 'commerce', 'commercial_banking', 'commercial_real_estate', 'communications', 'communications_media_marketing_events_management_investments', 'community', 'community_relations', 'compounding_pharmacy', 'computer', 'computer_engineering', 'computer_games', 'computer_hardware', 'computer_hardware_analytics', 'computer_hardware_computer_software_application_troubleshooting_sales', 'computer_hardware_software', 'computer_hardware_storage', 'computer_manufacturing', 'computer_network_security', 'computer_networking', 'computer_networking_broadcasting', 'computer_oem', 'computer_science', 'computer_science_game_design', 'computer_science_healthcare', 'computer_science_tech', 'computer_software', 'computer_software_computer_hardware', 'computer_software_design', 'computer_software_formerly_biology', 'computer_software_project_mgmt', 'computer_software_publishing_manaufacturing', 'computer_software_security_education', 'computer_software_systems', 'computer_solutions', 'computer_tabletop_games', 'computer_technology', 'computers', 'conservation', 'conservation_education_community_wildlife_rehabilitation', 'construction', 'construction_banking_insurance_technology', 'construction_budget_desing_residential_construction_coordination_estimating', 'construction_human_resource', 'construction_hvac', 'construction_military_higher_ed', 'consulting', 'consulting_coaching', 'consulting_counseling_human_resources', 'consulting_engineering', 'consulting_philanthropy', 'consulting_services', 'consumer', 'consumer_devices', 'consumer_electronics', 'consumer_electronics_medical_devices', 'consumer_goods', 'consumer_markets', 'consumer_notebooks', 'consumer_products_aerospace', 'consumer_services', 'consumer_services_call', 'content_marketing_technology_information_technology_services', 'contracts_technology', 'corporate_communications', 'corporate_management', 'corporate_philanthropy', 'corporate_physical_safety_security_property_management', 'corporate_responsibility', 'corporate_social_responsibility', 'cosmetics', 'cosmetics_business_community', 'cosmetology', 'cosmetology_beauty', 'cosmetology_health_wellness_fitness', 'counseling_higher_education_research', 'counselor_writer', 'county_health_human_services', 'creative', 'creative_marketing', 'creative_writing_editing', 'credit_card', 'credit_management', 'criminal_disablity_estate_planning_contracts', 'criminal_justice', 'criminal_justice_law_enforcement_polygraph_examiner_military_business_owner', 'criminology', 'csr', 'cst', 'culinary', 'cultural_resource_management', 'customer_care', 'customer_service_health', 'customer_service_psychology', 'cyber_risk_management', 'cyber_security', 'cyber_security_investigations_legal', 'cybersecurity', 'dance_ecucation', 'dance_performing_arts', 'data_analytics', 'data_science', 'data_science_consulting_services', 'defense_space', 'defense_space_team_building_leadership', 'dell', 'dell_computadores_brasil', 'dell_computers', 'dell_technologies', 'dental_hygiene_preventive_oral_care_specialist', 'dental_practice', 'dental_private_practice', 'dentist', 'dentistry', 'dentistry_health_wellness_fitness', 'dermatology', 'design', 'design_apparel', 'design_communications', 'design_manufacturing_leather_goods', 'design_technology', 'digital_filmmaking', 'digital_marketing', 'digital_media_services', 'digital_photography_computer_graphic', 'digital_product_design', 'doctor', 'documentary_filmmaking_paralegal', 'e_commerce', 'e_learning', 'e_learning_development', 'e_learning_education_business_management', 'e_learning_marketing_entrepreneurship', 'e_learning_writing', 'early_childhood_education', 'ecommerce', 'ecommerce_merchandising', 'economic_development_chamber_commerce_consulting', 'edtech', 'eduation', 'education', 'education_career_advising', 'education_consulting', 'education_employment_training', 'education_finance_management_information_systems_mental_health', 'education_fitness', 'education_health_wellness_fitness', 'education_management', 'education_management_beauty', 'education_management_director_career_development', 'education_management_healthcare_simulation', 'education_math_curriculum_calculus', 'education_nonprofit', 'education_psychology', 'education_sales_training', 'education_tech_media', 'education_technology', 'education_technology_career_coaching', 'education_workforce_development', 'education_writing_editing', 'educational', 'educational_publishing', 'electrical_computer_engineering', 'electrical_electronic_manufacturing', 'electronic_entertainment', 'electronic_music', 'emergency_medicine', 'employment_language_training', 'energy_technology', 'engineering', 'engineering_construction', 'engineering_management_consulting', 'enterprise_software_applications', 'entertainment', 'entertainment_career_strategist', 'entertainment_communications', 'entertainment_fitness', 'entertainment_marketing', 'entertainment_media', 'entertainment_motion_pictures_film_music_festivals', 'entertainment_sports_law', 'entertainment_teaching_poet_editorialist_memoirist_learner', 'entrepreneur', 'entrepreneurship', 'environment', 'environmental_consulting', 'environmental_engineering', 'environmental_science_zoology', 'environmental_services', 'environmental_services_food_safety', 'environmental_services_music_event_management', 'equine_agriculture', 'events_broadcast_television', 'events_marketing', 'events_services', 'executive_coaching', 'executive_office', 'facilities_services', 'family_medical_practice', 'farming', 'federal_law_enforcement', 'federal_regulatory_security_compliance', 'film_stage_acting_directing', 'film_television', 'finance', 'finance_administrative', 'finance_analytics', 'finance_banking', 'finance_entrepreneurship_fashion_sales', 'finance_mortgage_underwriting', 'financial_aid', 'financial_crimes_fraud', 'financial_legal_advisor', 'financial_planning', 'financial_service', 'financial_services', 'financial_services_education', 'financial_services_educational_publishing', 'financial_services_gaming', 'financial_services_hedge_fund_investment_management_portfolio_management_finance', 'financial_services_information_technology_software', 'financial_services_insurance_sales', 'financial_services_non_profit_management', 'financial_services_not_profits_boards', 'financial_services_sales_technology', 'financial_services_technology', 'financial_web_content_management_web_design', 'fine_art', 'fine_art_archaeology_mosaic_art', 'fine_art_illustration', 'fine_art_visual_arts_visual_arts_educator', 'fire_ems', 'fire_protection_engineering', 'fishery', 'food_beverage', 'food_beverages', 'food_beverages_editorial', 'food_beverages_youth_ministry', 'food_production', 'food_vending', 'forensic_biology', 'forensic_chemistry', 'forensic_psychology', 'forensic_science', 'forensics', 'fundraising', 'funeral_service_mortuary_science', 'furniture', 'gambling_casinos', 'game', 'game_design_music_production', 'game_development', 'games', 'games_film', 'general_aviation', 'geology', 'geoscience', 'geotechnical_civil_engineering', 'glass_ceramics_concrete', 'global_internet_security', 'government', 'government_administration', 'government_administration_army', 'government_administration_counseling', 'government_affairs', 'government_human_services_public_health_relations_consultant', 'government_non_profit', 'government_relations', 'government_relations_career', 'government_relations_sales_export_health_products_esl_abroad', 'graphic_design', 'graphic_design_advertising_management', 'graphic_design_art_visual_communications', 'graphic_design_illustration', 'guidance_counselor_education_consultant', 'hair_stylist', 'hardware_sofware_solutions', 'health_care', 'health_care_freelance_graphic_designer', 'health_care_process_improvement', 'health_data_analytics', 'health_education', 'health_industries', 'health_insurance', 'health_psychology_wellness_fitness', 'health_technology_corporate_wellness', 'health_wellness', 'health_wellness_fitness', 'health_wellness_fitness_education_management_entrepreneurship', 'health_wellness_fitness_federal_jobs_internships', 'healthcare', 'healthcare_analytics_operations', 'healthcare_data_analytics', 'healthcare_economics_research', 'healthcare_higher_education', 'healthcare_hr', 'healthcare_pharmaceuticals_life_science', 'healthcare_pharmaceuticals_medical_devices', 'healthcare_pharmacy_benefits_finance', 'healthcare_recreation', 'healthcare_recruiting', 'high_tech', 'high_tech_computer_software', 'high_tech_security_protection', 'higher_education', 'higher_education_aba', 'higher_education_administration', 'higher_education_athletic_training', 'higher_education_career_service', 'higher_education_events_services', 'higher_education_healthcare_action_sports', 'higher_education_information_services', 'higher_education_retail_organizational_behavior', 'higher_education_student_affairs', 'higher_education_technology_performing_arts', 'higher_education_volunteerism', 'higher_educqation_administrative', 'history_poli_sci', 'horticulture_retail_purchasing_writing_editing', 'hospice', 'hospital', 'hospital_health_care', 'hospital_health_care_clinical_laboratory', 'hospital_health_care_consumer_technology_strategy_consulting', 'hospital_health_care_home_health', 'hospital_healthcare_industry', 'hospital_medical_devices', 'hospitality', 'hospitality_business_management', 'hospitality_consulting', 'hospitality_data_analysis', 'hospitality_internet', 'hospitality_project_management_administrative_assistant', 'housing_homeless_services', 'hr', 'human_resource', 'human_resource_management', 'human_resources', 'human_resources_advertising', 'human_resources_financial_services_advising', 'human_resources_medical_devices', 'human_resources_organizational_psychology', 'human_resources_recruiting_social_media_reputation_management_advertisement_creating_placement', 'human_resources_specializing_health_allied_services', 'human_resources_talent_acquisition', 'human_resources_wellness', 'illustration', 'import_export', 'individual_family_services', 'industrial_automation', 'industrial_engine_transmissions_construction_equipment', 'industrial_engineering', 'industrial_instrumentation', 'industrial_organizational_psychology', 'industries', 'information_sciences', 'information_security', 'information_services', 'information_technologies', 'information_technology', 'information_technology_computers_servers', 'information_technology_cyber_security', 'information_technology_security_criminal_justice_casino_operations_table_games', 'information_technology_services', 'information_technology_services_aerospace_maintenance_military', 'information_technology_services_energy', 'information_technology_services_facilities_operations_management_procurement_vendor_management', 'information_technology_services_franchise_owner_commercial_cleaning_business_recruiter_career_counselor', 'information_technology_services_health_care', 'information_technology_services_mortgage_industry', 'infrastucture_telecomuunications', 'instructional_design_e_learning', 'insurance', 'insurance_healthcare_technology', 'insurance_law', 'insurance_sales_construction_estimating_project_management_general_management', 'intelligence_studies', 'interior_design', 'interior_design_construction', 'interior_design_gardening_creative_cooking_marine_biology_writing', 'international_affairs', 'international_affairs_government_public_policy_diplomacy', 'international_affairs_political_science_law', 'international_business', 'international_business_higher_education', 'international_education', 'international_government_affairs', 'international_trade_development', 'internet', 'internet_en', 'internet_entertainment_communications', 'internet_entrepreneurship', 'internet_information_technology_services', 'internet_marketing', 'internet_marketing_technology', 'internet_media', 'internet_mobile_entertainment', 'internet_mobile_tech', 'internet_non_profit', 'internet_saas_startups', 'internet_security_software_computer_hardware', 'internet_software_engineering_backend', 'internet_tech', 'internet_technology', 'internet_tv_advertising', 'investment_banking', 'investment_banking_technology', 'investment_banking_venture', 'investment_management', 'ios_development', 'ip', 'ites', 'jd_bs', 'job_developement', 'journalism', 'journalism_media', 'journalism_media_consultation', 'journalism_writing_editing_teaching_content_development', 'judiciary', 'language', 'law', 'law_enforcement', 'law_enforcement_psychiatry', 'law_human_rights', 'law_information_technology_services', 'law_practice', 'law_practice_healthcare', 'law_practice_immigration', 'law_renewables_environment', 'law_tech_finance', 'lean_six_sigma_computer_hardware_financial_services', 'learning_development', 'learning_difficulties', 'legal', 'legal_services', 'legal_services_education', 'legal_technology_administration', 'legislative_office', 'leisure_travel', 'leisure_travel_broadcasting_event_coordinator', 'leisure_travel_tourism', 'librarianship', 'libraries', 'life_coaching_human_services', 'linguistic_services', 'linux_technology_computer_technician', 'litigation', 'logistics', 'logistics_supply_chain', 'machinery', 'managed_care', 'management', 'management_coaching', 'management_consulting', 'management_consulting_entrepreneurship', 'management_consulting_nonprofit_education', 'management_consulting_organizational_leadership', 'management_consulting_technology', 'management_marketing_consulting', 'manager', 'manufacturing', 'manufacturing_finance', 'manufacturing_philanthropy_software', 'marijuana', 'marine_biology', 'maritime', 'market_research', 'market_research_competitive_intelligence_customer_satisfaction_reporting_analytics', 'marketing', 'marketing_advertising', 'marketing_advertising_editorial_content_management', 'marketing_advertising_film_television_production', 'marketing_advertising_financial_services', 'marketing_advertising_graphic_design', 'marketing_advertising_non_profit_government', 'marketing_advertisment', 'marketing_branding', 'marketing_entertainment', 'marketing_higher_education', 'marketing_public_relations', 'materials_science_industrial_engineering', 'md_anderson_cancer_center', 'mechanic_military', 'mechanical_aerospace_engineering', 'mechanical_electrical_engineering', 'mechanical_engineering', 'mechanical_industrial_engineering', 'mechanical_industrial_engineering_chemicallef_engineer', 'mechanical_industrial_engineering_technical_sales_pharmaceutical_oil_gas_renewable_energy_hydropower_wind_power_aerospace_automotive_industries', 'mechanical_materials_engineering', 'mechatronics', 'media', 'media_advertising', 'media_production', 'media_production_comedy_entertainment_journalism_writing', 'media_production_legal_industry_news', 'media_production_management', 'medical', 'medical_administration', 'medical_device', 'medical_device_instrumentation', 'medical_devices', 'medical_forensics', 'medical_practice', 'medical_practice_anesthesiology_critical_care_medicine', 'medicial_science', 'medicine', 'medicine_health_personal_development', 'medicine_medical_device', 'medicine_radiology', 'mental_health', 'mental_health_care', 'mental_health_care_education', 'mental_health_care_employment_counselor', 'mental_health_care_geriatrics_medical', 'mental_health_care_meetings_events_industry', 'mental_health_care_neuroscience', 'mental_health_care_psychology', 'mental_health_care_social_work', 'mental_healthcare', 'mentoring', 'merchandising', 'mergers_acqusitions', 'metal_coatings_food_beverages_drycleaning', 'microsoft_marketing_technology', 'midwifery', 'military', 'military_human_resources_leadership', 'military_law_enforcement_intelligence', 'military_management_recruiting', 'military_photojournalism', 'military_veterinary_medicine', 'mining_metals', 'mobile', 'mobile_games', 'mobile_gaming', 'mobility', 'mobility_communications_entertainment', 'mortgage', 'mortgage_banking', 'mortgage_loans', 'motion_pictures_film', 'motivational_speaker_freelance_writer_fashion_model_air_personality_tv_radio', 'museums_institutions', 'music', 'music_arts_management', 'music_branding', 'music_education_family_education', 'music_education_higher_education', 'music_entertainment', 'music_ministry_coaching', 'music_production', 'music_wholesale', 'music_writing', 'musical_theatre', 'nanotechnology', 'nasa_robotics', 'navy_cryptology', 'network_engineering', 'network_integration', 'new_media_communications', 'newspapers', 'newspapers_magazines', 'newspapers_news_media', 'non_profit', 'non_profit_entertaiment', 'non_profit_organization', 'non_profit_organization_management', 'non_profit_organization_management_high_school', 'non_profit_organization_management_local_government', 'non_profit_research', 'non_profits_culinary_arts_food_service_management', 'nonprofit', 'nonprofit_higher_education', 'nonprofit_organization_management', 'nonprofit_technology', 'not_profit_museum_management', 'nursing', 'nursing_education', 'nursing_executive', 'nursing_research', 'nutrition', 'occupational_therapy', 'occupational_therapy_education', 'oil_energy', 'oil_energy_manufacturing_brewing_research_academia', 'one', 'online_marketing', 'online_media', 'online_media_social_media', 'online_publishing', 'online_publishing_fitness', 'online_retail_online_education_medical_entertainment', 'operations', 'operations_services_logistics_supply_chain', 'organization_retail_mechanics_hc', 'organizational_practitioner', 'outpatient_physical_therapist', 'outsourcing_offshoring', 'packaging_containers', 'paper_pulp', 'pediatric_dentistry', 'pediatric_health_care_provider', 'performing_arts', 'performing_arts_public_relations', 'perioperative_care_nursing_higher_education', 'personal_organizational_development', 'ph', 'pharma', 'pharmaceutical', 'pharmaceuticals', 'pharmacy', 'pharmacy_benefit_management', 'pharmacy_healthcare', 'philanthropy', 'photography', 'physical_security', 'physical_therapy', 'physician_assistant', 'physics_solid_state_physics_semiconductor_physics_material_science', 'plant_research', 'plastic_surgery', 'plastics', 'political_organization', 'political_science', 'politics', 'post_secondary_education', 'power_generation', 'pr_corporate_photography_design', 'primary_secondary', 'primary_secondary_deaf_education_women_gender_studies', 'primary_secondary_education', 'printing', 'printing_ecommerce', 'private_chef', 'private_company_services', 'private_investigator_insurance_legal', 'procurement_sourcing_information_technology_services', 'product_management_private_yoga', 'production_studio_operator', 'professional_beauty', 'professional_development', 'professional_development_training', 'professional_services', 'professional_soccer', 'professional_trainer', 'professional_training', 'professional_training_career_coaching_community_manager', 'professional_training_coaching', 'professional_training_coaching_technology_professionals', 'professional_training_development', 'professional_training_higher_education', 'professional_training_industry_sales', 'professional_training_leadership_development', 'professional_training_recruiting', 'professor', 'program_development', 'program_project_management', 'programming', 'project_management_event_managemebt', 'property_preservation', 'prosecutor', 'psychology', 'psychology_life_coaching', 'psychology_mass_communication', 'psychology_theatre', 'public_accounting', 'public_education', 'public_health_behavioral_health', 'public_health_neuroscience', 'public_health_ngo_npo', 'public_health_policy_research', 'public_heath', 'public_policy', 'public_relations', 'public_relations_advertising', 'public_relations_communications', 'public_relations_communications_customer_advocacy', 'public_relations_corporate_communications', 'public_relations_education_spirituality', 'public_relations_technology', 'public_safety', 'public_schools', 'public_service', 'publishing', 'pulp_paper_nylon', 'pursuing_edd_tesol_queen_university_belfast_tesol_university_texas', 'radio_music_broadcast', 'radiologic_technologist', 'ranching', 'real_estate', 'real_estate_automotive_life_coach', 'real_estate_design_construction', 'real_estate_finance', 'real_estate_mortgage_finance', 'real_estate_urban_planning', 'recent_college_grad', 'recruiter', 'recruiting', 'recruitment_marketing', 'recruitment_talent_acquisition', 'religious_institutions', 'renewable_energy', 'renewables_environment', 'renewables_environment_medical_device_manufacturing', 'renewables_environment_plus_mechanical_rotating_equipment_design_manufacturing', 'research', 'research_academia', 'research_child_welfare', 'research_clinical_care_psychology_psychiatry_neuroscience', 'research_clinical_laboratory_medical_writing', 'research_communications_conflict_management', 'research_design', 'research_education', 'research_higher_education', 'research_poverty_policy', 'research_psychology', 'research_remediation', 'research_science', 'research_university', 'research_veterinary', 'restaurant_hospitality_staffing_recruiting', 'restaurant_mgt_small_bus_ownership_customer_service', 'restaurants', 'retail', 'retail_apparel_accounting', 'retail_arts', 'retail_consumer', 'retail_consumer_goods', 'retail_ecommerce', 'retail_marketing', 'retail_sales', 'retail_stores', 'retail_tech', 'retired', 'retired_military_federal_law_enfrocement', 'risk', 'risk_assurance', 'risk_management', 'rpo_hr_consulting', 'sales', 'sales_healthcare', 'sales_marketing', 'sales_operations_telecommunications_communications', 'sales_technology', 'salesforce', 'salsa', 'school', 'school_agency_couseling', 'school_counseling', 'school_social_work_special_education_case_management_counseling', 'science', 'science_engineering', 'scientific_research', 'screen_printing', 'screenwriting', 'seattle_university', 'security', 'security_investigations', 'security_investigations_retired_police_officer', 'security_music_photography_video_production', 'semiconductors', 'services', 'small_business_success', 'social_enterprise', 'social_games', 'social_impact_startups', 'social_services', 'social_services_state_government', 'social_work', 'social_work_music_therapy_gerontology', 'social_work_services', 'software', 'software_apps', 'software_development', 'software_engineering', 'software_hardware', 'software_industry', 'software_products', 'software_security', 'software_web', 'solutions', 'sourcing', 'special_events', 'sport_management', 'sporting_goods', 'sports', 'sports_business', 'sports_management_marketing', 'sports_marketing_events_digital', 'sports_media', 'staffing_consulting', 'staffing_recruiting', 'strategic_diversity', 'strategy_healthcare', 'student', 'student_loan_financial_services', 'student_services', 'supply_chain', 'supply_chain_project_management', 'support', 'surgical_technology', 'sustainability', 'switched_ethernet', 'tax', 'tax_accounting', 'tax_financial_services', 'tax_law', 'teacher_training', 'team_ace_entertainment', 'tech', 'tech_design_research', 'tech_legal', 'tech_pr', 'tech_product_management_analytics', 'tech_support', 'technical_customer_care', 'technical_finance_real_estate_media_public_accounting_healthcare_technology_sales_marketing_etc', 'technical_recruiting', 'technical_support', 'technology', 'technology_accounting_audit', 'technology_adult_education', 'technology_advertising', 'technology_airline_travel_consulting', 'technology_computer_engineering_marketing_film_graphic_design_entrepreneur', 'technology_consulting', 'technology_digital_marketing', 'technology_education', 'technology_higher_education', 'technology_marketing', 'technology_marketing_advertising', 'technology_performing', 'technology_risk_regulation_consulting', 'technology_saas_software_service', 'technology_sales', 'technology_solutions', 'technology_sports_media_video_games', 'technology_startups', 'telecom', 'telecommunicaitons_entertainment', 'telecommunicatiions', 'telecommunication', 'telecommunication_isp_mssp', 'telecommunications', 'telecommunications_cybersecurity', 'telecommunications_education', 'telecommunications_entertainment', 'telecommunications_entertainment_mobility', 'telecommunications_foodservice_distribution', 'telecommunications_human_resources', 'telecommunications_marketing', 'telecommunications_media_technology', 'telecommunications_networking_cloud_computer_science', 'telecommunications_research', 'telecommunications_sales', 'telecommunications_software', 'telecommunications_software_engineering_programming_cloud_security', 'telecommunications_systems_integration_insurance_financial_services_information_technology', 'telecommunications_technology', 'telematics', 'television_motion_picture_production', 'test_measurement', 'textiles', 'theatre', 'tmt', 'trades_corporate_education_hospitality', 'training_consulting', 'training_design_delivery', 'transfer_pricing', 'translation_localization', 'transportation', 'transportation_trucking_railroad', 'travel', 'travel_insurance', 'travel_living_experiences', 'university', 'user_experience_design', 'utilities', 'ux_design', 'ux_ui_design', 'various', 'venture_capital', 'venture_capital_private_equity', 'verizon_enterprise_solutions', 'veterinary', 'veterinary_medicine', 'veterinary_retail', 'video_games', 'video_games_pc_mmo_consoles_mobile', 'video_production', 'video_production_corporate_narrative_business_storyteller', 'volunteer_management', 'warehousing', 'water_environmental', 'wealth_management_banking', 'web_design_marketing_advertising', 'web_development', 'wholesale', 'wildlife', 'wireless', 'wireless_digital', 'wireless_telecommunications', 'workforce_development', 'workforce_development_nonprofit', 'workplace_services', 'writing', 'writing_editing', 'writing_editing_education', 'writing_editing_film_photography', 'writing_editing_teaching', 'writing_law', 'writing_speaking_journalistic_industry', 'writing_sports', 'xpress_video_productions', 'zoo', 'zoo_keeping', 'zoo_leisure_park', 'zoology_environmental_studies']\n"
     ]
    }
   ],
   "source": [
    "print(feature_names)"
   ]
  },
  {
   "cell_type": "code",
   "execution_count": null,
   "metadata": {
    "id": "NWLbPo6vvc57"
   },
   "outputs": [],
   "source": [
    "\n",
    "fg = pd.DataFrame(feature_names)"
   ]
  },
  {
   "cell_type": "code",
   "execution_count": null,
   "metadata": {
    "id": "5lZBzxqyvmLL"
   },
   "outputs": [],
   "source": [
    "fg['industry'] = fg[0]"
   ]
  },
  {
   "cell_type": "code",
   "execution_count": null,
   "metadata": {
    "id": "E2S01sPTxpv7"
   },
   "outputs": [],
   "source": [
    "fg = fg.drop([0],axis=1)"
   ]
  },
  {
   "cell_type": "code",
   "execution_count": null,
   "metadata": {
    "colab": {
     "base_uri": "https://localhost:8080/",
     "height": 419
    },
    "executionInfo": {
     "elapsed": 12,
     "status": "ok",
     "timestamp": 1628229130102,
     "user": {
      "displayName": "Sagar Khode",
      "photoUrl": "",
      "userId": "18017962776089305962"
     },
     "user_tz": -330
    },
    "id": "GUupSaYyyHsU",
    "outputId": "46085e63-7ea7-4999-f883-bd80a82ad5cf"
   },
   "outputs": [
    {
     "data": {
      "text/html": [
       "<div>\n",
       "<style scoped>\n",
       "    .dataframe tbody tr th:only-of-type {\n",
       "        vertical-align: middle;\n",
       "    }\n",
       "\n",
       "    .dataframe tbody tr th {\n",
       "        vertical-align: top;\n",
       "    }\n",
       "\n",
       "    .dataframe thead th {\n",
       "        text-align: right;\n",
       "    }\n",
       "</style>\n",
       "<table border=\"1\" class=\"dataframe\">\n",
       "  <thead>\n",
       "    <tr style=\"text-align: right;\">\n",
       "      <th></th>\n",
       "      <th>industry</th>\n",
       "    </tr>\n",
       "  </thead>\n",
       "  <tbody>\n",
       "    <tr>\n",
       "      <th>0</th>\n",
       "      <td>academia</td>\n",
       "    </tr>\n",
       "    <tr>\n",
       "      <th>1</th>\n",
       "      <td>academic_advising</td>\n",
       "    </tr>\n",
       "    <tr>\n",
       "      <th>2</th>\n",
       "      <td>academic_advisor</td>\n",
       "    </tr>\n",
       "    <tr>\n",
       "      <th>3</th>\n",
       "      <td>academic_websites</td>\n",
       "    </tr>\n",
       "    <tr>\n",
       "      <th>4</th>\n",
       "      <td>academics</td>\n",
       "    </tr>\n",
       "    <tr>\n",
       "      <th>...</th>\n",
       "      <td>...</td>\n",
       "    </tr>\n",
       "    <tr>\n",
       "      <th>1060</th>\n",
       "      <td>xpress_video_productions</td>\n",
       "    </tr>\n",
       "    <tr>\n",
       "      <th>1061</th>\n",
       "      <td>zoo</td>\n",
       "    </tr>\n",
       "    <tr>\n",
       "      <th>1062</th>\n",
       "      <td>zoo_keeping</td>\n",
       "    </tr>\n",
       "    <tr>\n",
       "      <th>1063</th>\n",
       "      <td>zoo_leisure_park</td>\n",
       "    </tr>\n",
       "    <tr>\n",
       "      <th>1064</th>\n",
       "      <td>zoology_environmental_studies</td>\n",
       "    </tr>\n",
       "  </tbody>\n",
       "</table>\n",
       "<p>1065 rows × 1 columns</p>\n",
       "</div>"
      ],
      "text/plain": [
       "                           industry\n",
       "0                          academia\n",
       "1                 academic_advising\n",
       "2                  academic_advisor\n",
       "3                 academic_websites\n",
       "4                         academics\n",
       "...                             ...\n",
       "1060       xpress_video_productions\n",
       "1061                            zoo\n",
       "1062                    zoo_keeping\n",
       "1063               zoo_leisure_park\n",
       "1064  zoology_environmental_studies\n",
       "\n",
       "[1065 rows x 1 columns]"
      ]
     },
     "execution_count": 28,
     "metadata": {
      "tags": []
     },
     "output_type": "execute_result"
    }
   ],
   "source": [
    "fg"
   ]
  },
  {
   "cell_type": "code",
   "execution_count": null,
   "metadata": {
    "id": "s5c_5iw8wEC-"
   },
   "outputs": [],
   "source": []
  },
  {
   "cell_type": "code",
   "execution_count": null,
   "metadata": {
    "id": "zaTzKgC_q7Sm"
   },
   "outputs": [],
   "source": [
    "# dense =y.todense()\n",
    "y = y.todense()\n",
    "denselist = y.tolist()\n",
    "df = pd.DataFrame(denselist, columns=feature_names)"
   ]
  },
  {
   "cell_type": "code",
   "execution_count": null,
   "metadata": {
    "id": "XWYGIBw7tY3V"
   },
   "outputs": [],
   "source": []
  },
  {
   "cell_type": "code",
   "execution_count": null,
   "metadata": {
    "colab": {
     "base_uri": "https://localhost:8080/",
     "height": 35
    },
    "executionInfo": {
     "elapsed": 542,
     "status": "ok",
     "timestamp": 1628156655337,
     "user": {
      "displayName": "Sagar Khode",
      "photoUrl": "",
      "userId": "18017962776089305962"
     },
     "user_tz": -330
    },
    "id": "9cRMTbBlrfl8",
    "outputId": "9f8cfc19-ff59-49c5-ea7f-4e9f4dac16cc"
   },
   "outputs": [
    {
     "data": {
      "application/vnd.google.colaboratory.intrinsic+json": {
       "type": "string"
      },
      "text/plain": [
       "'zoology_environmental_studies'"
      ]
     },
     "execution_count": 195,
     "metadata": {
      "tags": []
     },
     "output_type": "execute_result"
    }
   ],
   "source": [
    "max(df)"
   ]
  },
  {
   "cell_type": "code",
   "execution_count": null,
   "metadata": {
    "colab": {
     "base_uri": "https://localhost:8080/"
    },
    "executionInfo": {
     "elapsed": 6,
     "status": "ok",
     "timestamp": 1628156740334,
     "user": {
      "displayName": "Sagar Khode",
      "photoUrl": "",
      "userId": "18017962776089305962"
     },
     "user_tz": -330
    },
    "id": "H7gcyHYSswHm",
    "outputId": "a7f1c225-26f4-4248-a836-22c396fe95c0"
   },
   "outputs": [
    {
     "data": {
      "text/plain": [
       "0"
      ]
     },
     "execution_count": 200,
     "metadata": {
      "tags": []
     },
     "output_type": "execute_result"
    }
   ],
   "source": [
    "df['academic_advising'].min()"
   ]
  },
  {
   "cell_type": "code",
   "execution_count": null,
   "metadata": {
    "id": "R0tOgrZhooTC"
   },
   "outputs": [],
   "source": [
    "import pickle\n",
    "with open('vectorizer.pkl', 'wb') as handle:\n",
    "    pickle.dump(vectorizer, handle, protocol=pickle.HIGHEST_PROTOCOL)"
   ]
  },
  {
   "cell_type": "code",
   "execution_count": null,
   "metadata": {
    "id": "G2jV7KF4MGxC"
   },
   "outputs": [],
   "source": [
    "# y = y.astype('float16')"
   ]
  },
  {
   "cell_type": "code",
   "execution_count": null,
   "metadata": {
    "colab": {
     "base_uri": "https://localhost:8080/"
    },
    "executionInfo": {
     "elapsed": 472,
     "status": "ok",
     "timestamp": 1628155544047,
     "user": {
      "displayName": "Sagar Khode",
      "photoUrl": "",
      "userId": "18017962776089305962"
     },
     "user_tz": -330
    },
    "id": "YBtGnsAh6uSD",
    "outputId": "70a13ce0-1db0-48a4-8deb-e6c4aa8b6816"
   },
   "outputs": [
    {
     "data": {
      "text/plain": [
       "(23931, 2)"
      ]
     },
     "execution_count": 149,
     "metadata": {
      "tags": []
     },
     "output_type": "execute_result"
    }
   ],
   "source": [
    "X.shape"
   ]
  },
  {
   "cell_type": "code",
   "execution_count": null,
   "metadata": {
    "id": "541zpmlW61H9"
   },
   "outputs": [],
   "source": [
    "# y = multilabel_y.toarray()"
   ]
  },
  {
   "cell_type": "code",
   "execution_count": null,
   "metadata": {
    "colab": {
     "base_uri": "https://localhost:8080/"
    },
    "executionInfo": {
     "elapsed": 848,
     "status": "ok",
     "timestamp": 1628057522736,
     "user": {
      "displayName": "Sagar Khode",
      "photoUrl": "",
      "userId": "18017962776089305962"
     },
     "user_tz": -330
    },
    "id": "d828bHgFia0O",
    "outputId": "1dafb987-7513-460c-9ff6-1fc7470a6027"
   },
   "outputs": [
    {
     "name": "stdout",
     "output_type": "stream",
     "text": [
      "Number of points in train data:  17229\n",
      "Number of points in validation data:  4308\n",
      "Number of points in test data:  2394\n"
     ]
    }
   ],
   "source": [
    "from sklearn.model_selection import train_test_split\n",
    "X_train, X_test, y_train, y_test = train_test_split(X, y, test_size=0.10, random_state=1)\n",
    "X_train, X_val, y_train, y_val = train_test_split(X_train, y_train, test_size=0.20, random_state=1)\n",
    "print(\"Number of points in train data: \",X_train.shape[0])\n",
    "print(\"Number of points in validation data: \",X_val.shape[0])\n",
    "print(\"Number of points in test data: \",X_test.shape[0])\n"
   ]
  },
  {
   "cell_type": "code",
   "execution_count": null,
   "metadata": {
    "id": "_JXLSBjb-ofC"
   },
   "outputs": [],
   "source": [
    "import numpy as np\n",
    "tokens = Tokenizer()\n",
    "train_text=X_train.Complete\n",
    "val_text=X_val.Complete\n",
    "test_text=X_test.Complete\n",
    "\n",
    "tokens.fit_on_texts(train_text)\n",
    "\n",
    "\n",
    "sequences_train = tokens.texts_to_sequences(train_text)\n",
    "sequences_val = tokens.texts_to_sequences(val_text)\n",
    "sequences_test = tokens.texts_to_sequences(test_text)\n",
    "\n",
    "\n",
    "\n",
    "\n",
    "padded_text_train = pad_sequences(sequences_train, maxlen=200, padding='post')\n",
    "padded_text_val = pad_sequences(sequences_val, maxlen=200, padding='post')\n",
    "padded_text_test = pad_sequences(sequences_test, maxlen=200, padding='post')\n",
    "\n",
    "\n",
    "padded_text_train = np.array(padded_text_train , dtype = np.int16)\n",
    "padded_text_val = np.array(padded_text_val , dtype = np.int16)\n",
    "padded_text_test = np.array(padded_text_test, dtype = np.int16)"
   ]
  },
  {
   "cell_type": "code",
   "execution_count": null,
   "metadata": {
    "colab": {
     "base_uri": "https://localhost:8080/"
    },
    "executionInfo": {
     "elapsed": 10,
     "status": "ok",
     "timestamp": 1628057524014,
     "user": {
      "displayName": "Sagar Khode",
      "photoUrl": "",
      "userId": "18017962776089305962"
     },
     "user_tz": -330
    },
    "id": "A_bMHwBDf4Zs",
    "outputId": "6767d094-63e5-4673-dbe4-62e6e3b0f405"
   },
   "outputs": [
    {
     "name": "stdout",
     "output_type": "stream",
     "text": [
      "[[ 503   91   14 ...    0    0    0]\n",
      " [1053   34  237 ...    0    0    0]\n",
      " [  10  655   86 ...    0    0    0]\n",
      " ...\n",
      " [  50 2047    4 ...    0    0    0]\n",
      " [  10   52   79 ...    0    0    0]\n",
      " [  20    3  157 ...    0    0    0]]\n",
      "<class 'numpy.ndarray'>\n"
     ]
    }
   ],
   "source": [
    "print(padded_text_train)\n",
    "print(type(padded_text_train))"
   ]
  },
  {
   "cell_type": "code",
   "execution_count": null,
   "metadata": {
    "id": "SBN52gs9-omI"
   },
   "outputs": [],
   "source": [
    "vocab_size_text = len(tokens.word_index) + 1"
   ]
  },
  {
   "cell_type": "code",
   "execution_count": null,
   "metadata": {
    "colab": {
     "base_uri": "https://localhost:8080/"
    },
    "executionInfo": {
     "elapsed": 362193,
     "status": "ok",
     "timestamp": 1628057887513,
     "user": {
      "displayName": "Sagar Khode",
      "photoUrl": "",
      "userId": "18017962776089305962"
     },
     "user_tz": -330
    },
    "id": "tZbsqa7zgGYB",
    "outputId": "d2785a62-559a-47be-ed76-3f0d6a54bc7b"
   },
   "outputs": [
    {
     "name": "stdout",
     "output_type": "stream",
     "text": [
      "--2021-08-04 06:12:04--  https://nlp.stanford.edu/data/glove.twitter.27B.zip\n",
      "Resolving nlp.stanford.edu (nlp.stanford.edu)... 171.64.67.140\n",
      "Connecting to nlp.stanford.edu (nlp.stanford.edu)|171.64.67.140|:443... connected.\n",
      "HTTP request sent, awaiting response... 301 Moved Permanently\n",
      "Location: http://downloads.cs.stanford.edu/nlp/data/glove.twitter.27B.zip [following]\n",
      "--2021-08-04 06:12:05--  http://downloads.cs.stanford.edu/nlp/data/glove.twitter.27B.zip\n",
      "Resolving downloads.cs.stanford.edu (downloads.cs.stanford.edu)... 171.64.64.22\n",
      "Connecting to downloads.cs.stanford.edu (downloads.cs.stanford.edu)|171.64.64.22|:80... connected.\n",
      "HTTP request sent, awaiting response... 200 OK\n",
      "Length: 1520408563 (1.4G) [application/zip]\n",
      "Saving to: ‘glove.twitter.27B.zip’\n",
      "\n",
      "glove.twitter.27B.z 100%[===================>]   1.42G  4.81MB/s    in 4m 55s  \n",
      "\n",
      "2021-08-04 06:16:59 (4.92 MB/s) - ‘glove.twitter.27B.zip’ saved [1520408563/1520408563]\n",
      "\n",
      "Archive:  glove.twitter.27B.zip\n",
      "  inflating: glove.twitter.27B.25d.txt  \n",
      "  inflating: glove.twitter.27B.50d.txt  \n",
      "  inflating: glove.twitter.27B.100d.txt  \n",
      "  inflating: glove.twitter.27B.200d.txt  \n"
     ]
    }
   ],
   "source": [
    "# url = \"https://nlp.stanford.edu/data/glove.twitter.27B.zip\"\n",
    "\n",
    "!wget https://nlp.stanford.edu/data/glove.twitter.27B.zip\n",
    "!unzip glove.twitter.27B.zip"
   ]
  },
  {
   "cell_type": "code",
   "execution_count": null,
   "metadata": {
    "colab": {
     "base_uri": "https://localhost:8080/"
    },
    "executionInfo": {
     "elapsed": 72859,
     "status": "ok",
     "timestamp": 1628057960359,
     "user": {
      "displayName": "Sagar Khode",
      "photoUrl": "",
      "userId": "18017962776089305962"
     },
     "user_tz": -330
    },
    "id": "RMrI9ZLs-oqU",
    "outputId": "33596f1d-1c8d-4678-ae4e-739384b1fee7"
   },
   "outputs": [
    {
     "name": "stdout",
     "output_type": "stream",
     "text": [
      "200\n"
     ]
    }
   ],
   "source": [
    "import pickle\n",
    "import tqdm\n",
    "embeddings_index = dict()\n",
    "\n",
    "embeddings_index = dict()\n",
    "f = open('glove.twitter.27B.200d.txt',encoding=\"utf8\")\n",
    "for line in f:\n",
    "    values = line.split()\n",
    "    word = values[0]\n",
    "    coefs = np.asarray(values[1:], dtype='float32')\n",
    "    embeddings_index[word] = coefs\n",
    "f.close()\n",
    "\n",
    "embedding_matrix = np.zeros((vocab_size_text, 200))\n",
    "for word, i in tokens.word_index.items():\n",
    "  embedding_vector = embeddings_index.get(word)\n",
    "  if embedding_vector is not None:\n",
    "    embedding_matrix[i] = embedding_vector\n",
    "\n",
    "         embedding_matrix[i] = embedding_vector\n",
    "\n",
    "print(len(embedding_matrix[0]))\n",
    "\n"
   ]
  },
  {
   "cell_type": "code",
   "execution_count": null,
   "metadata": {
    "colab": {
     "base_uri": "https://localhost:8080/",
     "height": 52
    },
    "executionInfo": {
     "elapsed": 33,
     "status": "ok",
     "timestamp": 1628057960360,
     "user": {
      "displayName": "Sagar Khode",
      "photoUrl": "",
      "userId": "18017962776089305962"
     },
     "user_tz": -330
    },
    "id": "6U-_gIMI-osI",
    "outputId": "59375c18-2114-4d9a-fa34-3c812baccc85"
   },
   "outputs": [
    {
     "data": {
      "application/vnd.google.colaboratory.intrinsic+json": {
       "type": "string"
      },
      "text/plain": [
       "'art careerchoice careercounseling careerpath counseling governmentadministration humanresources individualfamilyservices nonprofit retail socialwork youth youthemployment'"
      ]
     },
     "execution_count": 40,
     "metadata": {
      "tags": []
     },
     "output_type": "execute_result"
    }
   ],
   "source": [
    "X_train.tags_tag_name.values[0]\n"
   ]
  },
  {
   "cell_type": "code",
   "execution_count": null,
   "metadata": {
    "id": "opDumgXj-zTj"
   },
   "outputs": [],
   "source": [
    "\n",
    "tags_train=X_train.tags_tag_name.values\n",
    "tags_val=X_val.tags_tag_name.values"
   ]
  },
  {
   "cell_type": "code",
   "execution_count": null,
   "metadata": {
    "id": "yW-PRwxe-zVo"
   },
   "outputs": [],
   "source": [
    "tags_test=(X_test.tags_tag_name.values)\n",
    "tokens = Tokenizer()\n",
    "tokens.fit_on_texts(tags_train)\n",
    "sequences_tags_train = tokens.texts_to_sequences(tags_train)\n",
    "sequences_tags_val = tokens.texts_to_sequences(tags_val)\n",
    "sequences_tags_test = tokens.texts_to_sequences(tags_test)\n",
    "size_tags = len(tokens.word_index) + 1\n"
   ]
  },
  {
   "cell_type": "code",
   "execution_count": null,
   "metadata": {
    "id": "jq2qdZBjYbA5"
   },
   "outputs": [],
   "source": [
    "tokens = Tokenizer()\n",
    "tokens.fit_on_texts(Data.professionals_industry)\n",
    "sequences = tokens.texts_to_sequences(Data.professionals_industry)\n"
   ]
  },
  {
   "cell_type": "code",
   "execution_count": null,
   "metadata": {
    "colab": {
     "base_uri": "https://localhost:8080/"
    },
    "executionInfo": {
     "elapsed": 712,
     "status": "ok",
     "timestamp": 1628151487463,
     "user": {
      "displayName": "Sagar Khode",
      "photoUrl": "",
      "userId": "18017962776089305962"
     },
     "user_tz": -330
    },
    "id": "fH3perYxYvXf",
    "outputId": "a59a6dc3-7009-44d1-f43c-3725568a93aa"
   },
   "outputs": [
    {
     "data": {
      "text/plain": [
       "0                      career_counseling computer_software\n",
       "1                      insurance_law professional_training\n",
       "2                                                 research\n",
       "3                     professional_trainer writing_editing\n",
       "4                             financial_services_education\n",
       "                               ...                        \n",
       "23926                                                     \n",
       "23927                                          zoo_keeping\n",
       "23928    human_resources information_technology_service...\n",
       "23929                                 education_management\n",
       "23930            accounting_education education_management\n",
       "Name: professionals_industry, Length: 23931, dtype: object"
      ]
     },
     "execution_count": 122,
     "metadata": {
      "tags": []
     },
     "output_type": "execute_result"
    }
   ],
   "source": [
    "Data.professionals_industry"
   ]
  },
  {
   "cell_type": "code",
   "execution_count": null,
   "metadata": {
    "colab": {
     "base_uri": "https://localhost:8080/"
    },
    "executionInfo": {
     "elapsed": 22,
     "status": "ok",
     "timestamp": 1628057961295,
     "user": {
      "displayName": "Sagar Khode",
      "photoUrl": "",
      "userId": "18017962776089305962"
     },
     "user_tz": -330
    },
    "id": "kKuK0XImWdhk",
    "outputId": "c7425dd4-603c-48b5-a176-802ac94d76cf"
   },
   "outputs": [
    {
     "data": {
      "text/plain": [
       "array(['art careerchoice careercounseling careerpath counseling governmentadministration humanresources individualfamilyservices nonprofit retail socialwork youth youthemployment',\n",
       "       'civillitigation civilrights jobsearch justice law lawenforcement legal litigation litigationsupport mediation police resume resumewriting socialimpact socialwork sociology',\n",
       "       'art careerchoice careercounseling careerpath computerscience computersoftware counseling gamedesign google graphicdesign humanresources individualfamilyservices linux motiongraphics perl programming retail socialwork softwareengineering videogamedesign webdesign webdevelopment',\n",
       "       ...,\n",
       "       'alcoholsubstanceabuse budget business businessdevelopment college collegeadvice collegemajor finance insurance internships interviewingskills interviews jobsearch life managementconsulting relationshipmanagement resume resumewriting sales',\n",
       "       'bilingualspanish businessanalysis businessoperations businessprocess chemicals college costestimates engineering entertainment entrepreneurship international leadership management nonprofit overseas processimprovement projectmanagement projectplanning projectteams projectdesign teambuilding teammanagement telecommunications volunteering worklifebalance',\n",
       "       ''], dtype=object)"
      ]
     },
     "execution_count": 43,
     "metadata": {
      "tags": []
     },
     "output_type": "execute_result"
    }
   ],
   "source": [
    "tags_train\n"
   ]
  },
  {
   "cell_type": "code",
   "execution_count": null,
   "metadata": {
    "colab": {
     "base_uri": "https://localhost:8080/"
    },
    "executionInfo": {
     "elapsed": 22,
     "status": "ok",
     "timestamp": 1628057961298,
     "user": {
      "displayName": "Sagar Khode",
      "photoUrl": "",
      "userId": "18017962776089305962"
     },
     "user_tz": -330
    },
    "id": "aPYB_obaWLL2",
    "outputId": "c8d254a8-74c3-4836-a9ad-4d02152e18df"
   },
   "outputs": [
    {
     "data": {
      "text/plain": [
       "35.0"
      ]
     },
     "execution_count": 44,
     "metadata": {
      "tags": []
     },
     "output_type": "execute_result"
    }
   ],
   "source": [
    "c=[len(i) for i in sequences_tags_train]\n",
    "np.percentile(c, 90)"
   ]
  },
  {
   "cell_type": "code",
   "execution_count": null,
   "metadata": {
    "id": "xAoe8-Qs-zYE"
   },
   "outputs": [],
   "source": [
    "padded_tags_train = pad_sequences(sequences_tags_train, maxlen=50,padding='post')\n",
    "padded_tags_val = pad_sequences(sequences_tags_val, maxlen=50, padding='post')\n",
    "padded_tags_test = pad_sequences(sequences_tags_test, maxlen=50, padding='post')\n",
    "\n",
    "padded_tags_train = np.array(padded_tags_train , dtype = np.int16)\n",
    "padded_tags_val = np.array(padded_tags_val , dtype = np.int16)\n",
    "padded_tags_test = np.array(padded_tags_test , dtype = np.int16)\n"
   ]
  },
  {
   "cell_type": "code",
   "execution_count": null,
   "metadata": {
    "colab": {
     "base_uri": "https://localhost:8080/"
    },
    "executionInfo": {
     "elapsed": 22,
     "status": "ok",
     "timestamp": 1628057961302,
     "user": {
      "displayName": "Sagar Khode",
      "photoUrl": "",
      "userId": "18017962776089305962"
     },
     "user_tz": -330
    },
    "id": "HyD7KgpvYQ2L",
    "outputId": "c5dc6b56-3b24-406f-c85a-99272c4b7099"
   },
   "outputs": [
    {
     "data": {
      "text/plain": [
       "6286"
      ]
     },
     "execution_count": 46,
     "metadata": {
      "tags": []
     },
     "output_type": "execute_result"
    }
   ],
   "source": [
    "size_tags"
   ]
  },
  {
   "cell_type": "code",
   "execution_count": null,
   "metadata": {
    "colab": {
     "base_uri": "https://localhost:8080/"
    },
    "executionInfo": {
     "elapsed": 1087,
     "status": "ok",
     "timestamp": 1628057988769,
     "user": {
      "displayName": "Sagar Khode",
      "photoUrl": "",
      "userId": "18017962776089305962"
     },
     "user_tz": -330
    },
    "id": "Uu-rSHIkAjT1",
    "outputId": "8e49c3a0-be13-406a-cff2-19ce29d8f253"
   },
   "outputs": [
    {
     "name": "stdout",
     "output_type": "stream",
     "text": [
      "Model: \"model\"\n",
      "_________________________________________________________________\n",
      "Layer (type)                 Output Shape              Param #   \n",
      "=================================================================\n",
      "total_sequence (InputLayer)  [(None, 200)]             0         \n",
      "_________________________________________________________________\n",
      "embedding (Embedding)        (None, 200, 200)          3042000   \n",
      "_________________________________________________________________\n",
      "lstm (LSTM)                  (None, 200, 16)           13888     \n",
      "_________________________________________________________________\n",
      "flatten (Flatten)            (None, 3200)              0         \n",
      "_________________________________________________________________\n",
      "dense_layer1 (Dense)         (None, 256)               819456    \n",
      "_________________________________________________________________\n",
      "dense_layer2 (Dense)         (None, 64)                16448     \n",
      "_________________________________________________________________\n",
      "dense_layer3 (Dense)         (None, 32)                2080      \n",
      "_________________________________________________________________\n",
      "dense_layer4 (Dense)         (None, 16)                528       \n",
      "_________________________________________________________________\n",
      "output_layers (Dense)        (None, 1065)              18105     \n",
      "=================================================================\n",
      "Total params: 3,912,505\n",
      "Trainable params: 870,505\n",
      "Non-trainable params: 3,042,000\n",
      "_________________________________________________________________\n"
     ]
    }
   ],
   "source": [
    "# tensorflow.keras.backend.clear_session()\n",
    "\n",
    "total_text_input_layer = Input(shape=(200), name = \"total_sequence\")\n",
    "embedding_layer_total_text = Embedding(input_dim=vocab_size_text, output_dim=200, weights=[embedding_matrix], trainable=False)(total_text_input_layer)\n",
    "lstm_total_text = LSTM(16, activation=\"relu\", return_sequences=True)(embedding_layer_total_text)\n",
    "flatten_total_text = Flatten()(lstm_total_text)\n",
    "\n",
    "\n",
    "\n",
    "Layer = Dense(256, activation='relu', kernel_initializer='he_normal', name='dense_layer1')(flatten_total_text) \n",
    "Layer = Dense(64, activation='relu', kernel_initializer='he_normal', name='dense_layer2')(Layer)\n",
    "Layer = Dense(32, activation='relu', kernel_initializer='he_normal', name='dense_layer3')(Layer)\n",
    "Layer = Dense(16, activation='relu', kernel_initializer='he_normal', name='dense_layer4')(Layer)\n",
    "output_layers = Dense(1065, activation='sigmoid', name='output_layers')(Layer)\n",
    "model = Model(inputs=[total_text_input_layer], outputs=[output_layers])\n",
    "model.summary()"
   ]
  },
  {
   "cell_type": "code",
   "execution_count": null,
   "metadata": {
    "id": "KzuM-UNBAjYK"
   },
   "outputs": [],
   "source": [
    "from tensorflow.python.keras.callbacks import TensorBoard\n",
    "from tensorflow.keras.callbacks import ModelCheckpoint\n",
    "from time import time"
   ]
  },
  {
   "cell_type": "code",
   "execution_count": null,
   "metadata": {
    "id": "69ToKeeuAjaN"
   },
   "outputs": [],
   "source": [
    "tensorboard = TensorBoard(log_dir=\"logs/{}\".format(time))\n",
    "filepath=\"weight_best.hdf5\"\n",
    "checkpoint = ModelCheckpoint(filepath, monitor='val_f1', verbose=1, save_best_only=True, mode='max')"
   ]
  },
  {
   "cell_type": "code",
   "execution_count": null,
   "metadata": {
    "colab": {
     "base_uri": "https://localhost:8080/"
    },
    "executionInfo": {
     "elapsed": 416,
     "status": "ok",
     "timestamp": 1628058017394,
     "user": {
      "displayName": "Sagar Khode",
      "photoUrl": "",
      "userId": "18017962776089305962"
     },
     "user_tz": -330
    },
    "id": "vR1ZKWSzAjcI",
    "outputId": "fdbe4b54-dfe2-4e0d-f161-56d94ab5aeb8"
   },
   "outputs": [
    {
     "data": {
      "text/plain": [
       "1718"
      ]
     },
     "execution_count": 51,
     "metadata": {
      "tags": []
     },
     "output_type": "execute_result"
    }
   ],
   "source": [
    "import gc\n",
    "gc.collect()"
   ]
  },
  {
   "cell_type": "code",
   "execution_count": null,
   "metadata": {
    "id": "WWeOgdW1Jenf"
   },
   "outputs": [],
   "source": [
    "import numpy as np\n",
    "from tensorflow.keras.callbacks import Callback \n",
    "from sklearn.metrics import confusion_matrix, f1_score, precision_score, recall_score\n",
    "def f1(y_true,y_pred):\n",
    "  return f1_score(y_true,y_pred,average = \"micro\")\n",
    "\n",
    "# def micro_f1(y_true,y_prob):\n",
    "#   y_pred = tf.math.argmax(y_prob,axis=1)\n",
    "#   print(\"1,\", y_pred)\n",
    "#   print(\"1,\", y_true)\n",
    "#   return tf.py_function(f1,(y_true,y_pred),tf.double)"
   ]
  },
  {
   "cell_type": "code",
   "execution_count": null,
   "metadata": {
    "id": "rau89bUiyc03"
   },
   "outputs": [],
   "source": [
    "y_val = np.array(y_val , dtype = np.int16)"
   ]
  },
  {
   "cell_type": "code",
   "execution_count": null,
   "metadata": {
    "id": "xtCJk-May5uV"
   },
   "outputs": [],
   "source": [
    "y_train = np.array(y_train , dtype= np.int16)"
   ]
  },
  {
   "cell_type": "code",
   "execution_count": null,
   "metadata": {
    "colab": {
     "base_uri": "https://localhost:8080/"
    },
    "executionInfo": {
     "elapsed": 4935,
     "status": "ok",
     "timestamp": 1628058042009,
     "user": {
      "displayName": "Sagar Khode",
      "photoUrl": "",
      "userId": "18017962776089305962"
     },
     "user_tz": -330
    },
    "id": "ov3bmeZVR_b0",
    "outputId": "7c3d3e17-106f-4b04-fdff-ef0cba96f8e2"
   },
   "outputs": [
    {
     "name": "stdout",
     "output_type": "stream",
     "text": [
      "Collecting tensorflow_addons\n",
      "  Downloading tensorflow_addons-0.13.0-cp37-cp37m-manylinux2010_x86_64.whl (679 kB)\n",
      "\u001b[?25l\r",
      "\u001b[K     |▌                               | 10 kB 22.1 MB/s eta 0:00:01\r",
      "\u001b[K     |█                               | 20 kB 26.5 MB/s eta 0:00:01\r",
      "\u001b[K     |█▌                              | 30 kB 23.5 MB/s eta 0:00:01\r",
      "\u001b[K     |██                              | 40 kB 17.5 MB/s eta 0:00:01\r",
      "\u001b[K     |██▍                             | 51 kB 5.6 MB/s eta 0:00:01\r",
      "\u001b[K     |███                             | 61 kB 6.2 MB/s eta 0:00:01\r",
      "\u001b[K     |███▍                            | 71 kB 5.6 MB/s eta 0:00:01\r",
      "\u001b[K     |███▉                            | 81 kB 6.2 MB/s eta 0:00:01\r",
      "\u001b[K     |████▍                           | 92 kB 6.2 MB/s eta 0:00:01\r",
      "\u001b[K     |████▉                           | 102 kB 5.4 MB/s eta 0:00:01\r",
      "\u001b[K     |█████▎                          | 112 kB 5.4 MB/s eta 0:00:01\r",
      "\u001b[K     |█████▉                          | 122 kB 5.4 MB/s eta 0:00:01\r",
      "\u001b[K     |██████▎                         | 133 kB 5.4 MB/s eta 0:00:01\r",
      "\u001b[K     |██████▊                         | 143 kB 5.4 MB/s eta 0:00:01\r",
      "\u001b[K     |███████▎                        | 153 kB 5.4 MB/s eta 0:00:01\r",
      "\u001b[K     |███████▊                        | 163 kB 5.4 MB/s eta 0:00:01\r",
      "\u001b[K     |████████▏                       | 174 kB 5.4 MB/s eta 0:00:01\r",
      "\u001b[K     |████████▊                       | 184 kB 5.4 MB/s eta 0:00:01\r",
      "\u001b[K     |█████████▏                      | 194 kB 5.4 MB/s eta 0:00:01\r",
      "\u001b[K     |█████████▋                      | 204 kB 5.4 MB/s eta 0:00:01\r",
      "\u001b[K     |██████████▏                     | 215 kB 5.4 MB/s eta 0:00:01\r",
      "\u001b[K     |██████████▋                     | 225 kB 5.4 MB/s eta 0:00:01\r",
      "\u001b[K     |███████████                     | 235 kB 5.4 MB/s eta 0:00:01\r",
      "\u001b[K     |███████████▋                    | 245 kB 5.4 MB/s eta 0:00:01\r",
      "\u001b[K     |████████████                    | 256 kB 5.4 MB/s eta 0:00:01\r",
      "\u001b[K     |████████████▌                   | 266 kB 5.4 MB/s eta 0:00:01\r",
      "\u001b[K     |█████████████                   | 276 kB 5.4 MB/s eta 0:00:01\r",
      "\u001b[K     |█████████████▌                  | 286 kB 5.4 MB/s eta 0:00:01\r",
      "\u001b[K     |██████████████                  | 296 kB 5.4 MB/s eta 0:00:01\r",
      "\u001b[K     |██████████████▌                 | 307 kB 5.4 MB/s eta 0:00:01\r",
      "\u001b[K     |███████████████                 | 317 kB 5.4 MB/s eta 0:00:01\r",
      "\u001b[K     |███████████████▍                | 327 kB 5.4 MB/s eta 0:00:01\r",
      "\u001b[K     |████████████████                | 337 kB 5.4 MB/s eta 0:00:01\r",
      "\u001b[K     |████████████████▍               | 348 kB 5.4 MB/s eta 0:00:01\r",
      "\u001b[K     |████████████████▉               | 358 kB 5.4 MB/s eta 0:00:01\r",
      "\u001b[K     |█████████████████▍              | 368 kB 5.4 MB/s eta 0:00:01\r",
      "\u001b[K     |█████████████████▉              | 378 kB 5.4 MB/s eta 0:00:01\r",
      "\u001b[K     |██████████████████▎             | 389 kB 5.4 MB/s eta 0:00:01\r",
      "\u001b[K     |██████████████████▉             | 399 kB 5.4 MB/s eta 0:00:01\r",
      "\u001b[K     |███████████████████▎            | 409 kB 5.4 MB/s eta 0:00:01\r",
      "\u001b[K     |███████████████████▊            | 419 kB 5.4 MB/s eta 0:00:01\r",
      "\u001b[K     |████████████████████▎           | 430 kB 5.4 MB/s eta 0:00:01\r",
      "\u001b[K     |████████████████████▊           | 440 kB 5.4 MB/s eta 0:00:01\r",
      "\u001b[K     |█████████████████████▏          | 450 kB 5.4 MB/s eta 0:00:01\r",
      "\u001b[K     |█████████████████████▊          | 460 kB 5.4 MB/s eta 0:00:01\r",
      "\u001b[K     |██████████████████████▏         | 471 kB 5.4 MB/s eta 0:00:01\r",
      "\u001b[K     |██████████████████████▋         | 481 kB 5.4 MB/s eta 0:00:01\r",
      "\u001b[K     |███████████████████████▏        | 491 kB 5.4 MB/s eta 0:00:01\r",
      "\u001b[K     |███████████████████████▋        | 501 kB 5.4 MB/s eta 0:00:01\r",
      "\u001b[K     |████████████████████████        | 512 kB 5.4 MB/s eta 0:00:01\r",
      "\u001b[K     |████████████████████████▋       | 522 kB 5.4 MB/s eta 0:00:01\r",
      "\u001b[K     |█████████████████████████       | 532 kB 5.4 MB/s eta 0:00:01\r",
      "\u001b[K     |█████████████████████████▌      | 542 kB 5.4 MB/s eta 0:00:01\r",
      "\u001b[K     |██████████████████████████      | 552 kB 5.4 MB/s eta 0:00:01\r",
      "\u001b[K     |██████████████████████████▌     | 563 kB 5.4 MB/s eta 0:00:01\r",
      "\u001b[K     |███████████████████████████     | 573 kB 5.4 MB/s eta 0:00:01\r",
      "\u001b[K     |███████████████████████████▌    | 583 kB 5.4 MB/s eta 0:00:01\r",
      "\u001b[K     |████████████████████████████    | 593 kB 5.4 MB/s eta 0:00:01\r",
      "\u001b[K     |████████████████████████████▍   | 604 kB 5.4 MB/s eta 0:00:01\r",
      "\u001b[K     |█████████████████████████████   | 614 kB 5.4 MB/s eta 0:00:01\r",
      "\u001b[K     |█████████████████████████████▍  | 624 kB 5.4 MB/s eta 0:00:01\r",
      "\u001b[K     |█████████████████████████████▉  | 634 kB 5.4 MB/s eta 0:00:01\r",
      "\u001b[K     |██████████████████████████████▍ | 645 kB 5.4 MB/s eta 0:00:01\r",
      "\u001b[K     |██████████████████████████████▉ | 655 kB 5.4 MB/s eta 0:00:01\r",
      "\u001b[K     |███████████████████████████████▎| 665 kB 5.4 MB/s eta 0:00:01\r",
      "\u001b[K     |███████████████████████████████▉| 675 kB 5.4 MB/s eta 0:00:01\r",
      "\u001b[K     |████████████████████████████████| 679 kB 5.4 MB/s \n",
      "\u001b[?25hRequirement already satisfied: typeguard>=2.7 in /usr/local/lib/python3.7/dist-packages (from tensorflow_addons) (2.7.1)\n",
      "Installing collected packages: tensorflow-addons\n",
      "Successfully installed tensorflow-addons-0.13.0\n"
     ]
    }
   ],
   "source": [
    "!pip install tensorflow_addons\n",
    "import tensorflow_addons as tfa"
   ]
  },
  {
   "cell_type": "code",
   "execution_count": null,
   "metadata": {
    "colab": {
     "base_uri": "https://localhost:8080/"
    },
    "executionInfo": {
     "elapsed": 544,
     "status": "ok",
     "timestamp": 1628058044527,
     "user": {
      "displayName": "Sagar Khode",
      "photoUrl": "",
      "userId": "18017962776089305962"
     },
     "user_tz": -330
    },
    "id": "yt5Qp-X3ocDE",
    "outputId": "430d9b09-21f7-433e-8ba5-ef2165df747c"
   },
   "outputs": [
    {
     "name": "stdout",
     "output_type": "stream",
     "text": [
      "<class 'numpy.ndarray'>\n",
      "<class 'numpy.ndarray'>\n",
      "<class 'numpy.ndarray'>\n",
      "<class 'numpy.ndarray'>\n"
     ]
    }
   ],
   "source": [
    "print(type(padded_text_train))\n",
    "print(type(y_train))\n",
    "print(type(padded_text_val))\n",
    "print(type(y_val))"
   ]
  },
  {
   "cell_type": "code",
   "execution_count": null,
   "metadata": {
    "colab": {
     "base_uri": "https://localhost:8080/"
    },
    "executionInfo": {
     "elapsed": 18144708,
     "status": "ok",
     "timestamp": 1628076208855,
     "user": {
      "displayName": "Sagar Khode",
      "photoUrl": "",
      "userId": "18017962776089305962"
     },
     "user_tz": -330
    },
    "id": "np5i5r7WiuNv",
    "outputId": "e462dc87-a969-4256-ef82-9d5bf8e0fc08"
   },
   "outputs": [
    {
     "name": "stdout",
     "output_type": "stream",
     "text": [
      "Epoch 1/500\n",
      "345/345 [==============================] - 37s 101ms/step - loss: 0.0446 - accuracy: 0.0428 - val_loss: 0.0083 - val_accuracy: 0.0457\n",
      "Epoch 2/500\n",
      "345/345 [==============================] - 35s 100ms/step - loss: 0.0082 - accuracy: 0.0508 - val_loss: 0.0082 - val_accuracy: 0.0520\n",
      "Epoch 3/500\n",
      "345/345 [==============================] - 34s 100ms/step - loss: 0.0081 - accuracy: 0.0525 - val_loss: 0.0082 - val_accuracy: 0.0309\n",
      "Epoch 4/500\n",
      "345/345 [==============================] - 35s 102ms/step - loss: 0.0081 - accuracy: 0.0544 - val_loss: 0.0082 - val_accuracy: 0.0529\n",
      "Epoch 5/500\n",
      "345/345 [==============================] - 35s 100ms/step - loss: 0.0081 - accuracy: 0.0553 - val_loss: 0.0082 - val_accuracy: 0.0543\n",
      "Epoch 6/500\n",
      "345/345 [==============================] - 35s 103ms/step - loss: 0.0080 - accuracy: 0.0569 - val_loss: 0.0081 - val_accuracy: 0.0525\n",
      "Epoch 7/500\n",
      "345/345 [==============================] - 35s 101ms/step - loss: 0.0080 - accuracy: 0.0613 - val_loss: 0.0081 - val_accuracy: 0.0648\n",
      "Epoch 8/500\n",
      "345/345 [==============================] - 37s 106ms/step - loss: 0.0080 - accuracy: 0.0601 - val_loss: 0.0082 - val_accuracy: 0.0643\n",
      "Epoch 9/500\n",
      "345/345 [==============================] - 35s 101ms/step - loss: 0.0079 - accuracy: 0.0625 - val_loss: 0.0081 - val_accuracy: 0.0648\n",
      "Epoch 10/500\n",
      "345/345 [==============================] - 35s 102ms/step - loss: 0.0079 - accuracy: 0.0668 - val_loss: 0.0081 - val_accuracy: 0.0747\n",
      "Epoch 11/500\n",
      "345/345 [==============================] - 35s 102ms/step - loss: 0.0079 - accuracy: 0.0680 - val_loss: 0.0081 - val_accuracy: 0.0652\n",
      "Epoch 12/500\n",
      "345/345 [==============================] - 35s 102ms/step - loss: 0.0079 - accuracy: 0.0684 - val_loss: 0.0081 - val_accuracy: 0.0740\n",
      "Epoch 13/500\n",
      "345/345 [==============================] - 35s 100ms/step - loss: 0.0078 - accuracy: 0.0703 - val_loss: 0.0081 - val_accuracy: 0.0780\n",
      "Epoch 14/500\n",
      "345/345 [==============================] - 35s 101ms/step - loss: 0.0078 - accuracy: 0.0702 - val_loss: 0.0081 - val_accuracy: 0.0634\n",
      "Epoch 15/500\n",
      "345/345 [==============================] - 35s 102ms/step - loss: 0.0078 - accuracy: 0.0710 - val_loss: 0.0080 - val_accuracy: 0.0822\n",
      "Epoch 16/500\n",
      "345/345 [==============================] - 35s 101ms/step - loss: 0.0078 - accuracy: 0.0743 - val_loss: 0.0080 - val_accuracy: 0.0650\n",
      "Epoch 17/500\n",
      "345/345 [==============================] - 35s 101ms/step - loss: 0.0078 - accuracy: 0.0731 - val_loss: 0.0081 - val_accuracy: 0.0729\n",
      "Epoch 18/500\n",
      "345/345 [==============================] - 35s 102ms/step - loss: 0.0077 - accuracy: 0.0756 - val_loss: 0.0080 - val_accuracy: 0.0750\n",
      "Epoch 19/500\n",
      "345/345 [==============================] - 35s 102ms/step - loss: 0.0077 - accuracy: 0.0764 - val_loss: 0.0080 - val_accuracy: 0.0894\n",
      "Epoch 20/500\n",
      "345/345 [==============================] - 35s 101ms/step - loss: 0.0077 - accuracy: 0.0795 - val_loss: 0.0081 - val_accuracy: 0.0768\n",
      "Epoch 21/500\n",
      "345/345 [==============================] - 35s 102ms/step - loss: 0.0077 - accuracy: 0.0794 - val_loss: 0.0080 - val_accuracy: 0.0801\n",
      "Epoch 22/500\n",
      "345/345 [==============================] - 35s 101ms/step - loss: 0.0076 - accuracy: 0.0810 - val_loss: 0.0080 - val_accuracy: 0.0796\n",
      "Epoch 23/500\n",
      "345/345 [==============================] - 35s 102ms/step - loss: 0.0076 - accuracy: 0.0810 - val_loss: 0.0080 - val_accuracy: 0.0669\n",
      "Epoch 24/500\n",
      "345/345 [==============================] - 35s 102ms/step - loss: 0.0076 - accuracy: 0.0815 - val_loss: 0.0080 - val_accuracy: 0.0831\n",
      "Epoch 25/500\n",
      "345/345 [==============================] - 34s 100ms/step - loss: 0.0076 - accuracy: 0.0858 - val_loss: 0.0080 - val_accuracy: 0.0908\n",
      "Epoch 26/500\n",
      "345/345 [==============================] - 34s 100ms/step - loss: 0.0075 - accuracy: 0.0843 - val_loss: 0.0080 - val_accuracy: 0.0826\n",
      "Epoch 27/500\n",
      "345/345 [==============================] - 34s 100ms/step - loss: 0.0075 - accuracy: 0.0869 - val_loss: 0.0080 - val_accuracy: 0.0901\n",
      "Epoch 28/500\n",
      "345/345 [==============================] - 35s 100ms/step - loss: 0.0075 - accuracy: 0.0883 - val_loss: 0.0080 - val_accuracy: 0.0873\n",
      "Epoch 29/500\n",
      "345/345 [==============================] - 34s 100ms/step - loss: 0.0075 - accuracy: 0.0869 - val_loss: 0.0080 - val_accuracy: 0.0912\n",
      "Epoch 30/500\n",
      "345/345 [==============================] - 35s 100ms/step - loss: 0.0074 - accuracy: 0.0897 - val_loss: 0.0080 - val_accuracy: 0.0991\n",
      "Epoch 31/500\n",
      "345/345 [==============================] - 34s 99ms/step - loss: 0.0074 - accuracy: 0.0880 - val_loss: 0.0080 - val_accuracy: 0.0896\n",
      "Epoch 32/500\n",
      "345/345 [==============================] - 35s 100ms/step - loss: 0.0074 - accuracy: 0.0910 - val_loss: 0.0080 - val_accuracy: 0.0970\n",
      "Epoch 33/500\n",
      "345/345 [==============================] - 35s 100ms/step - loss: 0.0074 - accuracy: 0.0916 - val_loss: 0.0080 - val_accuracy: 0.0977\n",
      "Epoch 34/500\n",
      "345/345 [==============================] - 35s 103ms/step - loss: 0.0074 - accuracy: 0.0910 - val_loss: 0.0080 - val_accuracy: 0.0982\n",
      "Epoch 35/500\n",
      "345/345 [==============================] - 34s 100ms/step - loss: 0.0074 - accuracy: 0.0926 - val_loss: 0.0079 - val_accuracy: 0.1014\n",
      "Epoch 36/500\n",
      "345/345 [==============================] - 34s 99ms/step - loss: 0.0076 - accuracy: 0.0870 - val_loss: 0.0080 - val_accuracy: 0.0870\n",
      "Epoch 37/500\n",
      "345/345 [==============================] - 34s 100ms/step - loss: 0.0079 - accuracy: 0.0657 - val_loss: 0.0082 - val_accuracy: 0.0645\n",
      "Epoch 38/500\n",
      "345/345 [==============================] - 34s 100ms/step - loss: 0.0078 - accuracy: 0.0714 - val_loss: 0.0079 - val_accuracy: 0.0896\n",
      "Epoch 39/500\n",
      "345/345 [==============================] - 35s 101ms/step - loss: 0.0074 - accuracy: 0.0907 - val_loss: 0.0079 - val_accuracy: 0.0959\n",
      "Epoch 40/500\n",
      "345/345 [==============================] - 35s 101ms/step - loss: 0.0074 - accuracy: 0.0961 - val_loss: 0.0079 - val_accuracy: 0.0991\n",
      "Epoch 41/500\n",
      "345/345 [==============================] - 35s 101ms/step - loss: 0.0073 - accuracy: 0.0972 - val_loss: 0.0079 - val_accuracy: 0.1012\n",
      "Epoch 42/500\n",
      "345/345 [==============================] - 35s 102ms/step - loss: 0.0073 - accuracy: 0.1011 - val_loss: 0.0079 - val_accuracy: 0.1049\n",
      "Epoch 43/500\n",
      "345/345 [==============================] - 35s 103ms/step - loss: 0.0072 - accuracy: 0.1048 - val_loss: 0.0078 - val_accuracy: 0.1091\n",
      "Epoch 44/500\n",
      "345/345 [==============================] - 35s 101ms/step - loss: 0.0072 - accuracy: 0.1052 - val_loss: 0.0079 - val_accuracy: 0.1089\n",
      "Epoch 45/500\n",
      "345/345 [==============================] - 35s 101ms/step - loss: 0.0072 - accuracy: 0.1057 - val_loss: 0.0079 - val_accuracy: 0.1119\n",
      "Epoch 46/500\n",
      "345/345 [==============================] - 35s 100ms/step - loss: 0.0072 - accuracy: 0.1061 - val_loss: 0.0078 - val_accuracy: 0.0987\n",
      "Epoch 47/500\n",
      "345/345 [==============================] - 35s 102ms/step - loss: 0.0071 - accuracy: 0.1096 - val_loss: 0.0078 - val_accuracy: 0.1003\n",
      "Epoch 48/500\n",
      "345/345 [==============================] - 35s 101ms/step - loss: 0.0071 - accuracy: 0.1144 - val_loss: 0.0078 - val_accuracy: 0.1117\n",
      "Epoch 49/500\n",
      "345/345 [==============================] - 35s 101ms/step - loss: 0.0070 - accuracy: 0.1184 - val_loss: 0.0078 - val_accuracy: 0.1082\n",
      "Epoch 50/500\n",
      "345/345 [==============================] - 35s 101ms/step - loss: 0.0070 - accuracy: 0.1203 - val_loss: 0.0078 - val_accuracy: 0.1061\n",
      "Epoch 51/500\n",
      "345/345 [==============================] - 35s 101ms/step - loss: 0.0069 - accuracy: 0.1206 - val_loss: 0.0079 - val_accuracy: 0.1054\n",
      "Epoch 52/500\n",
      "345/345 [==============================] - 36s 104ms/step - loss: 0.0069 - accuracy: 0.1229 - val_loss: 0.0078 - val_accuracy: 0.1156\n",
      "Epoch 53/500\n",
      "345/345 [==============================] - 35s 101ms/step - loss: 0.0068 - accuracy: 0.1247 - val_loss: 0.0078 - val_accuracy: 0.1195\n",
      "Epoch 54/500\n",
      "345/345 [==============================] - 35s 101ms/step - loss: 0.0068 - accuracy: 0.1313 - val_loss: 0.0078 - val_accuracy: 0.1170\n",
      "Epoch 55/500\n",
      "345/345 [==============================] - 35s 101ms/step - loss: 0.0068 - accuracy: 0.1322 - val_loss: 0.0079 - val_accuracy: 0.1165\n",
      "Epoch 56/500\n",
      "345/345 [==============================] - 35s 101ms/step - loss: 0.0067 - accuracy: 0.1354 - val_loss: 0.0079 - val_accuracy: 0.1200\n",
      "Epoch 57/500\n",
      "345/345 [==============================] - 35s 101ms/step - loss: 0.0067 - accuracy: 0.1366 - val_loss: 0.0079 - val_accuracy: 0.1260\n",
      "Epoch 58/500\n",
      "345/345 [==============================] - 36s 104ms/step - loss: 0.0066 - accuracy: 0.1394 - val_loss: 0.0079 - val_accuracy: 0.1161\n",
      "Epoch 59/500\n",
      "345/345 [==============================] - 37s 106ms/step - loss: 0.0066 - accuracy: 0.1427 - val_loss: 0.0079 - val_accuracy: 0.1274\n",
      "Epoch 60/500\n",
      "345/345 [==============================] - 36s 104ms/step - loss: 0.0066 - accuracy: 0.1456 - val_loss: 0.0080 - val_accuracy: 0.1133\n",
      "Epoch 61/500\n",
      "345/345 [==============================] - 36s 104ms/step - loss: 0.0065 - accuracy: 0.1501 - val_loss: 0.0080 - val_accuracy: 0.1165\n",
      "Epoch 62/500\n",
      "345/345 [==============================] - 36s 104ms/step - loss: 0.0065 - accuracy: 0.1540 - val_loss: 0.0080 - val_accuracy: 0.1251\n",
      "Epoch 63/500\n",
      "345/345 [==============================] - 34s 100ms/step - loss: 0.0064 - accuracy: 0.1539 - val_loss: 0.0080 - val_accuracy: 0.1209\n",
      "Epoch 64/500\n",
      "345/345 [==============================] - 34s 100ms/step - loss: 0.0064 - accuracy: 0.1588 - val_loss: 0.0081 - val_accuracy: 0.1207\n",
      "Epoch 65/500\n",
      "345/345 [==============================] - 35s 100ms/step - loss: 0.0064 - accuracy: 0.1590 - val_loss: 0.0081 - val_accuracy: 0.1165\n",
      "Epoch 66/500\n",
      "345/345 [==============================] - 35s 101ms/step - loss: 0.0063 - accuracy: 0.1650 - val_loss: 0.0081 - val_accuracy: 0.1205\n",
      "Epoch 67/500\n",
      "345/345 [==============================] - 36s 103ms/step - loss: 0.0063 - accuracy: 0.1707 - val_loss: 0.0082 - val_accuracy: 0.1179\n",
      "Epoch 68/500\n",
      "345/345 [==============================] - 36s 105ms/step - loss: 0.0062 - accuracy: 0.1697 - val_loss: 0.0082 - val_accuracy: 0.1237\n",
      "Epoch 69/500\n",
      "345/345 [==============================] - 36s 105ms/step - loss: 0.0062 - accuracy: 0.1729 - val_loss: 0.0084 - val_accuracy: 0.1207\n",
      "Epoch 70/500\n",
      "345/345 [==============================] - 36s 106ms/step - loss: 0.0061 - accuracy: 0.1763 - val_loss: 0.0083 - val_accuracy: 0.1175\n",
      "Epoch 71/500\n",
      "345/345 [==============================] - 36s 103ms/step - loss: 0.0061 - accuracy: 0.1825 - val_loss: 0.0085 - val_accuracy: 0.1221\n",
      "Epoch 72/500\n",
      "345/345 [==============================] - 35s 101ms/step - loss: 0.0061 - accuracy: 0.1818 - val_loss: 0.0084 - val_accuracy: 0.1274\n",
      "Epoch 73/500\n",
      "345/345 [==============================] - 35s 100ms/step - loss: 0.0060 - accuracy: 0.1868 - val_loss: 0.0085 - val_accuracy: 0.1249\n",
      "Epoch 74/500\n",
      "345/345 [==============================] - 35s 101ms/step - loss: 0.0060 - accuracy: 0.1903 - val_loss: 0.0087 - val_accuracy: 0.1212\n",
      "Epoch 75/500\n",
      "345/345 [==============================] - 35s 101ms/step - loss: 0.0059 - accuracy: 0.1954 - val_loss: 0.0086 - val_accuracy: 0.1188\n",
      "Epoch 76/500\n",
      "345/345 [==============================] - 35s 101ms/step - loss: 0.0060 - accuracy: 0.1918 - val_loss: 0.0086 - val_accuracy: 0.1175\n",
      "Epoch 77/500\n",
      "345/345 [==============================] - 34s 100ms/step - loss: 0.0059 - accuracy: 0.2001 - val_loss: 0.0088 - val_accuracy: 0.1123\n",
      "Epoch 78/500\n",
      "345/345 [==============================] - 35s 102ms/step - loss: 0.0058 - accuracy: 0.2073 - val_loss: 0.0087 - val_accuracy: 0.1182\n",
      "Epoch 79/500\n",
      "345/345 [==============================] - 35s 102ms/step - loss: 0.0058 - accuracy: 0.2082 - val_loss: 0.0089 - val_accuracy: 0.1130\n",
      "Epoch 80/500\n",
      "345/345 [==============================] - 35s 101ms/step - loss: 0.0057 - accuracy: 0.2135 - val_loss: 0.0090 - val_accuracy: 0.1156\n",
      "Epoch 81/500\n",
      "345/345 [==============================] - 35s 102ms/step - loss: 0.0057 - accuracy: 0.2214 - val_loss: 0.0090 - val_accuracy: 0.1163\n",
      "Epoch 82/500\n",
      "345/345 [==============================] - 35s 101ms/step - loss: 0.0056 - accuracy: 0.2197 - val_loss: 0.0091 - val_accuracy: 0.1117\n",
      "Epoch 83/500\n",
      "345/345 [==============================] - 35s 101ms/step - loss: 0.0056 - accuracy: 0.2251 - val_loss: 0.0092 - val_accuracy: 0.1158\n",
      "Epoch 84/500\n",
      "345/345 [==============================] - 35s 101ms/step - loss: 0.0055 - accuracy: 0.2301 - val_loss: 0.0093 - val_accuracy: 0.1110\n",
      "Epoch 85/500\n",
      "345/345 [==============================] - 36s 103ms/step - loss: 0.0055 - accuracy: 0.2340 - val_loss: 0.0095 - val_accuracy: 0.1186\n",
      "Epoch 86/500\n",
      "345/345 [==============================] - 36s 103ms/step - loss: 0.0055 - accuracy: 0.2369 - val_loss: 0.0096 - val_accuracy: 0.1082\n",
      "Epoch 87/500\n",
      "345/345 [==============================] - 36s 105ms/step - loss: 0.0054 - accuracy: 0.2418 - val_loss: 0.0096 - val_accuracy: 0.1149\n",
      "Epoch 88/500\n",
      "345/345 [==============================] - 36s 103ms/step - loss: 0.0054 - accuracy: 0.2467 - val_loss: 0.0097 - val_accuracy: 0.1119\n",
      "Epoch 89/500\n",
      "345/345 [==============================] - 36s 104ms/step - loss: 0.0053 - accuracy: 0.2520 - val_loss: 0.0097 - val_accuracy: 0.1093\n",
      "Epoch 90/500\n",
      "345/345 [==============================] - 35s 103ms/step - loss: 0.0053 - accuracy: 0.2550 - val_loss: 0.0101 - val_accuracy: 0.1079\n",
      "Epoch 91/500\n",
      "345/345 [==============================] - 35s 102ms/step - loss: 0.0053 - accuracy: 0.2545 - val_loss: 0.0099 - val_accuracy: 0.1103\n",
      "Epoch 92/500\n",
      "345/345 [==============================] - 35s 102ms/step - loss: 0.0052 - accuracy: 0.2576 - val_loss: 0.0101 - val_accuracy: 0.1123\n",
      "Epoch 93/500\n",
      "345/345 [==============================] - 35s 103ms/step - loss: 0.0052 - accuracy: 0.2651 - val_loss: 0.0103 - val_accuracy: 0.1114\n",
      "Epoch 94/500\n",
      "345/345 [==============================] - 35s 101ms/step - loss: 0.0051 - accuracy: 0.2702 - val_loss: 0.0104 - val_accuracy: 0.1054\n",
      "Epoch 95/500\n",
      "345/345 [==============================] - 35s 101ms/step - loss: 0.0051 - accuracy: 0.2709 - val_loss: 0.0104 - val_accuracy: 0.1056\n",
      "Epoch 96/500\n",
      "345/345 [==============================] - 35s 101ms/step - loss: 0.0050 - accuracy: 0.2740 - val_loss: 0.0105 - val_accuracy: 0.1070\n",
      "Epoch 97/500\n",
      "345/345 [==============================] - 35s 102ms/step - loss: 0.0050 - accuracy: 0.2842 - val_loss: 0.0106 - val_accuracy: 0.1035\n",
      "Epoch 98/500\n",
      "345/345 [==============================] - 35s 101ms/step - loss: 0.0050 - accuracy: 0.2843 - val_loss: 0.0107 - val_accuracy: 0.1033\n",
      "Epoch 99/500\n",
      "345/345 [==============================] - 35s 102ms/step - loss: 0.0049 - accuracy: 0.2910 - val_loss: 0.0109 - val_accuracy: 0.1038\n",
      "Epoch 100/500\n",
      "345/345 [==============================] - 35s 103ms/step - loss: 0.0049 - accuracy: 0.2951 - val_loss: 0.0110 - val_accuracy: 0.1045\n",
      "Epoch 101/500\n",
      "345/345 [==============================] - 35s 103ms/step - loss: 0.0049 - accuracy: 0.2970 - val_loss: 0.0112 - val_accuracy: 0.1033\n",
      "Epoch 102/500\n",
      "345/345 [==============================] - 35s 101ms/step - loss: 0.0048 - accuracy: 0.3028 - val_loss: 0.0113 - val_accuracy: 0.1010\n",
      "Epoch 103/500\n",
      "345/345 [==============================] - 35s 103ms/step - loss: 0.0048 - accuracy: 0.3094 - val_loss: 0.0114 - val_accuracy: 0.1040\n",
      "Epoch 104/500\n",
      "345/345 [==============================] - 35s 102ms/step - loss: 0.0048 - accuracy: 0.3048 - val_loss: 0.0114 - val_accuracy: 0.1000\n",
      "Epoch 105/500\n",
      "345/345 [==============================] - 35s 101ms/step - loss: 0.0047 - accuracy: 0.3139 - val_loss: 0.0118 - val_accuracy: 0.1033\n",
      "Epoch 106/500\n",
      "345/345 [==============================] - 35s 102ms/step - loss: 0.0047 - accuracy: 0.3154 - val_loss: 0.0119 - val_accuracy: 0.1038\n",
      "Epoch 107/500\n",
      "345/345 [==============================] - 35s 102ms/step - loss: 0.0046 - accuracy: 0.3224 - val_loss: 0.0122 - val_accuracy: 0.0982\n",
      "Epoch 108/500\n",
      "345/345 [==============================] - 35s 101ms/step - loss: 0.0046 - accuracy: 0.3243 - val_loss: 0.0122 - val_accuracy: 0.0954\n",
      "Epoch 109/500\n",
      "345/345 [==============================] - 35s 102ms/step - loss: 0.0046 - accuracy: 0.3334 - val_loss: 0.0123 - val_accuracy: 0.1038\n",
      "Epoch 110/500\n",
      "345/345 [==============================] - 36s 103ms/step - loss: 0.0046 - accuracy: 0.3311 - val_loss: 0.0123 - val_accuracy: 0.0942\n",
      "Epoch 111/500\n",
      "345/345 [==============================] - 35s 102ms/step - loss: 0.0045 - accuracy: 0.3340 - val_loss: 0.0126 - val_accuracy: 0.0989\n",
      "Epoch 112/500\n",
      "345/345 [==============================] - 35s 102ms/step - loss: 0.0045 - accuracy: 0.3383 - val_loss: 0.0126 - val_accuracy: 0.0935\n",
      "Epoch 113/500\n",
      "345/345 [==============================] - 35s 103ms/step - loss: 0.0045 - accuracy: 0.3484 - val_loss: 0.0127 - val_accuracy: 0.0994\n",
      "Epoch 114/500\n",
      "345/345 [==============================] - 35s 102ms/step - loss: 0.0045 - accuracy: 0.3462 - val_loss: 0.0132 - val_accuracy: 0.0966\n",
      "Epoch 115/500\n",
      "345/345 [==============================] - 35s 102ms/step - loss: 0.0044 - accuracy: 0.3473 - val_loss: 0.0130 - val_accuracy: 0.0968\n",
      "Epoch 116/500\n",
      "345/345 [==============================] - 35s 102ms/step - loss: 0.0044 - accuracy: 0.3483 - val_loss: 0.0130 - val_accuracy: 0.0938\n",
      "Epoch 117/500\n",
      "345/345 [==============================] - 35s 101ms/step - loss: 0.0044 - accuracy: 0.3585 - val_loss: 0.0132 - val_accuracy: 0.0924\n",
      "Epoch 118/500\n",
      "345/345 [==============================] - 35s 102ms/step - loss: 0.0043 - accuracy: 0.3591 - val_loss: 0.0134 - val_accuracy: 0.0977\n",
      "Epoch 119/500\n",
      "345/345 [==============================] - 36s 103ms/step - loss: 0.0043 - accuracy: 0.3635 - val_loss: 0.0135 - val_accuracy: 0.0968\n",
      "Epoch 120/500\n",
      "345/345 [==============================] - 35s 101ms/step - loss: 0.0043 - accuracy: 0.3657 - val_loss: 0.0136 - val_accuracy: 0.0898\n",
      "Epoch 121/500\n",
      "345/345 [==============================] - 35s 101ms/step - loss: 0.0043 - accuracy: 0.3703 - val_loss: 0.0140 - val_accuracy: 0.0940\n",
      "Epoch 122/500\n",
      "345/345 [==============================] - 35s 101ms/step - loss: 0.0043 - accuracy: 0.3700 - val_loss: 0.0138 - val_accuracy: 0.0938\n",
      "Epoch 123/500\n",
      "345/345 [==============================] - 35s 101ms/step - loss: 0.0042 - accuracy: 0.3734 - val_loss: 0.0141 - val_accuracy: 0.0915\n",
      "Epoch 124/500\n",
      "345/345 [==============================] - 35s 102ms/step - loss: 0.0042 - accuracy: 0.3775 - val_loss: 0.0141 - val_accuracy: 0.0854\n",
      "Epoch 125/500\n",
      "345/345 [==============================] - 35s 102ms/step - loss: 0.0042 - accuracy: 0.3787 - val_loss: 0.0145 - val_accuracy: 0.0945\n",
      "Epoch 126/500\n",
      "345/345 [==============================] - 36s 104ms/step - loss: 0.0041 - accuracy: 0.3856 - val_loss: 0.0145 - val_accuracy: 0.0889\n",
      "Epoch 127/500\n",
      "345/345 [==============================] - 36s 105ms/step - loss: 0.0041 - accuracy: 0.3834 - val_loss: 0.0143 - val_accuracy: 0.0873\n",
      "Epoch 128/500\n",
      "345/345 [==============================] - 35s 103ms/step - loss: 0.0041 - accuracy: 0.3840 - val_loss: 0.0147 - val_accuracy: 0.0894\n",
      "Epoch 129/500\n",
      "345/345 [==============================] - 35s 101ms/step - loss: 0.0041 - accuracy: 0.3865 - val_loss: 0.0148 - val_accuracy: 0.0875\n",
      "Epoch 130/500\n",
      "345/345 [==============================] - 35s 102ms/step - loss: 0.0040 - accuracy: 0.3929 - val_loss: 0.0152 - val_accuracy: 0.0910\n",
      "Epoch 131/500\n",
      "345/345 [==============================] - 35s 103ms/step - loss: 0.0040 - accuracy: 0.3961 - val_loss: 0.0151 - val_accuracy: 0.0861\n",
      "Epoch 132/500\n",
      "345/345 [==============================] - 35s 102ms/step - loss: 0.0040 - accuracy: 0.3985 - val_loss: 0.0152 - val_accuracy: 0.0919\n",
      "Epoch 133/500\n",
      "345/345 [==============================] - 35s 101ms/step - loss: 0.0040 - accuracy: 0.3987 - val_loss: 0.0155 - val_accuracy: 0.0894\n",
      "Epoch 134/500\n",
      "345/345 [==============================] - 34s 100ms/step - loss: 0.0039 - accuracy: 0.4066 - val_loss: 0.0154 - val_accuracy: 0.0884\n",
      "Epoch 135/500\n",
      "345/345 [==============================] - 35s 102ms/step - loss: 0.0039 - accuracy: 0.4098 - val_loss: 0.0159 - val_accuracy: 0.0933\n",
      "Epoch 136/500\n",
      "345/345 [==============================] - 35s 102ms/step - loss: 0.0040 - accuracy: 0.4058 - val_loss: 0.0156 - val_accuracy: 0.0903\n",
      "Epoch 137/500\n",
      "345/345 [==============================] - 35s 103ms/step - loss: 0.0039 - accuracy: 0.4071 - val_loss: 0.0158 - val_accuracy: 0.0931\n",
      "Epoch 138/500\n",
      "345/345 [==============================] - 35s 101ms/step - loss: 0.0039 - accuracy: 0.4106 - val_loss: 0.0159 - val_accuracy: 0.0889\n",
      "Epoch 139/500\n",
      "345/345 [==============================] - 35s 101ms/step - loss: 0.0039 - accuracy: 0.4146 - val_loss: 0.0163 - val_accuracy: 0.0847\n",
      "Epoch 140/500\n",
      "345/345 [==============================] - 35s 102ms/step - loss: 0.0038 - accuracy: 0.4159 - val_loss: 0.0160 - val_accuracy: 0.0864\n",
      "Epoch 141/500\n",
      "345/345 [==============================] - 35s 102ms/step - loss: 0.0038 - accuracy: 0.4203 - val_loss: 0.0165 - val_accuracy: 0.0889\n",
      "Epoch 142/500\n",
      "345/345 [==============================] - 35s 101ms/step - loss: 0.0038 - accuracy: 0.4229 - val_loss: 0.0167 - val_accuracy: 0.0868\n",
      "Epoch 143/500\n",
      "345/345 [==============================] - 35s 102ms/step - loss: 0.0038 - accuracy: 0.4234 - val_loss: 0.0166 - val_accuracy: 0.0868\n",
      "Epoch 144/500\n",
      "345/345 [==============================] - 35s 102ms/step - loss: 0.0038 - accuracy: 0.4235 - val_loss: 0.0168 - val_accuracy: 0.0901\n",
      "Epoch 145/500\n",
      "345/345 [==============================] - 35s 102ms/step - loss: 0.0038 - accuracy: 0.4260 - val_loss: 0.0172 - val_accuracy: 0.0838\n",
      "Epoch 146/500\n",
      "345/345 [==============================] - 36s 104ms/step - loss: 0.0038 - accuracy: 0.4283 - val_loss: 0.0174 - val_accuracy: 0.0875\n",
      "Epoch 147/500\n",
      "345/345 [==============================] - 35s 102ms/step - loss: 0.0037 - accuracy: 0.4265 - val_loss: 0.0173 - val_accuracy: 0.0833\n",
      "Epoch 148/500\n",
      "345/345 [==============================] - 35s 103ms/step - loss: 0.0037 - accuracy: 0.4322 - val_loss: 0.0172 - val_accuracy: 0.0810\n",
      "Epoch 149/500\n",
      "345/345 [==============================] - 35s 102ms/step - loss: 0.0037 - accuracy: 0.4369 - val_loss: 0.0177 - val_accuracy: 0.0826\n",
      "Epoch 150/500\n",
      "345/345 [==============================] - 35s 103ms/step - loss: 0.0037 - accuracy: 0.4380 - val_loss: 0.0181 - val_accuracy: 0.0850\n",
      "Epoch 151/500\n",
      "345/345 [==============================] - 35s 102ms/step - loss: 0.0036 - accuracy: 0.4393 - val_loss: 0.0181 - val_accuracy: 0.0861\n",
      "Epoch 152/500\n",
      "345/345 [==============================] - 36s 103ms/step - loss: 0.0036 - accuracy: 0.4383 - val_loss: 0.0179 - val_accuracy: 0.0852\n",
      "Epoch 153/500\n",
      "345/345 [==============================] - 35s 103ms/step - loss: 0.0036 - accuracy: 0.4449 - val_loss: 0.0181 - val_accuracy: 0.0833\n",
      "Epoch 154/500\n",
      "345/345 [==============================] - 35s 103ms/step - loss: 0.0037 - accuracy: 0.4390 - val_loss: 0.0182 - val_accuracy: 0.0854\n",
      "Epoch 155/500\n",
      "345/345 [==============================] - 36s 104ms/step - loss: 0.0036 - accuracy: 0.4460 - val_loss: 0.0183 - val_accuracy: 0.0829\n",
      "Epoch 156/500\n",
      "345/345 [==============================] - 35s 102ms/step - loss: 0.0036 - accuracy: 0.4434 - val_loss: 0.0184 - val_accuracy: 0.0819\n",
      "Epoch 157/500\n",
      "345/345 [==============================] - 36s 104ms/step - loss: 0.0036 - accuracy: 0.4506 - val_loss: 0.0186 - val_accuracy: 0.0854\n",
      "Epoch 158/500\n",
      "345/345 [==============================] - 35s 103ms/step - loss: 0.0035 - accuracy: 0.4532 - val_loss: 0.0192 - val_accuracy: 0.0819\n",
      "Epoch 159/500\n",
      "345/345 [==============================] - 35s 102ms/step - loss: 0.0035 - accuracy: 0.4532 - val_loss: 0.0186 - val_accuracy: 0.0847\n",
      "Epoch 160/500\n",
      "345/345 [==============================] - 36s 103ms/step - loss: 0.0035 - accuracy: 0.4503 - val_loss: 0.0191 - val_accuracy: 0.0838\n",
      "Epoch 161/500\n",
      "345/345 [==============================] - 35s 103ms/step - loss: 0.0035 - accuracy: 0.4600 - val_loss: 0.0193 - val_accuracy: 0.0789\n",
      "Epoch 162/500\n",
      "345/345 [==============================] - 35s 102ms/step - loss: 0.0035 - accuracy: 0.4542 - val_loss: 0.0192 - val_accuracy: 0.0782\n",
      "Epoch 163/500\n",
      "345/345 [==============================] - 35s 102ms/step - loss: 0.0035 - accuracy: 0.4571 - val_loss: 0.0195 - val_accuracy: 0.0808\n",
      "Epoch 164/500\n",
      "345/345 [==============================] - 36s 104ms/step - loss: 0.0035 - accuracy: 0.4638 - val_loss: 0.0200 - val_accuracy: 0.0908\n",
      "Epoch 165/500\n",
      "345/345 [==============================] - 36s 103ms/step - loss: 0.0035 - accuracy: 0.4597 - val_loss: 0.0195 - val_accuracy: 0.0792\n",
      "Epoch 166/500\n",
      "345/345 [==============================] - 35s 102ms/step - loss: 0.0034 - accuracy: 0.4621 - val_loss: 0.0198 - val_accuracy: 0.0773\n",
      "Epoch 167/500\n",
      "345/345 [==============================] - 35s 102ms/step - loss: 0.0034 - accuracy: 0.4640 - val_loss: 0.0199 - val_accuracy: 0.0831\n",
      "Epoch 168/500\n",
      "345/345 [==============================] - 35s 103ms/step - loss: 0.0034 - accuracy: 0.4667 - val_loss: 0.0201 - val_accuracy: 0.0812\n",
      "Epoch 169/500\n",
      "345/345 [==============================] - 35s 103ms/step - loss: 0.0034 - accuracy: 0.4680 - val_loss: 0.0203 - val_accuracy: 0.0829\n",
      "Epoch 170/500\n",
      "345/345 [==============================] - 35s 103ms/step - loss: 0.0034 - accuracy: 0.4665 - val_loss: 0.0204 - val_accuracy: 0.0805\n",
      "Epoch 171/500\n",
      "345/345 [==============================] - 36s 103ms/step - loss: 0.0034 - accuracy: 0.4716 - val_loss: 0.0203 - val_accuracy: 0.0771\n",
      "Epoch 172/500\n",
      "345/345 [==============================] - 35s 103ms/step - loss: 0.0034 - accuracy: 0.4658 - val_loss: 0.0204 - val_accuracy: 0.0787\n",
      "Epoch 173/500\n",
      "345/345 [==============================] - 36s 105ms/step - loss: 0.0034 - accuracy: 0.4747 - val_loss: 0.0206 - val_accuracy: 0.0771\n",
      "Epoch 174/500\n",
      "345/345 [==============================] - 36s 103ms/step - loss: 0.0033 - accuracy: 0.4757 - val_loss: 0.0208 - val_accuracy: 0.0771\n",
      "Epoch 175/500\n",
      "345/345 [==============================] - 35s 103ms/step - loss: 0.0033 - accuracy: 0.4747 - val_loss: 0.0205 - val_accuracy: 0.0829\n",
      "Epoch 176/500\n",
      "345/345 [==============================] - 35s 103ms/step - loss: 0.0033 - accuracy: 0.4779 - val_loss: 0.0209 - val_accuracy: 0.0715\n",
      "Epoch 177/500\n",
      "345/345 [==============================] - 35s 102ms/step - loss: 0.0033 - accuracy: 0.4768 - val_loss: 0.0212 - val_accuracy: 0.0780\n",
      "Epoch 178/500\n",
      "345/345 [==============================] - 36s 104ms/step - loss: 0.0033 - accuracy: 0.4802 - val_loss: 0.0208 - val_accuracy: 0.0785\n",
      "Epoch 179/500\n",
      "345/345 [==============================] - 36s 105ms/step - loss: 0.0033 - accuracy: 0.4788 - val_loss: 0.0212 - val_accuracy: 0.0775\n",
      "Epoch 180/500\n",
      "345/345 [==============================] - 36s 103ms/step - loss: 0.0032 - accuracy: 0.4827 - val_loss: 0.0219 - val_accuracy: 0.0812\n",
      "Epoch 181/500\n",
      "345/345 [==============================] - 36s 104ms/step - loss: 0.0033 - accuracy: 0.4801 - val_loss: 0.0216 - val_accuracy: 0.0803\n",
      "Epoch 182/500\n",
      "345/345 [==============================] - 37s 107ms/step - loss: 0.0033 - accuracy: 0.4850 - val_loss: 0.0223 - val_accuracy: 0.0766\n",
      "Epoch 183/500\n",
      "345/345 [==============================] - 37s 106ms/step - loss: 0.0033 - accuracy: 0.4812 - val_loss: 0.0216 - val_accuracy: 0.0801\n",
      "Epoch 184/500\n",
      "345/345 [==============================] - 37s 106ms/step - loss: 0.0032 - accuracy: 0.4859 - val_loss: 0.0218 - val_accuracy: 0.0771\n",
      "Epoch 185/500\n",
      "345/345 [==============================] - 37s 106ms/step - loss: 0.0032 - accuracy: 0.4875 - val_loss: 0.0220 - val_accuracy: 0.0773\n",
      "Epoch 186/500\n",
      "345/345 [==============================] - 36s 106ms/step - loss: 0.0032 - accuracy: 0.4871 - val_loss: 0.0222 - val_accuracy: 0.0789\n",
      "Epoch 187/500\n",
      "345/345 [==============================] - 36s 105ms/step - loss: 0.0032 - accuracy: 0.4933 - val_loss: 0.0222 - val_accuracy: 0.0736\n",
      "Epoch 188/500\n",
      "345/345 [==============================] - 36s 105ms/step - loss: 0.0032 - accuracy: 0.4912 - val_loss: 0.0228 - val_accuracy: 0.0747\n",
      "Epoch 189/500\n",
      "345/345 [==============================] - 36s 104ms/step - loss: 0.0032 - accuracy: 0.4907 - val_loss: 0.0225 - val_accuracy: 0.0768\n",
      "Epoch 190/500\n",
      "345/345 [==============================] - 36s 105ms/step - loss: 0.0032 - accuracy: 0.4902 - val_loss: 0.0221 - val_accuracy: 0.0785\n",
      "Epoch 191/500\n",
      "345/345 [==============================] - 37s 107ms/step - loss: 0.0032 - accuracy: 0.4917 - val_loss: 0.0223 - val_accuracy: 0.0766\n",
      "Epoch 192/500\n",
      "345/345 [==============================] - 36s 106ms/step - loss: 0.0032 - accuracy: 0.4930 - val_loss: 0.0228 - val_accuracy: 0.0773\n",
      "Epoch 193/500\n",
      "345/345 [==============================] - 37s 106ms/step - loss: 0.0031 - accuracy: 0.5012 - val_loss: 0.0229 - val_accuracy: 0.0780\n",
      "Epoch 194/500\n",
      "345/345 [==============================] - 36s 106ms/step - loss: 0.0031 - accuracy: 0.5044 - val_loss: 0.0230 - val_accuracy: 0.0745\n",
      "Epoch 195/500\n",
      "345/345 [==============================] - 37s 107ms/step - loss: 0.0032 - accuracy: 0.4958 - val_loss: 0.0227 - val_accuracy: 0.0757\n",
      "Epoch 196/500\n",
      "345/345 [==============================] - 37s 106ms/step - loss: 0.0031 - accuracy: 0.5002 - val_loss: 0.0231 - val_accuracy: 0.0745\n",
      "Epoch 197/500\n",
      "345/345 [==============================] - 36s 105ms/step - loss: 0.0031 - accuracy: 0.5060 - val_loss: 0.0234 - val_accuracy: 0.0792\n",
      "Epoch 198/500\n",
      "345/345 [==============================] - 36s 103ms/step - loss: 0.0031 - accuracy: 0.5036 - val_loss: 0.0238 - val_accuracy: 0.0766\n",
      "Epoch 199/500\n",
      "345/345 [==============================] - 36s 104ms/step - loss: 0.0031 - accuracy: 0.5041 - val_loss: 0.0235 - val_accuracy: 0.0782\n",
      "Epoch 200/500\n",
      "345/345 [==============================] - 36s 105ms/step - loss: 0.0031 - accuracy: 0.5022 - val_loss: 0.0231 - val_accuracy: 0.0778\n",
      "Epoch 201/500\n",
      "345/345 [==============================] - 36s 104ms/step - loss: 0.0031 - accuracy: 0.5048 - val_loss: 0.0235 - val_accuracy: 0.0752\n",
      "Epoch 202/500\n",
      "345/345 [==============================] - 36s 104ms/step - loss: 0.0031 - accuracy: 0.5102 - val_loss: 0.0237 - val_accuracy: 0.0759\n",
      "Epoch 203/500\n",
      "345/345 [==============================] - 36s 104ms/step - loss: 0.0031 - accuracy: 0.5030 - val_loss: 0.0240 - val_accuracy: 0.0778\n",
      "Epoch 204/500\n",
      "345/345 [==============================] - 36s 104ms/step - loss: 0.0031 - accuracy: 0.5075 - val_loss: 0.0239 - val_accuracy: 0.0764\n",
      "Epoch 205/500\n",
      "345/345 [==============================] - 36s 105ms/step - loss: 0.0030 - accuracy: 0.5065 - val_loss: 0.0244 - val_accuracy: 0.0745\n",
      "Epoch 206/500\n",
      "345/345 [==============================] - 36s 104ms/step - loss: 0.0030 - accuracy: 0.5162 - val_loss: 0.0243 - val_accuracy: 0.0747\n",
      "Epoch 207/500\n",
      "345/345 [==============================] - 36s 104ms/step - loss: 0.0030 - accuracy: 0.5137 - val_loss: 0.0241 - val_accuracy: 0.0715\n",
      "Epoch 208/500\n",
      "345/345 [==============================] - 36s 104ms/step - loss: 0.0030 - accuracy: 0.5074 - val_loss: 0.0246 - val_accuracy: 0.0745\n",
      "Epoch 209/500\n",
      "345/345 [==============================] - 36s 106ms/step - loss: 0.0030 - accuracy: 0.5062 - val_loss: 0.0246 - val_accuracy: 0.0703\n",
      "Epoch 210/500\n",
      "345/345 [==============================] - 36s 104ms/step - loss: 0.0030 - accuracy: 0.5128 - val_loss: 0.0247 - val_accuracy: 0.0703\n",
      "Epoch 211/500\n",
      "345/345 [==============================] - 36s 105ms/step - loss: 0.0030 - accuracy: 0.5138 - val_loss: 0.0246 - val_accuracy: 0.0743\n",
      "Epoch 212/500\n",
      "345/345 [==============================] - 36s 104ms/step - loss: 0.0030 - accuracy: 0.5178 - val_loss: 0.0250 - val_accuracy: 0.0766\n",
      "Epoch 213/500\n",
      "345/345 [==============================] - 35s 103ms/step - loss: 0.0030 - accuracy: 0.5119 - val_loss: 0.0248 - val_accuracy: 0.0743\n",
      "Epoch 214/500\n",
      "345/345 [==============================] - 36s 104ms/step - loss: 0.0030 - accuracy: 0.5143 - val_loss: 0.0242 - val_accuracy: 0.0727\n",
      "Epoch 215/500\n",
      "345/345 [==============================] - 36s 103ms/step - loss: 0.0031 - accuracy: 0.5051 - val_loss: 0.0246 - val_accuracy: 0.0752\n",
      "Epoch 216/500\n",
      "345/345 [==============================] - 36s 103ms/step - loss: 0.0030 - accuracy: 0.5181 - val_loss: 0.0252 - val_accuracy: 0.0747\n",
      "Epoch 217/500\n",
      "345/345 [==============================] - 36s 103ms/step - loss: 0.0029 - accuracy: 0.5213 - val_loss: 0.0250 - val_accuracy: 0.0766\n",
      "Epoch 218/500\n",
      "345/345 [==============================] - 36s 106ms/step - loss: 0.0029 - accuracy: 0.5198 - val_loss: 0.0258 - val_accuracy: 0.0722\n",
      "Epoch 219/500\n",
      "345/345 [==============================] - 35s 102ms/step - loss: 0.0029 - accuracy: 0.5233 - val_loss: 0.0257 - val_accuracy: 0.0771\n",
      "Epoch 220/500\n",
      "345/345 [==============================] - 36s 104ms/step - loss: 0.0029 - accuracy: 0.5230 - val_loss: 0.0258 - val_accuracy: 0.0727\n",
      "Epoch 221/500\n",
      "345/345 [==============================] - 36s 105ms/step - loss: 0.0029 - accuracy: 0.5230 - val_loss: 0.0260 - val_accuracy: 0.0764\n",
      "Epoch 222/500\n",
      "345/345 [==============================] - 36s 103ms/step - loss: 0.0029 - accuracy: 0.5206 - val_loss: 0.0262 - val_accuracy: 0.0764\n",
      "Epoch 223/500\n",
      "345/345 [==============================] - 36s 103ms/step - loss: 0.0029 - accuracy: 0.5202 - val_loss: 0.0258 - val_accuracy: 0.0747\n",
      "Epoch 224/500\n",
      "345/345 [==============================] - 36s 105ms/step - loss: 0.0029 - accuracy: 0.5209 - val_loss: 0.0258 - val_accuracy: 0.0757\n",
      "Epoch 225/500\n",
      "345/345 [==============================] - 36s 104ms/step - loss: 0.0029 - accuracy: 0.5201 - val_loss: 0.0259 - val_accuracy: 0.0773\n",
      "Epoch 226/500\n",
      "345/345 [==============================] - 36s 103ms/step - loss: 0.0028 - accuracy: 0.5315 - val_loss: 0.0261 - val_accuracy: 0.0766\n",
      "Epoch 227/500\n",
      "345/345 [==============================] - 36s 105ms/step - loss: 0.0028 - accuracy: 0.5267 - val_loss: 0.0262 - val_accuracy: 0.0761\n",
      "Epoch 228/500\n",
      "345/345 [==============================] - 36s 104ms/step - loss: 0.0028 - accuracy: 0.5257 - val_loss: 0.0268 - val_accuracy: 0.0745\n",
      "Epoch 229/500\n",
      "345/345 [==============================] - 36s 104ms/step - loss: 0.0029 - accuracy: 0.5217 - val_loss: 0.0262 - val_accuracy: 0.0752\n",
      "Epoch 230/500\n",
      "345/345 [==============================] - 36s 104ms/step - loss: 0.0029 - accuracy: 0.5225 - val_loss: 0.0262 - val_accuracy: 0.0766\n",
      "Epoch 231/500\n",
      "345/345 [==============================] - 36s 104ms/step - loss: 0.0028 - accuracy: 0.5297 - val_loss: 0.0267 - val_accuracy: 0.0731\n",
      "Epoch 232/500\n",
      "345/345 [==============================] - 36s 105ms/step - loss: 0.0028 - accuracy: 0.5295 - val_loss: 0.0267 - val_accuracy: 0.0734\n",
      "Epoch 233/500\n",
      "345/345 [==============================] - 36s 103ms/step - loss: 0.0028 - accuracy: 0.5306 - val_loss: 0.0266 - val_accuracy: 0.0754\n",
      "Epoch 234/500\n",
      "345/345 [==============================] - 36s 104ms/step - loss: 0.0028 - accuracy: 0.5304 - val_loss: 0.0273 - val_accuracy: 0.0717\n",
      "Epoch 235/500\n",
      "345/345 [==============================] - 36s 104ms/step - loss: 0.0028 - accuracy: 0.5280 - val_loss: 0.0277 - val_accuracy: 0.0740\n",
      "Epoch 236/500\n",
      "345/345 [==============================] - 36s 104ms/step - loss: 0.0028 - accuracy: 0.5338 - val_loss: 0.0278 - val_accuracy: 0.0747\n",
      "Epoch 237/500\n",
      "345/345 [==============================] - 36s 103ms/step - loss: 0.0028 - accuracy: 0.5322 - val_loss: 0.0268 - val_accuracy: 0.0747\n",
      "Epoch 238/500\n",
      "345/345 [==============================] - 36s 104ms/step - loss: 0.0028 - accuracy: 0.5293 - val_loss: 0.0272 - val_accuracy: 0.0731\n",
      "Epoch 239/500\n",
      "345/345 [==============================] - 35s 103ms/step - loss: 0.0028 - accuracy: 0.5372 - val_loss: 0.0277 - val_accuracy: 0.0729\n",
      "Epoch 240/500\n",
      "345/345 [==============================] - 36s 104ms/step - loss: 0.0028 - accuracy: 0.5371 - val_loss: 0.0273 - val_accuracy: 0.0699\n",
      "Epoch 241/500\n",
      "345/345 [==============================] - 36s 103ms/step - loss: 0.0028 - accuracy: 0.5324 - val_loss: 0.0279 - val_accuracy: 0.0745\n",
      "Epoch 242/500\n",
      "345/345 [==============================] - 36s 105ms/step - loss: 0.0028 - accuracy: 0.5344 - val_loss: 0.0271 - val_accuracy: 0.0761\n",
      "Epoch 243/500\n",
      "345/345 [==============================] - 36s 105ms/step - loss: 0.0028 - accuracy: 0.5370 - val_loss: 0.0279 - val_accuracy: 0.0738\n",
      "Epoch 244/500\n",
      "345/345 [==============================] - 36s 104ms/step - loss: 0.0028 - accuracy: 0.5299 - val_loss: 0.0279 - val_accuracy: 0.0766\n",
      "Epoch 245/500\n",
      "345/345 [==============================] - 37s 107ms/step - loss: 0.0028 - accuracy: 0.5316 - val_loss: 0.0274 - val_accuracy: 0.0766\n",
      "Epoch 246/500\n",
      "345/345 [==============================] - 37s 106ms/step - loss: 0.0027 - accuracy: 0.5423 - val_loss: 0.0281 - val_accuracy: 0.0740\n",
      "Epoch 247/500\n",
      "345/345 [==============================] - 36s 105ms/step - loss: 0.0027 - accuracy: 0.5389 - val_loss: 0.0282 - val_accuracy: 0.0764\n",
      "Epoch 248/500\n",
      "345/345 [==============================] - 36s 105ms/step - loss: 0.0027 - accuracy: 0.5388 - val_loss: 0.0282 - val_accuracy: 0.0740\n",
      "Epoch 249/500\n",
      "345/345 [==============================] - 36s 105ms/step - loss: 0.0027 - accuracy: 0.5435 - val_loss: 0.0289 - val_accuracy: 0.0785\n",
      "Epoch 250/500\n",
      "345/345 [==============================] - 36s 105ms/step - loss: 0.0027 - accuracy: 0.5367 - val_loss: 0.0283 - val_accuracy: 0.0759\n",
      "Epoch 251/500\n",
      "345/345 [==============================] - 36s 105ms/step - loss: 0.0028 - accuracy: 0.5344 - val_loss: 0.0282 - val_accuracy: 0.0740\n",
      "Epoch 252/500\n",
      "345/345 [==============================] - 36s 104ms/step - loss: 0.0028 - accuracy: 0.5364 - val_loss: 0.0285 - val_accuracy: 0.0724\n",
      "Epoch 253/500\n",
      "345/345 [==============================] - 36s 105ms/step - loss: 0.0028 - accuracy: 0.5378 - val_loss: 0.0278 - val_accuracy: 0.0713\n",
      "Epoch 254/500\n",
      "345/345 [==============================] - 37s 108ms/step - loss: 0.0027 - accuracy: 0.5439 - val_loss: 0.0281 - val_accuracy: 0.0710\n",
      "Epoch 255/500\n",
      "345/345 [==============================] - 37s 106ms/step - loss: 0.0026 - accuracy: 0.5475 - val_loss: 0.0289 - val_accuracy: 0.0745\n",
      "Epoch 256/500\n",
      "345/345 [==============================] - 36s 105ms/step - loss: 0.0026 - accuracy: 0.5475 - val_loss: 0.0289 - val_accuracy: 0.0724\n",
      "Epoch 257/500\n",
      "345/345 [==============================] - 36s 104ms/step - loss: 0.0027 - accuracy: 0.5422 - val_loss: 0.0286 - val_accuracy: 0.0736\n",
      "Epoch 258/500\n",
      "345/345 [==============================] - 36s 104ms/step - loss: 0.0027 - accuracy: 0.5427 - val_loss: 0.0289 - val_accuracy: 0.0692\n",
      "Epoch 259/500\n",
      "345/345 [==============================] - 36s 105ms/step - loss: 0.0027 - accuracy: 0.5446 - val_loss: 0.0286 - val_accuracy: 0.0729\n",
      "Epoch 260/500\n",
      "345/345 [==============================] - 36s 104ms/step - loss: 0.0027 - accuracy: 0.5490 - val_loss: 0.0295 - val_accuracy: 0.0696\n",
      "Epoch 261/500\n",
      "345/345 [==============================] - 37s 106ms/step - loss: 0.0027 - accuracy: 0.5416 - val_loss: 0.0293 - val_accuracy: 0.0766\n",
      "Epoch 262/500\n",
      "345/345 [==============================] - 37s 106ms/step - loss: 0.0027 - accuracy: 0.5469 - val_loss: 0.0286 - val_accuracy: 0.0740\n",
      "Epoch 263/500\n",
      "345/345 [==============================] - 37s 107ms/step - loss: 0.0026 - accuracy: 0.5451 - val_loss: 0.0293 - val_accuracy: 0.0720\n",
      "Epoch 264/500\n",
      "345/345 [==============================] - 37s 106ms/step - loss: 0.0026 - accuracy: 0.5486 - val_loss: 0.0301 - val_accuracy: 0.0750\n",
      "Epoch 265/500\n",
      "345/345 [==============================] - 36s 104ms/step - loss: 0.0027 - accuracy: 0.5425 - val_loss: 0.0291 - val_accuracy: 0.0694\n",
      "Epoch 266/500\n",
      "345/345 [==============================] - 36s 104ms/step - loss: 0.0027 - accuracy: 0.5447 - val_loss: 0.0296 - val_accuracy: 0.0745\n",
      "Epoch 267/500\n",
      "345/345 [==============================] - 36s 105ms/step - loss: 0.0026 - accuracy: 0.5469 - val_loss: 0.0300 - val_accuracy: 0.0722\n",
      "Epoch 268/500\n",
      "345/345 [==============================] - 36s 105ms/step - loss: 0.0026 - accuracy: 0.5476 - val_loss: 0.0301 - val_accuracy: 0.0724\n",
      "Epoch 269/500\n",
      "345/345 [==============================] - 37s 107ms/step - loss: 0.0027 - accuracy: 0.5448 - val_loss: 0.0298 - val_accuracy: 0.0710\n",
      "Epoch 270/500\n",
      "345/345 [==============================] - 37s 106ms/step - loss: 0.0026 - accuracy: 0.5474 - val_loss: 0.0303 - val_accuracy: 0.0710\n",
      "Epoch 271/500\n",
      "345/345 [==============================] - 37s 108ms/step - loss: 0.0026 - accuracy: 0.5458 - val_loss: 0.0295 - val_accuracy: 0.0757\n",
      "Epoch 272/500\n",
      "345/345 [==============================] - 37s 107ms/step - loss: 0.0027 - accuracy: 0.5447 - val_loss: 0.0298 - val_accuracy: 0.0715\n",
      "Epoch 273/500\n",
      "345/345 [==============================] - 36s 106ms/step - loss: 0.0026 - accuracy: 0.5486 - val_loss: 0.0301 - val_accuracy: 0.0736\n",
      "Epoch 274/500\n",
      "345/345 [==============================] - 36s 106ms/step - loss: 0.0026 - accuracy: 0.5502 - val_loss: 0.0303 - val_accuracy: 0.0727\n",
      "Epoch 275/500\n",
      "345/345 [==============================] - 37s 106ms/step - loss: 0.0026 - accuracy: 0.5512 - val_loss: 0.0300 - val_accuracy: 0.0675\n",
      "Epoch 276/500\n",
      "345/345 [==============================] - 36s 105ms/step - loss: 0.0025 - accuracy: 0.5533 - val_loss: 0.0305 - val_accuracy: 0.0708\n",
      "Epoch 277/500\n",
      "345/345 [==============================] - 36s 105ms/step - loss: 0.0025 - accuracy: 0.5526 - val_loss: 0.0308 - val_accuracy: 0.0706\n",
      "Epoch 278/500\n",
      "345/345 [==============================] - 36s 105ms/step - loss: 0.0026 - accuracy: 0.5536 - val_loss: 0.0309 - val_accuracy: 0.0757\n",
      "Epoch 279/500\n",
      "345/345 [==============================] - 36s 105ms/step - loss: 0.0026 - accuracy: 0.5516 - val_loss: 0.0308 - val_accuracy: 0.0710\n",
      "Epoch 280/500\n",
      "345/345 [==============================] - 36s 106ms/step - loss: 0.0026 - accuracy: 0.5526 - val_loss: 0.0302 - val_accuracy: 0.0708\n",
      "Epoch 281/500\n",
      "345/345 [==============================] - 36s 105ms/step - loss: 0.0026 - accuracy: 0.5495 - val_loss: 0.0309 - val_accuracy: 0.0680\n",
      "Epoch 282/500\n",
      "345/345 [==============================] - 36s 105ms/step - loss: 0.0026 - accuracy: 0.5524 - val_loss: 0.0306 - val_accuracy: 0.0720\n",
      "Epoch 283/500\n",
      "345/345 [==============================] - 37s 106ms/step - loss: 0.0025 - accuracy: 0.5574 - val_loss: 0.0306 - val_accuracy: 0.0731\n",
      "Epoch 284/500\n",
      "345/345 [==============================] - 36s 105ms/step - loss: 0.0025 - accuracy: 0.5571 - val_loss: 0.0303 - val_accuracy: 0.0708\n",
      "Epoch 285/500\n",
      "345/345 [==============================] - 37s 106ms/step - loss: 0.0025 - accuracy: 0.5558 - val_loss: 0.0309 - val_accuracy: 0.0738\n",
      "Epoch 286/500\n",
      "345/345 [==============================] - 37s 108ms/step - loss: 0.0025 - accuracy: 0.5578 - val_loss: 0.0311 - val_accuracy: 0.0729\n",
      "Epoch 287/500\n",
      "345/345 [==============================] - 37s 106ms/step - loss: 0.0026 - accuracy: 0.5525 - val_loss: 0.0307 - val_accuracy: 0.0745\n",
      "Epoch 288/500\n",
      "345/345 [==============================] - 36s 105ms/step - loss: 0.0026 - accuracy: 0.5538 - val_loss: 0.0310 - val_accuracy: 0.0724\n",
      "Epoch 289/500\n",
      "345/345 [==============================] - 37s 106ms/step - loss: 0.0026 - accuracy: 0.5545 - val_loss: 0.0305 - val_accuracy: 0.0771\n",
      "Epoch 290/500\n",
      "345/345 [==============================] - 36s 105ms/step - loss: 0.0026 - accuracy: 0.5528 - val_loss: 0.0310 - val_accuracy: 0.0799\n",
      "Epoch 291/500\n",
      "345/345 [==============================] - 36s 105ms/step - loss: 0.0025 - accuracy: 0.5573 - val_loss: 0.0314 - val_accuracy: 0.0743\n",
      "Epoch 292/500\n",
      "345/345 [==============================] - 36s 104ms/step - loss: 0.0025 - accuracy: 0.5598 - val_loss: 0.0317 - val_accuracy: 0.0687\n",
      "Epoch 293/500\n",
      "345/345 [==============================] - 36s 105ms/step - loss: 0.0025 - accuracy: 0.5616 - val_loss: 0.0311 - val_accuracy: 0.0722\n",
      "Epoch 294/500\n",
      "345/345 [==============================] - 36s 105ms/step - loss: 0.0025 - accuracy: 0.5603 - val_loss: 0.0324 - val_accuracy: 0.0736\n",
      "Epoch 295/500\n",
      "345/345 [==============================] - 36s 105ms/step - loss: 0.0025 - accuracy: 0.5601 - val_loss: 0.0320 - val_accuracy: 0.0724\n",
      "Epoch 296/500\n",
      "345/345 [==============================] - 36s 104ms/step - loss: 0.0025 - accuracy: 0.5593 - val_loss: 0.0311 - val_accuracy: 0.0743\n",
      "Epoch 297/500\n",
      "345/345 [==============================] - 36s 105ms/step - loss: 0.0026 - accuracy: 0.5546 - val_loss: 0.0313 - val_accuracy: 0.0703\n",
      "Epoch 298/500\n",
      "345/345 [==============================] - 36s 105ms/step - loss: 0.0025 - accuracy: 0.5576 - val_loss: 0.0319 - val_accuracy: 0.0710\n",
      "Epoch 299/500\n",
      "345/345 [==============================] - 36s 105ms/step - loss: 0.0025 - accuracy: 0.5563 - val_loss: 0.0317 - val_accuracy: 0.0720\n",
      "Epoch 300/500\n",
      "345/345 [==============================] - 36s 105ms/step - loss: 0.0025 - accuracy: 0.5550 - val_loss: 0.0316 - val_accuracy: 0.0754\n",
      "Epoch 301/500\n",
      "345/345 [==============================] - 37s 107ms/step - loss: 0.0025 - accuracy: 0.5622 - val_loss: 0.0316 - val_accuracy: 0.0796\n",
      "Epoch 302/500\n",
      "345/345 [==============================] - 37s 106ms/step - loss: 0.0024 - accuracy: 0.5667 - val_loss: 0.0318 - val_accuracy: 0.0731\n",
      "Epoch 303/500\n",
      "345/345 [==============================] - 37s 106ms/step - loss: 0.0024 - accuracy: 0.5646 - val_loss: 0.0327 - val_accuracy: 0.0738\n",
      "Epoch 304/500\n",
      "345/345 [==============================] - 37s 107ms/step - loss: 0.0024 - accuracy: 0.5678 - val_loss: 0.0316 - val_accuracy: 0.0694\n",
      "Epoch 305/500\n",
      "345/345 [==============================] - 37s 106ms/step - loss: 0.0025 - accuracy: 0.5556 - val_loss: 0.0324 - val_accuracy: 0.0747\n",
      "Epoch 306/500\n",
      "345/345 [==============================] - 36s 105ms/step - loss: 0.0025 - accuracy: 0.5590 - val_loss: 0.0326 - val_accuracy: 0.0773\n",
      "Epoch 307/500\n",
      "345/345 [==============================] - 37s 107ms/step - loss: 0.0024 - accuracy: 0.5668 - val_loss: 0.0323 - val_accuracy: 0.0773\n",
      "Epoch 308/500\n",
      "345/345 [==============================] - 36s 105ms/step - loss: 0.0024 - accuracy: 0.5662 - val_loss: 0.0329 - val_accuracy: 0.0720\n",
      "Epoch 309/500\n",
      "345/345 [==============================] - 36s 105ms/step - loss: 0.0024 - accuracy: 0.5663 - val_loss: 0.0333 - val_accuracy: 0.0727\n",
      "Epoch 310/500\n",
      "345/345 [==============================] - 36s 105ms/step - loss: 0.0025 - accuracy: 0.5638 - val_loss: 0.0323 - val_accuracy: 0.0727\n",
      "Epoch 311/500\n",
      "345/345 [==============================] - 36s 105ms/step - loss: 0.0025 - accuracy: 0.5603 - val_loss: 0.0329 - val_accuracy: 0.0757\n",
      "Epoch 312/500\n",
      "345/345 [==============================] - 36s 105ms/step - loss: 0.0024 - accuracy: 0.5645 - val_loss: 0.0329 - val_accuracy: 0.0764\n",
      "Epoch 313/500\n",
      "345/345 [==============================] - 37s 107ms/step - loss: 0.0024 - accuracy: 0.5661 - val_loss: 0.0330 - val_accuracy: 0.0731\n",
      "Epoch 314/500\n",
      "345/345 [==============================] - 37s 106ms/step - loss: 0.0024 - accuracy: 0.5653 - val_loss: 0.0330 - val_accuracy: 0.0722\n",
      "Epoch 315/500\n",
      "345/345 [==============================] - 37s 106ms/step - loss: 0.0024 - accuracy: 0.5674 - val_loss: 0.0328 - val_accuracy: 0.0701\n",
      "Epoch 316/500\n",
      "345/345 [==============================] - 37s 107ms/step - loss: 0.0024 - accuracy: 0.5701 - val_loss: 0.0334 - val_accuracy: 0.0687\n",
      "Epoch 317/500\n",
      "345/345 [==============================] - 37s 106ms/step - loss: 0.0024 - accuracy: 0.5690 - val_loss: 0.0336 - val_accuracy: 0.0745\n",
      "Epoch 318/500\n",
      "345/345 [==============================] - 36s 105ms/step - loss: 0.0024 - accuracy: 0.5672 - val_loss: 0.0330 - val_accuracy: 0.0720\n",
      "Epoch 319/500\n",
      "345/345 [==============================] - 36s 105ms/step - loss: 0.0024 - accuracy: 0.5666 - val_loss: 0.0333 - val_accuracy: 0.0727\n",
      "Epoch 320/500\n",
      "345/345 [==============================] - 36s 105ms/step - loss: 0.0024 - accuracy: 0.5661 - val_loss: 0.0326 - val_accuracy: 0.0696\n",
      "Epoch 321/500\n",
      "345/345 [==============================] - 36s 105ms/step - loss: 0.0025 - accuracy: 0.5665 - val_loss: 0.0329 - val_accuracy: 0.0696\n",
      "Epoch 322/500\n",
      "345/345 [==============================] - 37s 106ms/step - loss: 0.0024 - accuracy: 0.5714 - val_loss: 0.0340 - val_accuracy: 0.0724\n",
      "Epoch 323/500\n",
      "345/345 [==============================] - 36s 106ms/step - loss: 0.0024 - accuracy: 0.5722 - val_loss: 0.0335 - val_accuracy: 0.0715\n",
      "Epoch 324/500\n",
      "345/345 [==============================] - 37s 107ms/step - loss: 0.0024 - accuracy: 0.5651 - val_loss: 0.0332 - val_accuracy: 0.0699\n",
      "Epoch 325/500\n",
      "345/345 [==============================] - 36s 105ms/step - loss: 0.0024 - accuracy: 0.5644 - val_loss: 0.0335 - val_accuracy: 0.0727\n",
      "Epoch 326/500\n",
      "345/345 [==============================] - 36s 106ms/step - loss: 0.0024 - accuracy: 0.5667 - val_loss: 0.0333 - val_accuracy: 0.0729\n",
      "Epoch 327/500\n",
      "345/345 [==============================] - 37s 106ms/step - loss: 0.0025 - accuracy: 0.5632 - val_loss: 0.0333 - val_accuracy: 0.0710\n",
      "Epoch 328/500\n",
      "345/345 [==============================] - 36s 105ms/step - loss: 0.0024 - accuracy: 0.5657 - val_loss: 0.0332 - val_accuracy: 0.0715\n",
      "Epoch 329/500\n",
      "345/345 [==============================] - 36s 105ms/step - loss: 0.0023 - accuracy: 0.5719 - val_loss: 0.0342 - val_accuracy: 0.0724\n",
      "Epoch 330/500\n",
      "345/345 [==============================] - 37s 106ms/step - loss: 0.0023 - accuracy: 0.5702 - val_loss: 0.0344 - val_accuracy: 0.0706\n",
      "Epoch 331/500\n",
      "345/345 [==============================] - 36s 105ms/step - loss: 0.0023 - accuracy: 0.5736 - val_loss: 0.0351 - val_accuracy: 0.0713\n",
      "Epoch 332/500\n",
      "345/345 [==============================] - 36s 105ms/step - loss: 0.0023 - accuracy: 0.5690 - val_loss: 0.0346 - val_accuracy: 0.0710\n",
      "Epoch 333/500\n",
      "345/345 [==============================] - 37s 107ms/step - loss: 0.0024 - accuracy: 0.5717 - val_loss: 0.0339 - val_accuracy: 0.0713\n",
      "Epoch 334/500\n",
      "345/345 [==============================] - 36s 105ms/step - loss: 0.0024 - accuracy: 0.5726 - val_loss: 0.0341 - val_accuracy: 0.0675\n",
      "Epoch 335/500\n",
      "345/345 [==============================] - 36s 106ms/step - loss: 0.0024 - accuracy: 0.5718 - val_loss: 0.0337 - val_accuracy: 0.0673\n",
      "Epoch 336/500\n",
      "345/345 [==============================] - 36s 105ms/step - loss: 0.0024 - accuracy: 0.5659 - val_loss: 0.0338 - val_accuracy: 0.0745\n",
      "Epoch 337/500\n",
      "345/345 [==============================] - 36s 105ms/step - loss: 0.0024 - accuracy: 0.5657 - val_loss: 0.0352 - val_accuracy: 0.0752\n",
      "Epoch 338/500\n",
      "345/345 [==============================] - 36s 106ms/step - loss: 0.0024 - accuracy: 0.5683 - val_loss: 0.0346 - val_accuracy: 0.0694\n",
      "Epoch 339/500\n",
      "345/345 [==============================] - 36s 105ms/step - loss: 0.0023 - accuracy: 0.5718 - val_loss: 0.0350 - val_accuracy: 0.0655\n",
      "Epoch 340/500\n",
      "345/345 [==============================] - 37s 107ms/step - loss: 0.0023 - accuracy: 0.5745 - val_loss: 0.0349 - val_accuracy: 0.0727\n",
      "Epoch 341/500\n",
      "345/345 [==============================] - 36s 105ms/step - loss: 0.0024 - accuracy: 0.5719 - val_loss: 0.0343 - val_accuracy: 0.0689\n",
      "Epoch 342/500\n",
      "345/345 [==============================] - 37s 108ms/step - loss: 0.0023 - accuracy: 0.5718 - val_loss: 0.0349 - val_accuracy: 0.0715\n",
      "Epoch 343/500\n",
      "345/345 [==============================] - 37s 106ms/step - loss: 0.0023 - accuracy: 0.5775 - val_loss: 0.0353 - val_accuracy: 0.0713\n",
      "Epoch 344/500\n",
      "345/345 [==============================] - 37s 107ms/step - loss: 0.0023 - accuracy: 0.5723 - val_loss: 0.0349 - val_accuracy: 0.0717\n",
      "Epoch 345/500\n",
      "345/345 [==============================] - 37s 107ms/step - loss: 0.0023 - accuracy: 0.5748 - val_loss: 0.0356 - val_accuracy: 0.0761\n",
      "Epoch 346/500\n",
      "345/345 [==============================] - 38s 109ms/step - loss: 0.0023 - accuracy: 0.5800 - val_loss: 0.0345 - val_accuracy: 0.0678\n",
      "Epoch 347/500\n",
      "345/345 [==============================] - 37s 108ms/step - loss: 0.0023 - accuracy: 0.5725 - val_loss: 0.0358 - val_accuracy: 0.0738\n",
      "Epoch 348/500\n",
      "345/345 [==============================] - 37s 107ms/step - loss: 0.0024 - accuracy: 0.5706 - val_loss: 0.0355 - val_accuracy: 0.0713\n",
      "Epoch 349/500\n",
      "345/345 [==============================] - 37s 107ms/step - loss: 0.0023 - accuracy: 0.5735 - val_loss: 0.0346 - val_accuracy: 0.0689\n",
      "Epoch 350/500\n",
      "345/345 [==============================] - 37s 108ms/step - loss: 0.0023 - accuracy: 0.5709 - val_loss: 0.0338 - val_accuracy: 0.0682\n",
      "Epoch 351/500\n",
      "345/345 [==============================] - 38s 110ms/step - loss: 0.0023 - accuracy: 0.5722 - val_loss: 0.0349 - val_accuracy: 0.0689\n",
      "Epoch 352/500\n",
      "345/345 [==============================] - 37s 107ms/step - loss: 0.0023 - accuracy: 0.5736 - val_loss: 0.0353 - val_accuracy: 0.0710\n",
      "Epoch 353/500\n",
      "345/345 [==============================] - 37s 108ms/step - loss: 0.0023 - accuracy: 0.5781 - val_loss: 0.0355 - val_accuracy: 0.0678\n",
      "Epoch 354/500\n",
      "345/345 [==============================] - 37s 107ms/step - loss: 0.0024 - accuracy: 0.5723 - val_loss: 0.0359 - val_accuracy: 0.0696\n",
      "Epoch 355/500\n",
      "345/345 [==============================] - 37s 107ms/step - loss: 0.0023 - accuracy: 0.5768 - val_loss: 0.0359 - val_accuracy: 0.0692\n",
      "Epoch 356/500\n",
      "345/345 [==============================] - 37s 108ms/step - loss: 0.0023 - accuracy: 0.5783 - val_loss: 0.0359 - val_accuracy: 0.0708\n",
      "Epoch 357/500\n",
      "345/345 [==============================] - 37s 108ms/step - loss: 0.0023 - accuracy: 0.5777 - val_loss: 0.0354 - val_accuracy: 0.0678\n",
      "Epoch 358/500\n",
      "345/345 [==============================] - 38s 109ms/step - loss: 0.0023 - accuracy: 0.5751 - val_loss: 0.0354 - val_accuracy: 0.0689\n",
      "Epoch 359/500\n",
      "345/345 [==============================] - 38s 109ms/step - loss: 0.0023 - accuracy: 0.5746 - val_loss: 0.0353 - val_accuracy: 0.0687\n",
      "Epoch 360/500\n",
      "345/345 [==============================] - 37s 108ms/step - loss: 0.0023 - accuracy: 0.5740 - val_loss: 0.0359 - val_accuracy: 0.0727\n",
      "Epoch 361/500\n",
      "345/345 [==============================] - 37s 107ms/step - loss: 0.0023 - accuracy: 0.5777 - val_loss: 0.0364 - val_accuracy: 0.0694\n",
      "Epoch 362/500\n",
      "345/345 [==============================] - 37s 107ms/step - loss: 0.0023 - accuracy: 0.5801 - val_loss: 0.0363 - val_accuracy: 0.0729\n",
      "Epoch 363/500\n",
      "345/345 [==============================] - 37s 107ms/step - loss: 0.0023 - accuracy: 0.5750 - val_loss: 0.0359 - val_accuracy: 0.0675\n",
      "Epoch 364/500\n",
      "345/345 [==============================] - 37s 106ms/step - loss: 0.0023 - accuracy: 0.5773 - val_loss: 0.0362 - val_accuracy: 0.0703\n",
      "Epoch 365/500\n",
      "345/345 [==============================] - 37s 107ms/step - loss: 0.0023 - accuracy: 0.5743 - val_loss: 0.0356 - val_accuracy: 0.0708\n",
      "Epoch 366/500\n",
      "345/345 [==============================] - 37s 107ms/step - loss: 0.0023 - accuracy: 0.5734 - val_loss: 0.0364 - val_accuracy: 0.0703\n",
      "Epoch 367/500\n",
      "345/345 [==============================] - 37s 108ms/step - loss: 0.0022 - accuracy: 0.5782 - val_loss: 0.0362 - val_accuracy: 0.0743\n",
      "Epoch 368/500\n",
      "345/345 [==============================] - 39s 112ms/step - loss: 0.0023 - accuracy: 0.5756 - val_loss: 0.0365 - val_accuracy: 0.0689\n",
      "Epoch 369/500\n",
      "345/345 [==============================] - 37s 109ms/step - loss: 0.0022 - accuracy: 0.5780 - val_loss: 0.0362 - val_accuracy: 0.0678\n",
      "Epoch 370/500\n",
      "345/345 [==============================] - 38s 110ms/step - loss: 0.0023 - accuracy: 0.5750 - val_loss: 0.0366 - val_accuracy: 0.0673\n",
      "Epoch 371/500\n",
      "345/345 [==============================] - 38s 110ms/step - loss: 0.0022 - accuracy: 0.5775 - val_loss: 0.0365 - val_accuracy: 0.0708\n",
      "Epoch 372/500\n",
      "345/345 [==============================] - 37s 108ms/step - loss: 0.0023 - accuracy: 0.5737 - val_loss: 0.0365 - val_accuracy: 0.0699\n",
      "Epoch 373/500\n",
      "345/345 [==============================] - 37s 109ms/step - loss: 0.0023 - accuracy: 0.5785 - val_loss: 0.0360 - val_accuracy: 0.0701\n",
      "Epoch 374/500\n",
      "345/345 [==============================] - 38s 109ms/step - loss: 0.0023 - accuracy: 0.5744 - val_loss: 0.0355 - val_accuracy: 0.0685\n",
      "Epoch 375/500\n",
      "345/345 [==============================] - 37s 108ms/step - loss: 0.0022 - accuracy: 0.5784 - val_loss: 0.0362 - val_accuracy: 0.0671\n",
      "Epoch 376/500\n",
      "345/345 [==============================] - 37s 108ms/step - loss: 0.0022 - accuracy: 0.5834 - val_loss: 0.0376 - val_accuracy: 0.0703\n",
      "Epoch 377/500\n",
      "345/345 [==============================] - 38s 109ms/step - loss: 0.0022 - accuracy: 0.5830 - val_loss: 0.0366 - val_accuracy: 0.0722\n",
      "Epoch 378/500\n",
      "345/345 [==============================] - 37s 108ms/step - loss: 0.0022 - accuracy: 0.5752 - val_loss: 0.0374 - val_accuracy: 0.0675\n",
      "Epoch 379/500\n",
      "345/345 [==============================] - 37s 108ms/step - loss: 0.0022 - accuracy: 0.5794 - val_loss: 0.0373 - val_accuracy: 0.0669\n",
      "Epoch 380/500\n",
      "345/345 [==============================] - 37s 108ms/step - loss: 0.0022 - accuracy: 0.5824 - val_loss: 0.0374 - val_accuracy: 0.0745\n",
      "Epoch 381/500\n",
      "345/345 [==============================] - 37s 107ms/step - loss: 0.0022 - accuracy: 0.5793 - val_loss: 0.0371 - val_accuracy: 0.0734\n",
      "Epoch 382/500\n",
      "345/345 [==============================] - 37s 108ms/step - loss: 0.0023 - accuracy: 0.5741 - val_loss: 0.0372 - val_accuracy: 0.0708\n",
      "Epoch 383/500\n",
      "345/345 [==============================] - 37s 107ms/step - loss: 0.0022 - accuracy: 0.5793 - val_loss: 0.0375 - val_accuracy: 0.0694\n",
      "Epoch 384/500\n",
      "345/345 [==============================] - 37s 108ms/step - loss: 0.0023 - accuracy: 0.5775 - val_loss: 0.0377 - val_accuracy: 0.0648\n",
      "Epoch 385/500\n",
      "345/345 [==============================] - 38s 110ms/step - loss: 0.0022 - accuracy: 0.5773 - val_loss: 0.0372 - val_accuracy: 0.0689\n",
      "Epoch 386/500\n",
      "345/345 [==============================] - 38s 109ms/step - loss: 0.0022 - accuracy: 0.5842 - val_loss: 0.0375 - val_accuracy: 0.0685\n",
      "Epoch 387/500\n",
      "345/345 [==============================] - 37s 109ms/step - loss: 0.0022 - accuracy: 0.5824 - val_loss: 0.0374 - val_accuracy: 0.0708\n",
      "Epoch 388/500\n",
      "345/345 [==============================] - 37s 109ms/step - loss: 0.0022 - accuracy: 0.5779 - val_loss: 0.0363 - val_accuracy: 0.0710\n",
      "Epoch 389/500\n",
      "345/345 [==============================] - 38s 109ms/step - loss: 0.0022 - accuracy: 0.5819 - val_loss: 0.0379 - val_accuracy: 0.0694\n",
      "Epoch 390/500\n",
      "345/345 [==============================] - 37s 108ms/step - loss: 0.0022 - accuracy: 0.5826 - val_loss: 0.0375 - val_accuracy: 0.0745\n",
      "Epoch 391/500\n",
      "345/345 [==============================] - 37s 109ms/step - loss: 0.0022 - accuracy: 0.5815 - val_loss: 0.0369 - val_accuracy: 0.0689\n",
      "Epoch 392/500\n",
      "345/345 [==============================] - 38s 109ms/step - loss: 0.0022 - accuracy: 0.5815 - val_loss: 0.0372 - val_accuracy: 0.0685\n",
      "Epoch 393/500\n",
      "345/345 [==============================] - 37s 108ms/step - loss: 0.0022 - accuracy: 0.5827 - val_loss: 0.0378 - val_accuracy: 0.0722\n",
      "Epoch 394/500\n",
      "345/345 [==============================] - 38s 109ms/step - loss: 0.0021 - accuracy: 0.5865 - val_loss: 0.0384 - val_accuracy: 0.0682\n",
      "Epoch 395/500\n",
      "345/345 [==============================] - 37s 107ms/step - loss: 0.0022 - accuracy: 0.5874 - val_loss: 0.0379 - val_accuracy: 0.0710\n",
      "Epoch 396/500\n",
      "345/345 [==============================] - 37s 108ms/step - loss: 0.0022 - accuracy: 0.5834 - val_loss: 0.0385 - val_accuracy: 0.0729\n",
      "Epoch 397/500\n",
      "345/345 [==============================] - 37s 107ms/step - loss: 0.0022 - accuracy: 0.5820 - val_loss: 0.0385 - val_accuracy: 0.0731\n",
      "Epoch 398/500\n",
      "345/345 [==============================] - 36s 106ms/step - loss: 0.0022 - accuracy: 0.5838 - val_loss: 0.0385 - val_accuracy: 0.0678\n",
      "Epoch 399/500\n",
      "345/345 [==============================] - 37s 107ms/step - loss: 0.0022 - accuracy: 0.5817 - val_loss: 0.0377 - val_accuracy: 0.0689\n",
      "Epoch 400/500\n",
      "345/345 [==============================] - 37s 107ms/step - loss: 0.0022 - accuracy: 0.5798 - val_loss: 0.0382 - val_accuracy: 0.0720\n",
      "Epoch 401/500\n",
      "345/345 [==============================] - 37s 107ms/step - loss: 0.0022 - accuracy: 0.5807 - val_loss: 0.0382 - val_accuracy: 0.0689\n",
      "Epoch 402/500\n",
      "345/345 [==============================] - 37s 107ms/step - loss: 0.0021 - accuracy: 0.5862 - val_loss: 0.0396 - val_accuracy: 0.0664\n",
      "Epoch 403/500\n",
      "345/345 [==============================] - 37s 108ms/step - loss: 0.0022 - accuracy: 0.5862 - val_loss: 0.0377 - val_accuracy: 0.0694\n",
      "Epoch 404/500\n",
      "345/345 [==============================] - 37s 109ms/step - loss: 0.0022 - accuracy: 0.5801 - val_loss: 0.0374 - val_accuracy: 0.0687\n",
      "Epoch 405/500\n",
      "345/345 [==============================] - 38s 109ms/step - loss: 0.0023 - accuracy: 0.5774 - val_loss: 0.0378 - val_accuracy: 0.0685\n",
      "Epoch 406/500\n",
      "345/345 [==============================] - 37s 107ms/step - loss: 0.0022 - accuracy: 0.5837 - val_loss: 0.0380 - val_accuracy: 0.0675\n",
      "Epoch 407/500\n",
      "345/345 [==============================] - 38s 110ms/step - loss: 0.0021 - accuracy: 0.5835 - val_loss: 0.0384 - val_accuracy: 0.0701\n",
      "Epoch 408/500\n",
      "345/345 [==============================] - 37s 107ms/step - loss: 0.0021 - accuracy: 0.5867 - val_loss: 0.0379 - val_accuracy: 0.0701\n",
      "Epoch 409/500\n",
      "345/345 [==============================] - 37s 106ms/step - loss: 0.0022 - accuracy: 0.5834 - val_loss: 0.0384 - val_accuracy: 0.0699\n",
      "Epoch 410/500\n",
      "345/345 [==============================] - 37s 106ms/step - loss: 0.0022 - accuracy: 0.5778 - val_loss: 0.0389 - val_accuracy: 0.0738\n",
      "Epoch 411/500\n",
      "345/345 [==============================] - 38s 110ms/step - loss: 0.0022 - accuracy: 0.5791 - val_loss: 0.0383 - val_accuracy: 0.0687\n",
      "Epoch 412/500\n",
      "345/345 [==============================] - 37s 107ms/step - loss: 0.0021 - accuracy: 0.5826 - val_loss: 0.0379 - val_accuracy: 0.0722\n",
      "Epoch 413/500\n",
      "345/345 [==============================] - 37s 108ms/step - loss: 0.0022 - accuracy: 0.5793 - val_loss: 0.0388 - val_accuracy: 0.0682\n",
      "Epoch 414/500\n",
      "345/345 [==============================] - 37s 108ms/step - loss: 0.0021 - accuracy: 0.5847 - val_loss: 0.0399 - val_accuracy: 0.0710\n",
      "Epoch 415/500\n",
      "345/345 [==============================] - 37s 107ms/step - loss: 0.0021 - accuracy: 0.5863 - val_loss: 0.0386 - val_accuracy: 0.0662\n",
      "Epoch 416/500\n",
      "345/345 [==============================] - 37s 107ms/step - loss: 0.0021 - accuracy: 0.5850 - val_loss: 0.0388 - val_accuracy: 0.0706\n",
      "Epoch 417/500\n",
      "345/345 [==============================] - 38s 109ms/step - loss: 0.0022 - accuracy: 0.5836 - val_loss: 0.0393 - val_accuracy: 0.0703\n",
      "Epoch 418/500\n",
      "345/345 [==============================] - 37s 108ms/step - loss: 0.0021 - accuracy: 0.5844 - val_loss: 0.0382 - val_accuracy: 0.0645\n",
      "Epoch 419/500\n",
      "345/345 [==============================] - 37s 107ms/step - loss: 0.0021 - accuracy: 0.5899 - val_loss: 0.0398 - val_accuracy: 0.0696\n",
      "Epoch 420/500\n",
      "345/345 [==============================] - 37s 109ms/step - loss: 0.0021 - accuracy: 0.5889 - val_loss: 0.0397 - val_accuracy: 0.0708\n",
      "Epoch 421/500\n",
      "345/345 [==============================] - 37s 108ms/step - loss: 0.0022 - accuracy: 0.5831 - val_loss: 0.0395 - val_accuracy: 0.0703\n",
      "Epoch 422/500\n",
      "345/345 [==============================] - 37s 107ms/step - loss: 0.0022 - accuracy: 0.5857 - val_loss: 0.0387 - val_accuracy: 0.0699\n",
      "Epoch 423/500\n",
      "345/345 [==============================] - 37s 107ms/step - loss: 0.0022 - accuracy: 0.5813 - val_loss: 0.0389 - val_accuracy: 0.0678\n",
      "Epoch 424/500\n",
      "345/345 [==============================] - 37s 107ms/step - loss: 0.0021 - accuracy: 0.5865 - val_loss: 0.0395 - val_accuracy: 0.0687\n",
      "Epoch 425/500\n",
      "345/345 [==============================] - 37s 108ms/step - loss: 0.0021 - accuracy: 0.5898 - val_loss: 0.0387 - val_accuracy: 0.0694\n",
      "Epoch 426/500\n",
      "345/345 [==============================] - 37s 107ms/step - loss: 0.0021 - accuracy: 0.5906 - val_loss: 0.0404 - val_accuracy: 0.0731\n",
      "Epoch 427/500\n",
      "345/345 [==============================] - 37s 108ms/step - loss: 0.0021 - accuracy: 0.5890 - val_loss: 0.0399 - val_accuracy: 0.0694\n",
      "Epoch 428/500\n",
      "345/345 [==============================] - 37s 107ms/step - loss: 0.0021 - accuracy: 0.5921 - val_loss: 0.0403 - val_accuracy: 0.0708\n",
      "Epoch 429/500\n",
      "345/345 [==============================] - 37s 108ms/step - loss: 0.0022 - accuracy: 0.5797 - val_loss: 0.0400 - val_accuracy: 0.0685\n",
      "Epoch 430/500\n",
      "345/345 [==============================] - 37s 108ms/step - loss: 0.0022 - accuracy: 0.5855 - val_loss: 0.0390 - val_accuracy: 0.0692\n",
      "Epoch 431/500\n",
      "345/345 [==============================] - 37s 107ms/step - loss: 0.0021 - accuracy: 0.5901 - val_loss: 0.0395 - val_accuracy: 0.0664\n",
      "Epoch 432/500\n",
      "345/345 [==============================] - 37s 108ms/step - loss: 0.0020 - accuracy: 0.5885 - val_loss: 0.0411 - val_accuracy: 0.0675\n",
      "Epoch 433/500\n",
      "345/345 [==============================] - 37s 108ms/step - loss: 0.0021 - accuracy: 0.5913 - val_loss: 0.0402 - val_accuracy: 0.0659\n",
      "Epoch 434/500\n",
      "345/345 [==============================] - 37s 108ms/step - loss: 0.0021 - accuracy: 0.5864 - val_loss: 0.0400 - val_accuracy: 0.0724\n",
      "Epoch 435/500\n",
      "345/345 [==============================] - 37s 107ms/step - loss: 0.0021 - accuracy: 0.5899 - val_loss: 0.0398 - val_accuracy: 0.0680\n",
      "Epoch 436/500\n",
      "345/345 [==============================] - 37s 108ms/step - loss: 0.0020 - accuracy: 0.5935 - val_loss: 0.0407 - val_accuracy: 0.0687\n",
      "Epoch 437/500\n",
      "345/345 [==============================] - 38s 110ms/step - loss: 0.0020 - accuracy: 0.5925 - val_loss: 0.0409 - val_accuracy: 0.0687\n",
      "Epoch 438/500\n",
      "345/345 [==============================] - 37s 107ms/step - loss: 0.0021 - accuracy: 0.5827 - val_loss: 0.0401 - val_accuracy: 0.0669\n",
      "Epoch 439/500\n",
      "345/345 [==============================] - 37s 108ms/step - loss: 0.0022 - accuracy: 0.5833 - val_loss: 0.0401 - val_accuracy: 0.0680\n",
      "Epoch 440/500\n",
      "345/345 [==============================] - 37s 108ms/step - loss: 0.0022 - accuracy: 0.5838 - val_loss: 0.0405 - val_accuracy: 0.0699\n",
      "Epoch 441/500\n",
      "345/345 [==============================] - 37s 108ms/step - loss: 0.0021 - accuracy: 0.5907 - val_loss: 0.0402 - val_accuracy: 0.0708\n",
      "Epoch 442/500\n",
      "345/345 [==============================] - 37s 107ms/step - loss: 0.0021 - accuracy: 0.5930 - val_loss: 0.0394 - val_accuracy: 0.0699\n",
      "Epoch 443/500\n",
      "345/345 [==============================] - 37s 109ms/step - loss: 0.0020 - accuracy: 0.5906 - val_loss: 0.0405 - val_accuracy: 0.0678\n",
      "Epoch 444/500\n",
      "345/345 [==============================] - 38s 110ms/step - loss: 0.0020 - accuracy: 0.5920 - val_loss: 0.0411 - val_accuracy: 0.0673\n",
      "Epoch 445/500\n",
      "345/345 [==============================] - 39s 113ms/step - loss: 0.0020 - accuracy: 0.5906 - val_loss: 0.0401 - val_accuracy: 0.0645\n",
      "Epoch 446/500\n",
      "345/345 [==============================] - 39s 114ms/step - loss: 0.0022 - accuracy: 0.5851 - val_loss: 0.0418 - val_accuracy: 0.0671\n",
      "Epoch 447/500\n",
      "345/345 [==============================] - 38s 112ms/step - loss: 0.0021 - accuracy: 0.5858 - val_loss: 0.0404 - val_accuracy: 0.0664\n",
      "Epoch 448/500\n",
      "345/345 [==============================] - 38s 111ms/step - loss: 0.0021 - accuracy: 0.5865 - val_loss: 0.0403 - val_accuracy: 0.0696\n",
      "Epoch 449/500\n",
      "345/345 [==============================] - 38s 112ms/step - loss: 0.0021 - accuracy: 0.5874 - val_loss: 0.0404 - val_accuracy: 0.0675\n",
      "Epoch 450/500\n",
      "345/345 [==============================] - 38s 111ms/step - loss: 0.0020 - accuracy: 0.5927 - val_loss: 0.0412 - val_accuracy: 0.0655\n",
      "Epoch 451/500\n",
      "345/345 [==============================] - 38s 109ms/step - loss: 0.0020 - accuracy: 0.5927 - val_loss: 0.0407 - val_accuracy: 0.0657\n",
      "Epoch 452/500\n",
      "345/345 [==============================] - 38s 109ms/step - loss: 0.0020 - accuracy: 0.5945 - val_loss: 0.0413 - val_accuracy: 0.0682\n",
      "Epoch 453/500\n",
      "345/345 [==============================] - 37s 108ms/step - loss: 0.0021 - accuracy: 0.5905 - val_loss: 0.0416 - val_accuracy: 0.0669\n",
      "Epoch 454/500\n",
      "345/345 [==============================] - 38s 111ms/step - loss: 0.0020 - accuracy: 0.5927 - val_loss: 0.0413 - val_accuracy: 0.0666\n",
      "Epoch 455/500\n",
      "345/345 [==============================] - 37s 108ms/step - loss: 0.0021 - accuracy: 0.5891 - val_loss: 0.0408 - val_accuracy: 0.0662\n",
      "Epoch 456/500\n",
      "345/345 [==============================] - 37s 109ms/step - loss: 0.0021 - accuracy: 0.5870 - val_loss: 0.0410 - val_accuracy: 0.0650\n",
      "Epoch 457/500\n",
      "345/345 [==============================] - 37s 108ms/step - loss: 0.0021 - accuracy: 0.5888 - val_loss: 0.0411 - val_accuracy: 0.0703\n",
      "Epoch 458/500\n",
      "345/345 [==============================] - 37s 109ms/step - loss: 0.0020 - accuracy: 0.5916 - val_loss: 0.0416 - val_accuracy: 0.0657\n",
      "Epoch 459/500\n",
      "345/345 [==============================] - 38s 109ms/step - loss: 0.0020 - accuracy: 0.5919 - val_loss: 0.0412 - val_accuracy: 0.0617\n",
      "Epoch 460/500\n",
      "345/345 [==============================] - 38s 109ms/step - loss: 0.0020 - accuracy: 0.5916 - val_loss: 0.0419 - val_accuracy: 0.0680\n",
      "Epoch 461/500\n",
      "345/345 [==============================] - 37s 109ms/step - loss: 0.0020 - accuracy: 0.5951 - val_loss: 0.0413 - val_accuracy: 0.0682\n",
      "Epoch 462/500\n",
      "345/345 [==============================] - 38s 109ms/step - loss: 0.0020 - accuracy: 0.5906 - val_loss: 0.0415 - val_accuracy: 0.0671\n",
      "Epoch 463/500\n",
      "345/345 [==============================] - 39s 112ms/step - loss: 0.0021 - accuracy: 0.5847 - val_loss: 0.0410 - val_accuracy: 0.0634\n",
      "Epoch 464/500\n",
      "345/345 [==============================] - 38s 110ms/step - loss: 0.0022 - accuracy: 0.5879 - val_loss: 0.0415 - val_accuracy: 0.0699\n",
      "Epoch 465/500\n",
      "345/345 [==============================] - 38s 109ms/step - loss: 0.0021 - accuracy: 0.5889 - val_loss: 0.0409 - val_accuracy: 0.0643\n",
      "Epoch 466/500\n",
      "345/345 [==============================] - 38s 109ms/step - loss: 0.0020 - accuracy: 0.5928 - val_loss: 0.0413 - val_accuracy: 0.0631\n",
      "Epoch 467/500\n",
      "345/345 [==============================] - 38s 110ms/step - loss: 0.0020 - accuracy: 0.5949 - val_loss: 0.0414 - val_accuracy: 0.0687\n",
      "Epoch 468/500\n",
      "345/345 [==============================] - 38s 109ms/step - loss: 0.0020 - accuracy: 0.5948 - val_loss: 0.0423 - val_accuracy: 0.0615\n",
      "Epoch 469/500\n",
      "345/345 [==============================] - 38s 109ms/step - loss: 0.0020 - accuracy: 0.5919 - val_loss: 0.0420 - val_accuracy: 0.0648\n",
      "Epoch 470/500\n",
      "345/345 [==============================] - 38s 110ms/step - loss: 0.0021 - accuracy: 0.5896 - val_loss: 0.0414 - val_accuracy: 0.0655\n",
      "Epoch 471/500\n",
      "345/345 [==============================] - 38s 110ms/step - loss: 0.0021 - accuracy: 0.5959 - val_loss: 0.0419 - val_accuracy: 0.0664\n",
      "Epoch 472/500\n",
      "345/345 [==============================] - 38s 110ms/step - loss: 0.0021 - accuracy: 0.5873 - val_loss: 0.0416 - val_accuracy: 0.0689\n",
      "Epoch 473/500\n",
      "345/345 [==============================] - 37s 108ms/step - loss: 0.0021 - accuracy: 0.5883 - val_loss: 0.0411 - val_accuracy: 0.0624\n",
      "Epoch 474/500\n",
      "345/345 [==============================] - 37s 108ms/step - loss: 0.0020 - accuracy: 0.5937 - val_loss: 0.0420 - val_accuracy: 0.0657\n",
      "Epoch 475/500\n",
      "345/345 [==============================] - 37s 108ms/step - loss: 0.0020 - accuracy: 0.5966 - val_loss: 0.0422 - val_accuracy: 0.0650\n",
      "Epoch 476/500\n",
      "345/345 [==============================] - 37s 109ms/step - loss: 0.0019 - accuracy: 0.5979 - val_loss: 0.0429 - val_accuracy: 0.0673\n",
      "Epoch 477/500\n",
      "345/345 [==============================] - 38s 110ms/step - loss: 0.0019 - accuracy: 0.5950 - val_loss: 0.0433 - val_accuracy: 0.0650\n",
      "Epoch 478/500\n",
      "345/345 [==============================] - 38s 110ms/step - loss: 0.0020 - accuracy: 0.5930 - val_loss: 0.0430 - val_accuracy: 0.0645\n",
      "Epoch 479/500\n",
      "345/345 [==============================] - 37s 109ms/step - loss: 0.0021 - accuracy: 0.5879 - val_loss: 0.0422 - val_accuracy: 0.0696\n",
      "Epoch 480/500\n",
      "345/345 [==============================] - 38s 111ms/step - loss: 0.0021 - accuracy: 0.5885 - val_loss: 0.0422 - val_accuracy: 0.0608\n",
      "Epoch 481/500\n",
      "345/345 [==============================] - 37s 108ms/step - loss: 0.0021 - accuracy: 0.5912 - val_loss: 0.0416 - val_accuracy: 0.0662\n",
      "Epoch 482/500\n",
      "345/345 [==============================] - 37s 108ms/step - loss: 0.0020 - accuracy: 0.5966 - val_loss: 0.0420 - val_accuracy: 0.0682\n",
      "Epoch 483/500\n",
      "345/345 [==============================] - 37s 108ms/step - loss: 0.0020 - accuracy: 0.5881 - val_loss: 0.0424 - val_accuracy: 0.0673\n",
      "Epoch 484/500\n",
      "345/345 [==============================] - 38s 111ms/step - loss: 0.0020 - accuracy: 0.5939 - val_loss: 0.0426 - val_accuracy: 0.0678\n",
      "Epoch 485/500\n",
      "345/345 [==============================] - 39s 113ms/step - loss: 0.0020 - accuracy: 0.5945 - val_loss: 0.0425 - val_accuracy: 0.0659\n",
      "Epoch 486/500\n",
      "345/345 [==============================] - 39s 114ms/step - loss: 0.0020 - accuracy: 0.5950 - val_loss: 0.0424 - val_accuracy: 0.0652\n",
      "Epoch 487/500\n",
      "345/345 [==============================] - 39s 112ms/step - loss: 0.0021 - accuracy: 0.5878 - val_loss: 0.0422 - val_accuracy: 0.0631\n",
      "Epoch 488/500\n",
      "345/345 [==============================] - 38s 111ms/step - loss: 0.0021 - accuracy: 0.5928 - val_loss: 0.0420 - val_accuracy: 0.0701\n",
      "Epoch 489/500\n",
      "345/345 [==============================] - 37s 109ms/step - loss: 0.0019 - accuracy: 0.5970 - val_loss: 0.0429 - val_accuracy: 0.0696\n",
      "Epoch 490/500\n",
      "345/345 [==============================] - 38s 109ms/step - loss: 0.0019 - accuracy: 0.5996 - val_loss: 0.0430 - val_accuracy: 0.0664\n",
      "Epoch 491/500\n",
      "345/345 [==============================] - 38s 109ms/step - loss: 0.0019 - accuracy: 0.5978 - val_loss: 0.0436 - val_accuracy: 0.0657\n",
      "Epoch 492/500\n",
      "345/345 [==============================] - 38s 110ms/step - loss: 0.0020 - accuracy: 0.5966 - val_loss: 0.0439 - val_accuracy: 0.0666\n",
      "Epoch 493/500\n",
      "345/345 [==============================] - 37s 108ms/step - loss: 0.0020 - accuracy: 0.5921 - val_loss: 0.0435 - val_accuracy: 0.0624\n",
      "Epoch 494/500\n",
      "345/345 [==============================] - 38s 110ms/step - loss: 0.0021 - accuracy: 0.5914 - val_loss: 0.0425 - val_accuracy: 0.0671\n",
      "Epoch 495/500\n",
      "345/345 [==============================] - 37s 108ms/step - loss: 0.0021 - accuracy: 0.5921 - val_loss: 0.0430 - val_accuracy: 0.0650\n",
      "Epoch 496/500\n",
      "345/345 [==============================] - 37s 108ms/step - loss: 0.0020 - accuracy: 0.5946 - val_loss: 0.0433 - val_accuracy: 0.0671\n",
      "Epoch 497/500\n",
      "345/345 [==============================] - 38s 110ms/step - loss: 0.0020 - accuracy: 0.5912 - val_loss: 0.0430 - val_accuracy: 0.0659\n",
      "Epoch 498/500\n",
      "345/345 [==============================] - 37s 108ms/step - loss: 0.0020 - accuracy: 0.5934 - val_loss: 0.0430 - val_accuracy: 0.0669\n",
      "Epoch 499/500\n",
      "345/345 [==============================] - 37s 108ms/step - loss: 0.0019 - accuracy: 0.6011 - val_loss: 0.0439 - val_accuracy: 0.0648\n",
      "Epoch 500/500\n",
      "345/345 [==============================] - 38s 110ms/step - loss: 0.0020 - accuracy: 0.5982 - val_loss: 0.0437 - val_accuracy: 0.0692\n"
     ]
    },
    {
     "data": {
      "text/plain": [
       "<tensorflow.python.keras.callbacks.History at 0x7f107963c950>"
      ]
     },
     "execution_count": 59,
     "metadata": {
      "tags": []
     },
     "output_type": "execute_result"
    }
   ],
   "source": [
    "model.compile(optimizer='adam', loss='binary_crossentropy',metrics='accuracy')\n",
    "\n",
    "model.fit(padded_text_train,\n",
    "    y_train,\n",
    "    batch_size=50,\n",
    "    epochs=500,validation_data=(padded_text_val,y_val))"
   ]
  },
  {
   "cell_type": "code",
   "execution_count": null,
   "metadata": {
    "colab": {
     "base_uri": "https://localhost:8080/"
    },
    "executionInfo": {
     "elapsed": 2509,
     "status": "ok",
     "timestamp": 1627902929119,
     "user": {
      "displayName": "Sagar Khode",
      "photoUrl": "",
      "userId": "18017962776089305962"
     },
     "user_tz": -330
    },
    "id": "HY-W3GUcLrB_",
    "outputId": "d99adfa1-29f1-45e4-8e9c-3664e4c290a5"
   },
   "outputs": [
    {
     "name": "stdout",
     "output_type": "stream",
     "text": [
      "Requirement already satisfied: h5py in /usr/local/lib/python3.7/dist-packages (3.1.0)\n",
      "Requirement already satisfied: cached-property in /usr/local/lib/python3.7/dist-packages (from h5py) (1.5.2)\n",
      "Requirement already satisfied: numpy>=1.14.5 in /usr/local/lib/python3.7/dist-packages (from h5py) (1.19.5)\n"
     ]
    }
   ],
   "source": [
    "!pip install h5py"
   ]
  },
  {
   "cell_type": "code",
   "execution_count": null,
   "metadata": {
    "id": "u2RWGvHlzWZ8"
   },
   "outputs": [],
   "source": [
    "model.save('case_study_1_M3.hdf5')"
   ]
  },
  {
   "cell_type": "code",
   "execution_count": null,
   "metadata": {
    "id": "q9_SQuDJCcQF"
   },
   "outputs": [],
   "source": [
    "downloaded = drive.CreateFile({'id': '1rEXLUijrOxF3eKJXJSv2jx2SgjOR0mLQ'})\n",
    "downloaded.GetContentFile('case_study_1_M3.hdf5')"
   ]
  },
  {
   "cell_type": "code",
   "execution_count": null,
   "metadata": {
    "colab": {
     "base_uri": "https://localhost:8080/"
    },
    "executionInfo": {
     "elapsed": 520,
     "status": "ok",
     "timestamp": 1628604299547,
     "user": {
      "displayName": "Sagar Khode",
      "photoUrl": "",
      "userId": "18017962776089305962"
     },
     "user_tz": -330
    },
    "id": "qxVoJasG3uLC",
    "outputId": "11e328af-7e16-458e-c931-9f201eb39936"
   },
   "outputs": [
    {
     "name": "stderr",
     "output_type": "stream",
     "text": [
      "/usr/local/lib/python3.7/dist-packages/ipykernel_launcher.py:1: FutureWarning: Passing a negative integer is deprecated in version 1.0 and will not be supported in future version. Instead, use None to not limit the column width.\n",
      "  \"\"\"Entry point for launching an IPython kernel.\n"
     ]
    }
   ],
   "source": [
    "pd.set_option(\"display.max_colwidth\", -1)"
   ]
  },
  {
   "cell_type": "code",
   "execution_count": null,
   "metadata": {
    "colab": {
     "base_uri": "https://localhost:8080/"
    },
    "executionInfo": {
     "elapsed": 553,
     "status": "ok",
     "timestamp": 1628511866627,
     "user": {
      "displayName": "Sagar Khode",
      "photoUrl": "",
      "userId": "18017962776089305962"
     },
     "user_tz": -330
    },
    "id": "xWeWBqpJ142T",
    "outputId": "6fc9b14e-c9e1-4904-fb1c-a67aef5f30cf"
   },
   "outputs": [
    {
     "data": {
      "text/plain": [
       "0    cybersecurity,disciplined,none,tech,womentech                                                                                                                                                                                                                                                                                                                                                                                                                                                                                                                                                                                                                                                                                                                                                                                                                                                                                                                                                                                                                                                                                                                                                                                   \n",
       "1    business,career,careerpath,college,collegeadmissions,coverletters,government,insurance,internships,interviews,jobcoaching,law,major,minor,networking,professionaltraining,psychology,psychometrics,resumewriting,school                                                                                                                                                                                                                                                                                                                                                                                                                                                                                                                                                                                                                                                                                                                                                                                                                                                                                                                                                                                                         \n",
       "2    brazil,children,coaching,distanceeducation,ngo,workingchildren                                                                                                                                                                                                                                                                                                                                                                                                                                                                                                                                                                                                                                                                                                                                                                                                                                                                                                                                                                                                                                                                                                                                                                  \n",
       "3    editing,instructionaldesign,professionaltraining,teaching,writing                                                                                                                                                                                                                                                                                                                                                                                                                                                                                                                                                                                                                                                                                                                                                                                                                                                                                                                                                                                                                                                                                                                                                               \n",
       "4    education,educator,financialservices,generalinsurance,healthinsurance,insurance,math,mathematics,physics                                                                                                                                                                                                                                                                                                                                                                                                                                                                                                                                                                                                                                                                                                                                                                                                                                                                                                                                                                                                                                                                                                                        \n",
       "5                                                                                                                                                                                                                                                                                                                                                                                                                                                                                                                                                                                                                                                                                                                                                                                                                                                                                                                                                                                                                                                                                                                                                                                                                                    \n",
       "6    agilemethodology,budgets,coaching,computergames,computergraphics,computing,crowdfunding,engineering,gamedesign,gamedevelopment,games,gaming,graphics,leadership,management,mobileapplications,mobiledevices,mobilegames,monetization,motorcycles,motorcycling,operations,organizationaldevelopment,podcasts,professionaldevelopment,programmanagement,projectmanagement,projectplanning,qualityassurance,softwaredevelopment,softwareengineering,tabletopgames,talentmanagement,teamleadership,userinterfacedesign,videogames                                                                                                                                                                                                                                                                                                                                                                                                                                                                                                                                                                                                                                                                                                   \n",
       "7    advertising,agilemethodology,ajax,analytics,angularjs,ant,apidevelopment,automation,bash,blogging,c,cassandra,centos,coffeescript,computer,computergames,computerprogramming,computerscience,computersoftware,copywriting,css,databases,design,development,distributedsystems,economics,editing,engine,enterprise,enterprisesoftware,facebook,fiction,film,functionalprogramming,gamedesign,gamedevelopment,gameprogramming,gameplay,games,gaming,git,google,hadoop,hibernate,html,humanities,improvacting,java,javascript,jms,jquery,junit,language,languages,leadership,leadershiptraining,linux,literature,management,marketingstrategy,maven,mmo,multithreading,mysql,networking,objectorienteddesign,oracle,perl,philosophy,photography,php,productdevelopment,programmer,programming,projectmanagement,python,responsivedesign,rest,ruby,rubyrails,scala,scriptwriting,sdlc,search,sem,seo,socialmedia,socialmediamarketing,socialnetworking,software,softwaredesign,softwaredevelopment,softwareengineering,stories,storytelling,subversion,sustainability,testdrivendevelopment,tomcat,traveling,tutoring,ubuntu,userexperiencedesign,userresearch,videogames,watertechnology,webdesign,webdevelopment,wordpress,writing\n",
       "8    clinicalpsychology,mentalhealth                                                                                                                                                                                                                                                                                                                                                                                                                                                                                                                                                                                                                                                                                                                                                                                                                                                                                                                                                                                                                                                                                                                                                                                                 \n",
       "9    architecture,design,interiordesign                                                                                                                                                                                                                                                                                                                                                                                                                                                                                                                                                                                                                                                                                                                                                                                                                                                                                                                                                                                                                                                                                                                                                                                              \n",
       "Name: tags_tag_name, dtype: object"
      ]
     },
     "execution_count": 26,
     "metadata": {
      "tags": []
     },
     "output_type": "execute_result"
    }
   ],
   "source": [
    "Data.tags_tag_name.head(10)"
   ]
  },
  {
   "cell_type": "code",
   "execution_count": null,
   "metadata": {
    "colab": {
     "base_uri": "https://localhost:8080/"
    },
    "executionInfo": {
     "elapsed": 546,
     "status": "ok",
     "timestamp": 1628512031733,
     "user": {
      "displayName": "Sagar Khode",
      "photoUrl": "",
      "userId": "18017962776089305962"
     },
     "user_tz": -330
    },
    "id": "KIAj8hkJ4UEp",
    "outputId": "edb60de2-4b00-4a7b-8838-fc8fcd85efd1"
   },
   "outputs": [
    {
     "data": {
      "text/plain": [
       "0    junior h right thinking double major tech academy guaranteed internship thinking worth two tech classes back back whole senior year take college classes nearest community college know fact not soo much time give something not gonna help worth information technology majoring technology internship time high school                                                                                                                                            \n",
       "1    currently undergrad want go law school lawyer thinking minoring psychology would helpful long run psychology law                                                                                                                                                                                                                                                                                                                                                     \n",
       "2    degree next biology marine                                                                                                                                                                                                                                                                                                                                                                                                                                           \n",
       "3    hi currently debating whether pursue career exercise sciences become gym teacher however upon researching job say demand gym teachers vanishing due change county curriculum apparently gym class not even part county curriculum resources say demand increased ever increase obese children need guidance make decision major end not able pursue career would like please help teaching school exercise exercise science                                          \n",
       "4    hi high school senior set becoming pure mathematician ever since learned proof quadratic formula grade chasing abstract mathematics working improve problem solving skills less year ago came across interesting problem yet solve many teachers ask help stumped leave discovery process worked problem months making no significant progress decided stop therefore ask motivate continue know problem lead nowhere much time devoting problem math puremathematics\n",
       "5    watch lot tv favorite show criminal minds watching show made interested studying forensic science college criminal justice forensic                                                                                                                                                                                                                                                                                                                                  \n",
       "6    hate college think waste time money work places without going college gaming videogamesmaking videogames                                                                                                                                                                                                                                                                                                                                                             \n",
       "7    currently using sublime text although xcode used edit javascript html css obj c etc files use really slick customizable companies require use ides ide specific reason not ide use specific personal programming related reason use ide thank programming                                                                                                                                                                                                            \n",
       "8    would like become psychiatrist work people brain also medical field planning majoring psychology wondering major pre med neurobiology anything like pre med clinical psychology psychiatry psychiatrists                                                                                                                                                                                                                                                             \n",
       "9    hello name patricia live charlotte north carolina wondering get job interior design got get future job interior design interior design interior decorator                                                                                                                                                                                                                                                                                                            \n",
       "Name: questions_body, dtype: object"
      ]
     },
     "execution_count": 33,
     "metadata": {
      "tags": []
     },
     "output_type": "execute_result"
    }
   ],
   "source": [
    "Data.questions_body.head(10)"
   ]
  },
  {
   "cell_type": "code",
   "execution_count": null,
   "metadata": {
    "colab": {
     "base_uri": "https://localhost:8080/"
    },
    "executionInfo": {
     "elapsed": 557,
     "status": "ok",
     "timestamp": 1628512054709,
     "user": {
      "displayName": "Sagar Khode",
      "photoUrl": "",
      "userId": "18017962776089305962"
     },
     "user_tz": -330
    },
    "id": "c_LAhHkD4azs",
    "outputId": "f05e43e0-2971-4f67-8464-5b2c92a86abc"
   },
   "outputs": [
    {
     "data": {
      "text/plain": [
       "0    double major tech academy high school worth                                                        \n",
       "1    declare minor undergrad want lawyer                                                                \n",
       "2    get job prefered field                                                                             \n",
       "3    demand gym teachers diminishing                                                                    \n",
       "4    aspiring mathematician stay motivated researching pure mathematics                                 \n",
       "5    top colleges forensic science                                                                      \n",
       "6    take lot work college time work big companies like apple microsoft sony anything video game related\n",
       "7    programmers ide use                                                                                \n",
       "8    majors minors pursue want become psychiatrist                                                      \n",
       "9    get job interior design                                                                            \n",
       "Name: questions_title, dtype: object"
      ]
     },
     "execution_count": 34,
     "metadata": {
      "tags": []
     },
     "output_type": "execute_result"
    }
   ],
   "source": [
    "Data.questions_title.head(10)"
   ]
  },
  {
   "cell_type": "code",
   "execution_count": 6,
   "metadata": {
    "executionInfo": {
     "elapsed": 527,
     "status": "ok",
     "timestamp": 1628663031577,
     "user": {
      "displayName": "Sagar Khode",
      "photoUrl": "",
      "userId": "18017962776089305962"
     },
     "user_tz": -330
    },
    "id": "qazICwC_LpYP"
   },
   "outputs": [],
   "source": [
    "def function(question_body,question_title, tags):\n",
    "  import re\n",
    "  from keras.models import load_model\n",
    "  import tensorflow\n",
    "  import keras\n",
    "  import pickle as pkl\n",
    "  \n",
    "  stopwords= set(['br', 'the', 'i', 'me', 'my', 'myself', 'we', 'our', 'ours', 'ourselves', 'you', \"you're\", \"you've\",\\\n",
    "            \"you'll\", \"you'd\", 'your', 'yours', 'yourself', 'yourselves', 'he', 'him', 'his', 'himself', \\\n",
    "            'she', \"she's\", 'her', 'hers', 'herself', 'it', \"it's\", 'its', 'itself', 'they', 'them', 'their',\\\n",
    "            'theirs', 'themselves', 'what', 'which', 'who', 'whom', 'this', 'that', \"that'll\", 'these', 'those', \\\n",
    "            'am', 'is', 'are', 'was', 'were', 'be', 'been', 'being', 'have', 'has', 'had', 'having', 'do', 'does', \\\n",
    "            'did', 'doing', 'a', 'an', 'the', 'and', 'but', 'if', 'or', 'because', 'as', 'until', 'while', 'of', \\\n",
    "            'at', 'by', 'for', 'with', 'about', 'against', 'between', 'into', 'through', 'during', 'before', 'after',\\\n",
    "            'above', 'below', 'to', 'from', 'up', 'down', 'in', 'out', 'on', 'off', 'over', 'under', 'again', 'further',\\\n",
    "            'then', 'once', 'here', 'there', 'when', 'where', 'why', 'how', 'all', 'any', 'both', 'each', 'few', 'more',\\\n",
    "            'most', 'other', 'some', 'such', 'only', 'own', 'same', 'so', 'than', 'too', 'very', \\\n",
    "            's', 't', 'can', 'will', 'just', 'don', \"don't\", 'should', \"should've\", 'now', 'd', 'll', 'm', 'o', 're', \\\n",
    "            've', 'y', 'ain', 'aren', \"aren't\", 'couldn', \"couldn't\", 'didn', \"didn't\", 'doesn', \"doesn't\", 'hadn',\\\n",
    "            \"hadn't\", 'hasn', \"hasn't\", 'haven', \"haven't\", 'isn', \"isn't\", 'ma', 'mightn', \"mightn't\", 'mustn',\\\n",
    "            \"mustn't\", 'needn', \"needn't\", 'shan', \"shan't\", 'shouldn', \"shouldn't\", 'wasn', \"wasn't\", 'weren', \"weren't\", \\\n",
    "            'won', \"won't\", 'wouldn', \"wouldn't\"])\n",
    "  from bs4 import BeautifulSoup\n",
    "  from tqdm import tqdm\n",
    "  preprocessed_questions_body = []\n",
    "  preprocessed_questions_title = []\n",
    "  preprocessed_tags = []\n",
    "\n",
    "  def decontracted(phrase):\n",
    "    # specific\n",
    "    phrase = re.sub(r\"won't\", \"will not\", phrase)\n",
    "    phrase = re.sub(r\"can\\'t\", \"can not\", phrase)\n",
    "\n",
    "    # general\n",
    "    phrase = re.sub(r\"n\\'t\", \" not\", phrase)\n",
    "    phrase = re.sub(r\"\\'re\", \" are\", phrase)\n",
    "    phrase = re.sub(r\"\\'s\", \" is\", phrase)\n",
    "    phrase = re.sub(r\"\\'d\", \" would\", phrase)\n",
    "    phrase = re.sub(r\"\\'ll\", \" will\", phrase)\n",
    "    phrase = re.sub(r\"\\'t\", \" not\", phrase)\n",
    "    phrase = re.sub(r\"\\'ve\", \" have\", phrase)\n",
    "    phrase = re.sub(r\"\\'m\", \" am\", phrase)\n",
    "    phrase = ' '.join(e.lower() for e in phrase.split() if e.lower() not in stopwords)\n",
    "    # print(type(phrase))\n",
    "    # print(phrase)\n",
    "    return phrase\n",
    "  preprocessed_questions_body = decontracted(question_body)\n",
    "  preprocessed_questions_title= decontracted(question_title)\n",
    "  preprocessed_tags = decontracted(tags)\n",
    "\n",
    "\n",
    "  Complete = preprocessed_questions_body + \" \" + preprocessed_questions_title + \" \" + preprocessed_tags\n",
    "  # print(Complete)\n",
    "  with open('tokenizer.pkl', 'rb') as handle:\n",
    "    tokenizeer=pkl.load(handle)\n",
    "    sequences_test = tokenizeer.texts_to_sequences([Complete])\n",
    "    \n",
    "    padded_text_test = pad_sequences(sequences_test, maxlen=200, padding='post')\n",
    "    print(padded_text_test.shape)\n",
    "\n",
    "  model = load_model('case_study_1_M3.hdf5')\n",
    "  # f_names = model.feature_name\n",
    "  # model.feature_names = list(fg.industry.values)\n",
    "  # f_names = model.feature_names\n",
    "  # print(f_names)\n",
    "  predicted_industry=model.predict(padded_text_test)\n",
    "  # print(predicted_industry)\n",
    "\n",
    "  with open('vectorizer.pkl', 'rb') as handle:\n",
    "    vectorizer=pkl.load(handle)\n",
    "  feature_names = vectorizer.get_feature_names()\n",
    "  feature_names = pd.DataFrame(feature_names)\n",
    "\n",
    "  thresh = 0.01 #0.01\n",
    "  for dat in predicted_industry:\n",
    "    whr = np.where(dat > thresh)\n",
    "\n",
    "    # print(whr)\n",
    "  \n",
    "\n",
    "  predicted_class = feature_names.loc[whr]\n",
    "  print(\"Predicted classes are :\", predicted_class.values)\n",
    "\n",
    "\n",
    "  return predicted_class \n",
    " \n"
   ]
  },
  {
   "cell_type": "code",
   "execution_count": 7,
   "metadata": {
    "colab": {
     "base_uri": "https://localhost:8080/"
    },
    "executionInfo": {
     "elapsed": 17884,
     "status": "ok",
     "timestamp": 1628663051845,
     "user": {
      "displayName": "Sagar Khode",
      "photoUrl": "",
      "userId": "18017962776089305962"
     },
     "user_tz": -330
    },
    "id": "rKJbrDS1-owm",
    "outputId": "a87f8128-6318-41ba-ed9c-549c93d6a5c1"
   },
   "outputs": [
    {
     "name": "stdout",
     "output_type": "stream",
     "text": [
      "(1, 200)\n",
      "Predicted classes are : [['education']\n",
      " ['entertainment']\n",
      " ['information_technology_services']\n",
      " ['management_consulting']\n",
      " ['telecommunications']]\n"
     ]
    }
   ],
   "source": [
    "industry = function(question_body=\"i am student\",question_title=\"i am good in biology\", tags=\"eucational\")"
   ]
  }
 ],
 "metadata": {
  "colab": {
   "collapsed_sections": [],
   "name": "Copy of Deep learning.ipynb",
   "provenance": []
  },
  "kernelspec": {
   "display_name": "Python 3",
   "language": "python",
   "name": "python3"
  },
  "language_info": {
   "codemirror_mode": {
    "name": "ipython",
    "version": 3
   },
   "file_extension": ".py",
   "mimetype": "text/x-python",
   "name": "python",
   "nbconvert_exporter": "python",
   "pygments_lexer": "ipython3",
   "version": "3.8.5"
  }
 },
 "nbformat": 4,
 "nbformat_minor": 1
}
